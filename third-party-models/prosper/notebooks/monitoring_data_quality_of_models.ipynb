{
 "cells": [
  {
   "cell_type": "markdown",
   "metadata": {},
   "source": [
    "## Monitoring data quality in third-party models from the AWS Marketplace"
   ]
  },
  {
   "cell_type": "markdown",
   "metadata": {},
   "source": [
    "**Overview:**\n",
    "The process of implementing a third-party model generally starts with searching for a model that meets your business needs, then thoroughly evaluating and testing the model (using your own ground truth dataset), and finally deploying the model to production. If the statistical nature of the data that your model receives while in production drifts away from the nature of the baseline data it was evaluated on, the model might begin to lose accuracy in its predictions. \n",
    "\n",
    "Amazon SageMaker's [Data quality monitoring](https://docs.aws.amazon.com/sagemaker/latest/dg/model-monitor-data-quality.html) monitors machine learning (ML) models in production and notifies you when data quality issues arise.  Amazon SageMaker Model Monitor uses rules to detect data drift and alerts you when it happens. These alerts will help you understand whether you would need to re-evalute the ML model to see if it is still providing you the correct outputs. If it is not, you would need to request the third party seller to retrain and provide a new version of the AWS Marketplace model. \n",
    "\n",
    "In this notebook, you will learn how to perform Data Quality monitoring on a pre-trained third-party model from the AWS Marketplace.\n",
    "\n",
    "**Contents:**\n",
    "- Pre-requisites\n",
    "- Step 1. Initial setup\n",
    "    - 1.1 [Import packages and modules](#section_1_1)\n",
    "    - 1.2 [Set global variables](#section_1_2)\n",
    "    - 1.3 [Uploading sample datasets to your S3 bucket](#section_1_3)\n",
    "- Step 2. Create and deploy the model endpoint with data capture\n",
    "    - 2.1 [Create the model](#section_2_1)\n",
    "    - 2.2 [Create the endpoint configuration with DataCapture](#section_2_2)\n",
    "    - 2.3 [Create the model endpoint](#section_2_3)\n",
    "    - 2.4 [Periodically check if the model's endpoint has changed from 'Creating' to 'InService'](#section_2_4)\n",
    "- Step 3. Create a baselining job to suggest a set of baseline constraints\n",
    "    - 3.1 [Create baselining job](#section_3_1)\n",
    "- Step 4. Setup a monitoring schedule to monitor the data captured for the model's endpoint\n",
    "    - 4.1 [Create a monitoring schedule](#section_4_1)\n",
    "- Step 5. Invoking the inference endpoint with anomalous data\n",
    "    - 5.1 [Create a wrapper function for the Predictor](#section_5_1)\n",
    "    - 5.2 [Generate some data quality constraint violations](#section_5_2)\n",
    "    - 5.3 [Check the model monitoring processing job for completion](#section_5_3)\n",
    "- Step 6. Invoking the inference endpoint with anomalous data\n",
    "    - 6.1 [Visualize the model monitor results](#section_6_1)\n",
    "    - 6.2 [Import the SageMaker-Model-Monitor-Visualize.ipynb notebook](#section_6_2)\n",
    "    - 6.3 [Run the SageMaker-Model-Monitor-Visualize.ipynb notebook](#section_6_3)    \n",
    "\n",
    "**Pre-requisites**\n",
    "\n",
    "This notebook requires a subscription to the [Propensity-Planning to Buy a House](https://aws.amazon.com/marketplace/pp/prodview-vzofptk4lnxii) model, a pre-trained machine learning model package from AWS Marketplace.\n",
    "\n",
    "1. Open the [Propensity-Planning to Buy a House](https://aws.amazon.com/marketplace/pp/prodview-vzofptk4lnxii) model in your browser. \n",
    "\n",
    "2. To subscribe to the model package, follow these steps: \n",
    "  1. Review the information available on the product details page including **Support Terms** .\n",
    "  1. Click on **\"Continue to Subscribe\"**. You will now see the **\"Subscribe to this software\"** page. \n",
    "  1. Review **End User License Agreement** and **Pricing Terms**.\n",
    "  1. **\"Accept Offer\"** button needs to be clicked if your organization agrees with EULA, pricing information and support terms.\n",
    "  1. Once you click on **Continue to configuration** button and then choose a region, you will see a **Product Arn** displayed. This is the model package ARN that you need to specify while creating a deployable model using Boto3.  Copy the Model Package ARN and replace its contents in following cell. \n",
    "  \n",
    " \n",
    "Note: \n",
    "Products with **Free Trials**, do not incur hourly software charges during free trial period, but AWS infrastructure charges still apply. Free Trials will automatically convert to a paid hourly subscription upon expiration. We have included steps below to cancel subscription at the end of this exercise. \n"
   ]
  },
  {
   "cell_type": "code",
   "execution_count": null,
   "metadata": {},
   "outputs": [],
   "source": [
    "#MODEL_PACKAGE_ARN=''\n",
    "MODEL_PACKAGE_ARN = 'arn:aws:sagemaker:us-east-1:865070037744:model-package/planning-to-buy-house-basic-28fcb3ca751705854a7171b255d8ef43'  # Update as needed"
   ]
  },
  {
   "cell_type": "markdown",
   "metadata": {},
   "source": [
    "<a id=section_1_1></a>\n",
    "#### 1.1 Import packages and modules"
   ]
  },
  {
   "cell_type": "code",
   "execution_count": null,
   "metadata": {},
   "outputs": [],
   "source": [
    "import boto3\n",
    "import pandas as pd\n",
    "import requests\n",
    "import time\n",
    "import io\n",
    "\n",
    "from time import gmtime, strftime\n",
    "\n",
    "from sagemaker import get_execution_role\n",
    "from sagemaker import session\n",
    "from sagemaker import ModelPackage\n",
    "\n",
    "from sagemaker.predictor import Predictor\n",
    "from sagemaker.serializers import CSVSerializer\n",
    "\n",
    "from sagemaker.model_monitor import CronExpressionGenerator, DataCaptureConfig, DefaultModelMonitor, MonitoringExecution\n",
    "from sagemaker.model_monitor.dataset_format import DatasetFormat"
   ]
  },
  {
   "cell_type": "markdown",
   "metadata": {},
   "source": [
    "<a id=section_1_2></a>\n",
    "#### 1.2 Set global variables"
   ]
  },
  {
   "cell_type": "code",
   "execution_count": null,
   "metadata": {},
   "outputs": [],
   "source": [
    "# Get IAM role and SakeMaker session\n",
    "role = get_execution_role()\n",
    "session = session.Session()\n",
    "\n",
    "# Set service clients\n",
    "s3_client = boto3.client('s3')\n",
    "sm_client = boto3.client('sagemaker')\n",
    "smr_client = boto3.client('sagemaker-runtime')\n",
    "\n",
    "# S3\n",
    "BUCKET = session.default_bucket() # Update as needed\n",
    "PREFIX = 'third-party-model-seller-name' # Update as needed\n",
    "\n",
    "S3_DATA_CAPTURE_URI = 's3://{}/{}/datacapture'.format(BUCKET, PREFIX)\n",
    "S3_BASELINE_DATASET_URI = 's3://{}/{}/train/{}'.format(BUCKET, PREFIX, 'baseline.csv')\n",
    "S3_BASELINE_ANALYSIS_RESULTS_URI = 's3://{}/{}/baselining'.format(BUCKET, PREFIX)\n",
    "S3_DATA_QUALITY_RPT_URI = 's3://{}/{}/reports'.format(BUCKET, PREFIX)\n",
    "\n",
    "# Model\n",
    "MODEL_ENDPOINT = 'third-party-model-endpoint'\n",
    "MODEL_BASELINE_JOB = 'third-party-model-baseline-job'\n",
    "MODEL_MONITOR_SCHEDULE_NAME = 'third-party-model-data-quality-schedule'\n",
    "MODEL_MONITOR_INSTANCE_TYPE = 'ml.m4.xlarge'\n",
    "MODEL_INFERENCE_INSTANCE_TYPE = 'ml.m4.xlarge'\n",
    "MODEL_INSTANCE_COUNT = 1\n",
    "MODEL_BASELINE_JOB_NAME = '{}-{}'.format(MODEL_BASELINE_JOB, strftime(\"%Y-%m-%d-%H-%M-%S\", gmtime()))"
   ]
  },
  {
   "cell_type": "markdown",
   "metadata": {},
   "source": [
    "<a id=section_1_3></a>\n",
    "#### 1.3 Uploading sample datasets to your S3 bucket"
   ]
  },
  {
   "cell_type": "markdown",
   "metadata": {},
   "source": [
    "The [baseline.csv](https://raw.githubusercontent.com/william-screen/model-monitor/main/third-party-models/prosper/data/baseline.csv) and [data_quality_drift.csv](https://raw.githubusercontent.com/william-screen/model-monitor/main/third-party-models/prosper/data/data_quality_drift.csv) files are curated datasets I created by modifying the seller's [sample notebook](https://github.com/goprosper/prosper-sagemaker-basic-geo/blob/master/using_prosper_model_package_basic_geo.ipynb) to return high propensity and low propensity values (respectively) for generating a baseline_drift_check constraint violation.\n",
    "\n",
    "Additionally, the data_quality_drift.csv file contains some rows with anomolous data that are used to demonstrate data_type_check and completeness_check constraint violations.\n",
    "\n",
    "The baseline.csv file contains 29 columns and 301 rows with the first column as the target value (prediction)\n",
    "\n",
    "The data_quality_drift.csv file contains 28 columns and 200 rows and is designed to illustrate a degredation in data quality from the baseline dataset.\n",
    "\n",
    "For reference, here's the folder structure used for this demo if you're planning to upload the datasets and run the notebook:\n",
    "\n",
    "<pre>\n",
    "+---data\n",
    "|       baseline.csv\n",
    "|       data_quality_drift.csv\n",
    "+---notebooks\n",
    "|       monitoring_data_quality_of_models.ipynb\n",
    "</pre>"
   ]
  },
  {
   "cell_type": "code",
   "execution_count": null,
   "metadata": {},
   "outputs": [],
   "source": [
    "with open('../data/baseline.csv', \"rb\") as f:\n",
    "    s3_client.upload_fileobj(f, BUCKET, '{}/train/{}'.format(PREFIX, 'baseline.csv'))"
   ]
  },
  {
   "cell_type": "code",
   "execution_count": null,
   "metadata": {},
   "outputs": [],
   "source": [
    "with open('../data/data_quality_drift.csv', \"rb\") as f:\n",
    "    s3_client.upload_fileobj(f, BUCKET, '{}/train/{}'.format( PREFIX, 'data_quality_drift.csv'))"
   ]
  },
  {
   "cell_type": "markdown",
   "metadata": {},
   "source": [
    "<a id=section_2_1></a>\n",
    "#### 2.1 Create the model\n",
    "\n",
    "Creates a model in Amazon SageMaker from a model package."
   ]
  },
  {
   "cell_type": "code",
   "execution_count": null,
   "metadata": {},
   "outputs": [],
   "source": [
    "#Create a deployable model for damage inspection model package.\n",
    "model = ModelPackage(role=role, model_package_arn=MODEL_PACKAGE_ARN, sagemaker_session=session)"
   ]
  },
  {
   "cell_type": "markdown",
   "metadata": {},
   "source": [
    "<a id=section_2_2></a>\n",
    "#### 2.2 Deploy model while enabling DataCapture\n",
    "\n",
    "Creates an endpoint configuration that Amazon SageMaker hosting services uses to deploy models."
   ]
  },
  {
   "cell_type": "code",
   "execution_count": 21,
   "metadata": {},
   "outputs": [
    {
     "name": "stdout",
     "output_type": "stream",
     "text": [
      "--!CPU times: user 298 ms, sys: 26 ms, total: 324 ms\n",
      "Wall time: 9min 32s\n"
     ]
    }
   ],
   "source": [
    "%%time\n",
    "\n",
    "# Set data capture configuration settings\n",
    "data_capture_config = DataCaptureConfig(enable_capture=True,\n",
    "                                        sampling_percentage=100,\n",
    "                                        destination_s3_uri=S3_DATA_CAPTURE_URI,\n",
    "                                        csv_content_types=[\"text/csv\"])\n",
    "\n",
    "# Deploy the model\n",
    "model.deploy(initial_instance_count=MODEL_INSTANCE_COUNT,\n",
    "             instance_type=MODEL_INFERENCE_INSTANCE_TYPE,\n",
    "             endpoint_name=MODEL_ENDPOINT,\n",
    "             data_capture_config=data_capture_config)"
   ]
  },
  {
   "cell_type": "markdown",
   "metadata": {},
   "source": [
    "<a id=section_3_1></a>\n",
    "#### 3.1 Create a baselining job"
   ]
  },
  {
   "cell_type": "markdown",
   "metadata": {},
   "source": [
    "The baseline calculations of statistics and constraints are needed as a standard against which data drift and other data quality issues can be detected. This job generates baseline statistics and suggests baseline constraints for the dataset and writes them to the output_s3_uri location that you specify."
   ]
  },
  {
   "cell_type": "code",
   "execution_count": 22,
   "metadata": {},
   "outputs": [
    {
     "name": "stdout",
     "output_type": "stream",
     "text": [
      "\n",
      "Job Name:  third-party-model-baseline-job-v4-2021-01-19-14-32-54\n",
      "Inputs:  [{'InputName': 'baseline_dataset_input', 'S3Input': {'S3Uri': 's3://sagemaker-us-east-1-717870172810/third-party-model-seller-name-v4/train/baseline.csv', 'LocalPath': '/opt/ml/processing/input/baseline_dataset_input', 'S3DataType': 'S3Prefix', 'S3InputMode': 'File', 'S3DataDistributionType': 'FullyReplicated', 'S3CompressionType': 'None'}}]\n",
      "Outputs:  [{'OutputName': 'monitoring_output', 'S3Output': {'S3Uri': 's3://sagemaker-us-east-1-717870172810/third-party-model-seller-name-v4/baselining', 'LocalPath': '/opt/ml/processing/output', 'S3UploadMode': 'EndOfJob'}}]\n",
      "........................................................................!CPU times: user 448 ms, sys: 28.9 ms, total: 477 ms\n",
      "Wall time: 6min 1s\n"
     ]
    }
   ],
   "source": [
    "%%time\n",
    "\n",
    "# Initializes a Monitor instance\n",
    "default_model_monitor = DefaultModelMonitor(role=role,\n",
    "                                            instance_count=MODEL_INSTANCE_COUNT,\n",
    "                                            instance_type=MODEL_MONITOR_INSTANCE_TYPE)\n",
    "\n",
    "# Suggest baselines for use with Amazon SageMaker Model Monitoring Schedules\n",
    "job = default_model_monitor.suggest_baseline(job_name = MODEL_BASELINE_JOB_NAME,\n",
    "                                             baseline_dataset=S3_BASELINE_DATASET_URI,\n",
    "                                             dataset_format=DatasetFormat.csv(header=True),\n",
    "                                             output_s3_uri=S3_BASELINE_ANALYSIS_RESULTS_URI,\n",
    "                                             wait=True,\n",
    "                                             logs=False)"
   ]
  },
  {
   "cell_type": "markdown",
   "metadata": {},
   "source": [
    "<a id=section_4_1></a>\n",
    "#### 4.1 Create a monitoring schedule\n",
    "\n",
    "In this step, you create a schedule that starts Amazon SageMaker Processing Jobs every hour to monitor the data captured for an Amazon SageMaker Endoint.\n",
    "\n",
    "**Note:** Even for an hourly schedule, Amazon SageMaker has a buffer period of 20 minutes to schedule your execution. You might see your execution start anywhere between the first ~20 minutes after the hour boundary (i.e. 00:00 – 00:20). This is expected and done for load balancing on the backend."
   ]
  },
  {
   "cell_type": "code",
   "execution_count": 23,
   "metadata": {},
   "outputs": [
    {
     "name": "stdout",
     "output_type": "stream",
     "text": [
      ">> The current status of monitoring schedule \"third-party-model-data-quality-schedule-v4\" is Scheduled\n"
     ]
    }
   ],
   "source": [
    "# Creates a schedule that regularly starts a processing jobs to monitor the data captured for the model's endoint\n",
    "default_model_monitor.create_monitoring_schedule(\n",
    "    monitor_schedule_name = MODEL_MONITOR_SCHEDULE_NAME,\n",
    "    endpoint_input = MODEL_ENDPOINT,\n",
    "    output_s3_uri = S3_DATA_QUALITY_RPT_URI,\n",
    "    statistics = default_model_monitor.baseline_statistics(),\n",
    "    constraints = default_model_monitor.suggested_constraints(),\n",
    "    schedule_cron_expression = CronExpressionGenerator.hourly())\n",
    "\n",
    "# Allow time for processing\n",
    "time.sleep(30)\n",
    "\n",
    "# Print the current status\n",
    "monitor_schedule_details = default_model_monitor.describe_schedule()['MonitoringScheduleStatus']\n",
    "print('>> The current status of monitoring schedule \"{0}\" is {1}'.format(MODEL_MONITOR_SCHEDULE_NAME, monitor_schedule_details))"
   ]
  },
  {
   "cell_type": "markdown",
   "metadata": {},
   "source": [
    "<a id=section_5_1></a>\n",
    "#### 5.1 Create a wrapper function for the Predictor\n",
    "\n",
    "The Predictor object is used to invoke the model's real-time inference endpoint to make predictions based on sample data. This function adds some defensive coding, a time delay, and decodes the response."
   ]
  },
  {
   "cell_type": "code",
   "execution_count": 24,
   "metadata": {},
   "outputs": [],
   "source": [
    "# Create predictor endpoint\n",
    "predictor = Predictor(endpoint_name=MODEL_ENDPOINT, sagemaker_session=None, serializer=CSVSerializer())"
   ]
  },
  {
   "cell_type": "code",
   "execution_count": 25,
   "metadata": {},
   "outputs": [],
   "source": [
    "def predict(sample, delay=0.5):\n",
    "    \"\"\"Return the inference from the model's endpoint.\n",
    "    Args:\n",
    "        sample (str): Sample data from client\n",
    "        delay (float): The number of seconds execution is suspended\n",
    "    Returns:\n",
    "        (string): inference data from the model's endpoint\n",
    "    \"\"\"    \n",
    "    if(len(sample) > 0):\n",
    "        time.sleep(delay)\n",
    "        return predictor.predict(data=sample).decode('utf-8')"
   ]
  },
  {
   "cell_type": "markdown",
   "metadata": {},
   "source": [
    "<a id=section_5_2></a>\n",
    "#### 5.2 Generate some data quality constraint violations"
   ]
  },
  {
   "cell_type": "markdown",
   "metadata": {},
   "source": [
    "For this demo, we'll generate a couple of [data quality constraint violations](https://docs.aws.amazon.com/sagemaker/latest/dg/model-monitor-interpreting-violations.html) (data_type_check, completeness_check, and baseline_drift_check) for Amazon SageMaker Model Monitor to detect.\n",
    "\n",
    "Here's the structure of the data_quality_drift.csv file:\n",
    "\n",
    "- Rows 1-10:  Samples with negative floating point values (instead of positive integers) in the 3rd and 4th columns\n",
    "- Rows 11-20: Samples with missing values in the 2nd column\n",
    "- Rows 20-200: Samples that yield a low propensity prediction that deviates from the baseline dataset\n",
    "\n",
    "We'll use array slicing for accessing the anomolous sample data."
   ]
  },
  {
   "cell_type": "code",
   "execution_count": 26,
   "metadata": {},
   "outputs": [],
   "source": [
    "# Convert to Dataframe\n",
    "df = pd.read_csv('../data/data_quality_drift.csv', header=None, na_filter=False)\n",
    "\n",
    "# List values by column to maintain the column dtype\n",
    "samples = [df[x].values.tolist() for x in df.columns]\n",
    "\n",
    "# Use unpacking operator * to unzip the data\n",
    "samples = list(list(x) for x in zip(*samples))"
   ]
  },
  {
   "cell_type": "markdown",
   "metadata": {},
   "source": [
    "Here we'll generate a data_type_check constraint violation"
   ]
  },
  {
   "cell_type": "code",
   "execution_count": 27,
   "metadata": {},
   "outputs": [
    {
     "name": "stdout",
     "output_type": "stream",
     "text": [
      "Sample 0 >> Input: [1, '3', 22, -0.25, -42.0, 0, 0, 0, 0, 0, 0, 0, 0, 0, 0, 0, 0, 0, 1, 0, 0, 0, 0, 1, 0, 0, 0, 0]: >> Prediction: 0.6004737615585327\n",
      "Sample 1 >> Input: [1, '3', 21, -0.25, -42.0, 1, 0, 0, 0, 0, 0, 0, 0, 0, 0, 0, 0, 0, 0, 0, 0, 1, 0, 0, 0, 0, 0, 0]: >> Prediction: 0.5937598347663879\n",
      "Sample 2 >> Input: [1, '4', 24, -0.25, -42.0, 0, 0, 0, 0, 0, 0, 0, 0, 0, 0, 0, 0, 1, 0, 0, 0, 0, 0, 0, 0, 1, 0, 0]: >> Prediction: 0.6058259606361389\n",
      "Sample 3 >> Input: [1, '4', 24, -0.25, -42.0, 0, 0, 0, 0, 0, 0, 0, 0, 0, 0, 0, 1, 0, 0, 0, 0, 1, 0, 0, 0, 0, 0, 0]: >> Prediction: 0.6058259606361389\n",
      "Sample 4 >> Input: [1, '3', 21, -0.25, -42.0, 0, 0, 0, 0, 0, 0, 0, 0, 0, 0, 0, 0, 1, 0, 0, 0, 0, 1, 0, 0, 0, 0, 0]: >> Prediction: 0.5937598347663879\n",
      "Sample 5 >> Input: [1, '3', 20, -0.25, -42.0, 0, 0, 0, 0, 0, 0, 0, 0, 0, 0, 0, 0, 0, 1, 0, 0, 0, 0, 1, 0, 0, 0, 0]: >> Prediction: 0.5937598347663879\n",
      "Sample 6 >> Input: [1, '3', 20, -0.25, -42.0, 0, 1, 0, 0, 0, 0, 0, 0, 0, 0, 0, 0, 0, 0, 0, 1, 0, 0, 0, 0, 0, 0, 0]: >> Prediction: 0.5937598347663879\n",
      "Sample 7 >> Input: [1, '3', 23, -0.25, -42.0, 0, 0, 0, 1, 0, 0, 0, 0, 0, 0, 0, 0, 0, 0, 0, 1, 0, 0, 0, 0, 0, 0, 0]: >> Prediction: 0.6004737615585327\n",
      "Sample 8 >> Input: [1, '4', 23, -0.25, -42.0, 0, 0, 0, 0, 0, 0, 1, 0, 0, 0, 0, 0, 0, 0, 0, 1, 0, 0, 0, 0, 0, 0, 0]: >> Prediction: 0.6058259606361389\n",
      "Sample 9 >> Input: [1, '3', 21, -0.25, -42.0, 0, 0, 0, 0, 0, 0, 1, 0, 0, 0, 0, 0, 0, 0, 0, 0, 0, 0, 0, 0, 1, 0, 0]: >> Prediction: 0.5937598347663879\n"
     ]
    }
   ],
   "source": [
    "# Invoke real-time inference endpoint \n",
    "for index, sample in enumerate(samples[0:10]):\n",
    "\n",
    "    # Get inference response\n",
    "    response = predict(sample)\n",
    "\n",
    "    # Display the model's prediction probability\n",
    "    print('Sample {0} >> Input: {1}: >> Prediction: {2}'.format(index, sample, response))"
   ]
  },
  {
   "cell_type": "markdown",
   "metadata": {},
   "source": [
    "Now, let's generate a completeness_check constraint violation"
   ]
  },
  {
   "cell_type": "code",
   "execution_count": 28,
   "metadata": {},
   "outputs": [
    {
     "name": "stdout",
     "output_type": "stream",
     "text": [
      "Sample 0 >> Input: [1, '', 22, 0.0, 0.0, 0, 0, 0, 0, 0, 0, 0, 0, 0, 0, 0, 0, 0, 1, 0, 0, 0, 0, 1, 0, 0, 0, 0]: >> Prediction: 0.5373708009719849\n",
      "Sample 1 >> Input: [1, '', 21, 0.0, 0.0, 1, 0, 0, 0, 0, 0, 0, 0, 0, 0, 0, 0, 0, 0, 0, 0, 1, 0, 0, 0, 0, 0, 0]: >> Prediction: 0.5304257273674011\n",
      "Sample 2 >> Input: [1, '', 24, 0.0, 0.0, 0, 0, 0, 0, 0, 0, 0, 0, 0, 0, 0, 0, 1, 0, 0, 0, 0, 0, 0, 0, 1, 0, 0]: >> Prediction: 0.5373708009719849\n",
      "Sample 3 >> Input: [1, '', 24, 0.0, 0.0, 0, 0, 0, 0, 0, 0, 0, 0, 0, 0, 0, 1, 0, 0, 0, 0, 1, 0, 0, 0, 0, 0, 0]: >> Prediction: 0.5373708009719849\n",
      "Sample 4 >> Input: [1, '', 21, 0.0, 0.0, 0, 0, 0, 0, 0, 0, 0, 0, 0, 0, 0, 0, 1, 0, 0, 0, 0, 1, 0, 0, 0, 0, 0]: >> Prediction: 0.5304257273674011\n",
      "Sample 5 >> Input: [1, '', 20, 0.0, 0.0, 0, 0, 0, 0, 0, 0, 0, 0, 0, 0, 0, 0, 0, 1, 0, 0, 0, 0, 1, 0, 0, 0, 0]: >> Prediction: 0.5304257273674011\n",
      "Sample 6 >> Input: [1, '', 20, 0.0, 0.0, 0, 1, 0, 0, 0, 0, 0, 0, 0, 0, 0, 0, 0, 0, 0, 1, 0, 0, 0, 0, 0, 0, 0]: >> Prediction: 0.5304257273674011\n",
      "Sample 7 >> Input: [1, '', 23, 0.0, 0.0, 0, 0, 0, 1, 0, 0, 0, 0, 0, 0, 0, 0, 0, 0, 0, 1, 0, 0, 0, 0, 0, 0, 0]: >> Prediction: 0.5373708009719849\n",
      "Sample 8 >> Input: [1, '', 23, 0.0, 0.0, 0, 0, 0, 0, 0, 0, 1, 0, 0, 0, 0, 0, 0, 0, 0, 1, 0, 0, 0, 0, 0, 0, 0]: >> Prediction: 0.5373708009719849\n",
      "Sample 9 >> Input: [1, '', 21, 0.0, 0.0, 0, 0, 0, 0, 0, 0, 1, 0, 0, 0, 0, 0, 0, 0, 0, 0, 0, 0, 0, 0, 1, 0, 0]: >> Prediction: 0.5304257273674011\n"
     ]
    }
   ],
   "source": [
    "# Invoke real-time inference endpoint \n",
    "for index, sample in enumerate(samples[10:20]):\n",
    "\n",
    "    # Get inference response\n",
    "    response = predict(sample)\n",
    "    \n",
    "    # Display the model's prediction probability\n",
    "    print('Sample {0} >> Input: {1}: >> Prediction: {2}'.format(index, sample, response))"
   ]
  },
  {
   "cell_type": "markdown",
   "metadata": {},
   "source": [
    "Finally, we'll generate a baseline_drift_check constraint violation"
   ]
  },
  {
   "cell_type": "code",
   "execution_count": 29,
   "metadata": {},
   "outputs": [
    {
     "name": "stdout",
     "output_type": "stream",
     "text": [
      "Sample 0 >> Input: [1, '6', 5, 0.0, 0.0, 1, 0, 0, 0, 0, 0, 0, 0, 0, 0, 0, 0, 0, 0, 0, 0, 1, 0, 0, 0, 0, 0, 0]: >> Prediction: 0.45879191160202026\n",
      "Sample 1 >> Input: [1, '3', 1, 0.0, 0.0, 0, 0, 0, 0, 0, 0, 0, 0, 0, 0, 1, 0, 0, 0, 0, 0, 0, 0, 0, 1, 0, 0, 0]: >> Prediction: 0.5094481706619263\n",
      "Sample 2 >> Input: [1, '4', 1, 0.0, 0.0, 0, 0, 0, 0, 0, 0, 0, 0, 0, 0, 1, 0, 0, 0, 0, 0, 0, 1, 0, 0, 0, 0, 0]: >> Prediction: 0.49388447403907776\n",
      "Sample 3 >> Input: [1, '5', 6, 0.0, 0.0, 0, 0, 0, 0, 0, 0, 0, 0, 0, 0, 0, 0, 0, 1, 0, 0, 0, 0, 0, 0, 1, 0, 0]: >> Prediction: 0.4816320240497589\n",
      "Sample 4 >> Input: [0, '2', 9, 0.0, 0.0, 0, 0, 0, 0, 0, 0, 0, 0, 0, 0, 1, 0, 0, 0, 0, 0, 0, 0, 0, 0, 1, 0, 0]: >> Prediction: 0.5360277891159058\n",
      "Sample 5 >> Input: [1, '6', 9, 0.0, 0.0, 0, 0, 0, 0, 0, 0, 0, 0, 0, 0, 0, 1, 0, 0, 0, 0, 0, 0, 0, 1, 0, 0, 0]: >> Prediction: 0.45879191160202026\n",
      "Sample 6 >> Input: [0, '5', 14, 0.0, 0.0, 0, 0, 0, 0, 0, 0, 0, 1, 0, 0, 0, 0, 0, 0, 0, 0, 0, 0, 0, 0, 0, 0, 1]: >> Prediction: 0.46682441234588623\n",
      "Sample 7 >> Input: [1, '6', 16, 1.0, 0.0, 0, 0, 0, 0, 0, 0, 0, 0, 0, 0, 0, 0, 0, 0, 0, 0, 1, 0, 0, 0, 0, 0, 0]: >> Prediction: 0.4738529920578003\n",
      "Sample 8 >> Input: [1, '3', 3, 0.0, 0.0, 0, 0, 1, 0, 0, 0, 0, 0, 0, 0, 0, 0, 0, 0, 0, 1, 0, 0, 0, 0, 0, 0, 0]: >> Prediction: 0.5094481706619263\n",
      "Sample 9 >> Input: [1, '3', 2, 0.0, 0.0, 0, 0, 0, 0, 0, 0, 0, 0, 0, 0, 0, 0, 0, 1, 0, 0, 0, 0, 0, 1, 0, 0, 0]: >> Prediction: 0.5094481706619263\n",
      "Sample 10 >> Input: [0, '1', 8, 0.0, 0.0, 0, 0, 0, 0, 0, 0, 0, 0, 0, 0, 1, 0, 0, 0, 0, 0, 0, 0, 0, 0, 1, 0, 0]: >> Prediction: 0.5360277891159058\n",
      "Sample 11 >> Input: [0, '1', 9, 1.0, 0.0, 0, 0, 0, 0, 0, 0, 0, 0, 0, 0, 0, 0, 0, 0, 0, 0, 0, 0, 1, 0, 0, 0, 0]: >> Prediction: 0.5360277891159058\n",
      "Sample 12 >> Input: [0, '4', 15, 0.0, 0.0, 0, 0, 0, 0, 0, 0, 0, 0, 0, 0, 0, 0, 1, 0, 0, 1, 0, 0, 0, 0, 0, 0, 0]: >> Prediction: 0.5158764719963074\n",
      "Sample 13 >> Input: [1, '2', 10, 0.0, 0.0, 0, 0, 0, 0, 0, 0, 0, 0, 0, 0, 0, 1, 0, 0, 0, 0, 1, 0, 0, 0, 0, 0, 0]: >> Prediction: 0.5360097289085388\n",
      "Sample 14 >> Input: [1, '6', 24, 0.0, 0.0, 0, 0, 0, 0, 0, 0, 0, 0, 0, 0, 1, 0, 0, 0, 0, 0, 0, 1, 0, 0, 0, 0, 0]: >> Prediction: 0.5005363821983337\n",
      "Sample 15 >> Input: [1, '6', 14, 0.0, 0.0, 0, 0, 0, 0, 0, 0, 0, 0, 0, 0, 1, 0, 0, 0, 0, 0, 0, 1, 0, 0, 0, 0, 0]: >> Prediction: 0.4738529920578003\n",
      "Sample 16 >> Input: [0, '5', 7, 0.0, 0.0, 0, 0, 0, 0, 0, 0, 0, 1, 0, 0, 0, 0, 0, 0, 0, 0, 0, 0, 0, 0, 0, 0, 1]: >> Prediction: 0.45772016048431396\n",
      "Sample 17 >> Input: [1, '3', 5, 0.0, 0.0, 0, 0, 0, 0, 0, 0, 0, 0, 0, 0, 0, 0, 0, 1, 0, 0, 0, 0, 0, 1, 0, 0, 0]: >> Prediction: 0.5360097289085388\n",
      "Sample 18 >> Input: [0, '2', 15, 0.0, 0.0, 0, 0, 0, 1, 0, 0, 0, 0, 0, 0, 0, 0, 0, 0, 0, 0, 0, 0, 0, 0, 0, 0, 1]: >> Prediction: 0.5332252979278564\n",
      "Sample 19 >> Input: [0, '3', 10, 0.0, 0.0, 0, 0, 0, 0, 0, 0, 0, 0, 0, 0, 0, 1, 0, 0, 0, 0, 0, 0, 0, 1, 0, 0, 0]: >> Prediction: 0.5360277891159058\n",
      "Sample 20 >> Input: [0, '5', 5, 0.0, 0.0, 0, 0, 0, 0, 0, 0, 0, 0, 0, 0, 1, 0, 0, 0, 0, 0, 0, 0, 0, 0, 0, 1, 0]: >> Prediction: 0.45772016048431396\n",
      "Sample 21 >> Input: [0, '6', 9, 0.0, 0.0, 0, 0, 0, 0, 0, 0, 0, 0, 0, 0, 1, 0, 0, 0, 0, 0, 0, 1, 0, 0, 0, 0, 0]: >> Prediction: 0.4578031301498413\n",
      "Sample 22 >> Input: [0, '1', 1, 0.0, 0.0, 0, 0, 0, 0, 0, 1, 0, 0, 0, 0, 0, 0, 0, 0, 0, 0, 0, 0, 1, 0, 0, 0, 0]: >> Prediction: 0.5188708305358887\n",
      "Sample 23 >> Input: [1, '1', 8, 0.0, 0.0, 0, 0, 0, 0, 0, 0, 0, 0, 0, 0, 0, 0, 1, 0, 0, 0, 0, 0, 0, 0, 0, 0, 1]: >> Prediction: 0.5360097289085388\n",
      "Sample 24 >> Input: [0, '3', 23, 0.0, 0.0, 0, 0, 0, 0, 0, 0, 0, 0, 0, 0, 0, 0, 1, 0, 0, 0, 0, 0, 0, 0, 0, 0, 1]: >> Prediction: 0.5509276390075684\n",
      "Sample 25 >> Input: [1, '3', 19, 0.0, 0.0, 0, 0, 1, 0, 0, 0, 0, 0, 0, 0, 0, 0, 0, 0, 0, 0, 0, 0, 0, 0, 0, 1, 0]: >> Prediction: 0.5937598347663879\n",
      "Sample 26 >> Input: [0, '4', 9, 0.0, 0.0, 0, 0, 0, 0, 0, 0, 0, 0, 0, 0, 1, 0, 0, 0, 0, 0, 0, 1, 0, 0, 0, 0, 0]: >> Prediction: 0.5028297305107117\n",
      "Sample 27 >> Input: [1, '6', 1, 0.0, 0.0, 0, 1, 0, 0, 0, 0, 0, 0, 0, 0, 0, 0, 0, 0, 0, 0, 1, 0, 0, 0, 0, 0, 0]: >> Prediction: 0.470991313457489\n",
      "Sample 28 >> Input: [0, '4', 13, 0.0, 0.0, 0, 0, 1, 0, 0, 0, 0, 0, 0, 0, 0, 0, 0, 0, 0, 1, 0, 0, 0, 0, 0, 0, 0]: >> Prediction: 0.5158764719963074\n",
      "Sample 29 >> Input: [0, '3', 20, 0.0, 0.0, 0, 0, 0, 0, 0, 0, 0, 0, 0, 0, 0, 0, 1, 0, 1, 0, 0, 0, 0, 0, 0, 0, 0]: >> Prediction: 0.5440133213996887\n",
      "Sample 30 >> Input: [0, '4', 2, 0.0, 0.0, 0, 0, 0, 0, 0, 0, 0, 0, 0, 0, 1, 0, 0, 0, 0, 0, 1, 0, 0, 0, 0, 0, 0]: >> Prediction: 0.4856231212615967\n",
      "Sample 31 >> Input: [1, '1', 21, 0.0, 0.0, 0, 0, 0, 0, 0, 0, 0, 0, 0, 0, 0, 0, 1, 0, 0, 0, 0, 0, 0, 0, 0, 0, 1]: >> Prediction: 0.5304257273674011\n",
      "Sample 32 >> Input: [1, '5', 0, 0.0, 0.0, 0, 0, 1, 0, 0, 0, 0, 0, 0, 0, 0, 0, 0, 0, 0, 1, 0, 0, 0, 0, 0, 0, 0]: >> Prediction: 0.4866846799850464\n",
      "Sample 33 >> Input: [1, '3', 8, 0.0, 0.0, 0, 0, 0, 0, 0, 0, 0, 0, 0, 0, 0, 0, 1, 0, 0, 0, 1, 0, 0, 0, 0, 0, 0]: >> Prediction: 0.551025927066803\n",
      "Sample 34 >> Input: [1, '6', 24, 0.0, 0.0, 0, 0, 0, 0, 0, 0, 0, 0, 0, 0, 0, 1, 0, 0, 0, 0, 1, 0, 0, 0, 0, 0, 0]: >> Prediction: 0.5005363821983337\n",
      "Sample 35 >> Input: [1, '3', 19, 0.0, 1.0, 0, 0, 0, 0, 0, 0, 0, 0, 0, 0, 0, 0, 0, 0, 0, 1, 0, 0, 0, 0, 0, 0, 0]: >> Prediction: 0.590269148349762\n",
      "Sample 36 >> Input: [0, '4', 13, 0.0, 0.0, 0, 0, 0, 0, 0, 0, 1, 0, 0, 0, 0, 0, 0, 0, 0, 0, 0, 0, 0, 1, 0, 0, 0]: >> Prediction: 0.5158764719963074\n",
      "Sample 37 >> Input: [0, '6', 5, 0.0, 0.0, 0, 0, 0, 0, 0, 0, 0, 0, 0, 0, 0, 0, 0, 1, 0, 0, 0, 0, 0, 0, 1, 0, 0]: >> Prediction: 0.4578031301498413\n",
      "Sample 38 >> Input: [0, '6', 3, 0.0, 0.0, 0, 0, 0, 0, 0, 0, 0, 0, 0, 0, 0, 0, 1, 0, 0, 0, 1, 0, 0, 0, 0, 0, 0]: >> Prediction: 0.462829053401947\n",
      "Sample 39 >> Input: [0, '6', 18, 1.0, 0.0, 0, 0, 0, 0, 0, 0, 0, 0, 0, 0, 0, 0, 0, 0, 0, 0, 0, 0, 1, 0, 0, 0, 0]: >> Prediction: 0.4724771976470947\n",
      "Sample 40 >> Input: [1, '1', 22, 0.0, 0.0, 0, 0, 0, 0, 0, 0, 0, 0, 0, 0, 0, 1, 0, 0, 0, 0, 0, 0, 1, 0, 0, 0, 0]: >> Prediction: 0.5373708009719849\n",
      "Sample 41 >> Input: [1, '6', 6, 0.0, 0.0, 0, 0, 0, 0, 0, 0, 0, 1, 0, 0, 0, 0, 0, 0, 0, 0, 0, 0, 0, 0, 0, 1, 0]: >> Prediction: 0.45879191160202026\n",
      "Sample 42 >> Input: [0, '6', 5, 0.0, 0.0, 0, 0, 0, 0, 0, 0, 0, 0, 0, 0, 1, 0, 0, 0, 0, 0, 0, 0, 1, 0, 0, 0, 0]: >> Prediction: 0.4578031301498413\n",
      "Sample 43 >> Input: [0, '3', 6, 0.0, 0.0, 0, 0, 0, 0, 0, 0, 0, 0, 0, 0, 0, 1, 0, 0, 0, 0, 0, 0, 1, 0, 0, 0, 0]: >> Prediction: 0.5360277891159058\n",
      "Sample 44 >> Input: [1, '1', 18, 0.0, 0.0, 0, 0, 0, 0, 0, 0, 0, 0, 0, 0, 0, 0, 1, 0, 1, 0, 0, 0, 0, 0, 0, 0, 0]: >> Prediction: 0.5332071781158447\n",
      "Sample 45 >> Input: [0, '5', 17, 0.0, 0.0, 0, 0, 0, 0, 0, 0, 0, 0, 0, 0, 1, 0, 0, 0, 0, 0, 0, 1, 0, 0, 0, 0, 0]: >> Prediction: 0.47239387035369873\n",
      "Sample 46 >> Input: [1, '3', 6, 0.0, 0.0, 0, 0, 0, 0, 0, 0, 0, 0, 0, 0, 0, 1, 0, 0, 0, 0, 0, 0, 0, 1, 0, 0, 0]: >> Prediction: 0.5360097289085388\n",
      "Sample 47 >> Input: [0, '2', 4, 0.0, 0.0, 0, 0, 0, 0, 0, 0, 0, 0, 0, 0, 0, 0, 0, 1, 0, 1, 0, 0, 0, 0, 0, 0, 0]: >> Prediction: 0.5410555005073547\n",
      "Sample 48 >> Input: [0, '5', 0, 0.0, 0.0, 1, 0, 0, 0, 0, 0, 0, 0, 0, 0, 0, 0, 0, 0, 0, 0, 0, 1, 0, 0, 0, 0, 0]: >> Prediction: 0.46274590492248535\n",
      "Sample 49 >> Input: [0, '6', 0, 0.0, 0.0, 0, 0, 0, 0, 0, 0, 0, 0, 0, 0, 0, 0, 1, 0, 1, 0, 0, 0, 0, 0, 0, 0, 0]: >> Prediction: 0.462829053401947\n",
      "Sample 50 >> Input: [1, '2', 5, 0.0, 0.0, 0, 0, 0, 0, 0, 0, 0, 0, 0, 0, 0, 0, 1, 0, 0, 1, 0, 0, 0, 0, 0, 0, 0]: >> Prediction: 0.5360097289085388\n",
      "Sample 51 >> Input: [0, '5', 19, 0.0, 0.0, 0, 0, 0, 0, 0, 0, 0, 0, 0, 0, 0, 0, 1, 0, 0, 0, 0, 0, 0, 0, 0, 0, 1]: >> Prediction: 0.47239387035369873\n",
      "Sample 52 >> Input: [0, '6', 22, 0.0, 0.0, 0, 0, 0, 0, 0, 0, 0, 0, 0, 0, 0, 0, 0, 1, 0, 0, 0, 0, 0, 0, 1, 0, 0]: >> Prediction: 0.4824259579181671\n",
      "Sample 53 >> Input: [0, '6', 20, 0.0, 0.0, 0, 0, 0, 0, 0, 0, 0, 0, 0, 0, 1, 0, 0, 0, 0, 0, 0, 0, 0, 0, 1, 0, 0]: >> Prediction: 0.4724771976470947\n",
      "Sample 54 >> Input: [1, '4', 0, 0.0, 0.0, 0, 0, 0, 0, 0, 0, 0, 0, 0, 0, 1, 0, 0, 0, 0, 0, 0, 0, 0, 0, 1, 0, 0]: >> Prediction: 0.49388447403907776\n",
      "Sample 55 >> Input: [0, '5', 22, 0.0, 1.0, 0, 0, 0, 0, 0, 0, 0, 0, 0, 0, 0, 0, 0, 0, 0, 0, 0, 0, 0, 0, 0, 0, 1]: >> Prediction: 0.4823424816131592\n",
      "Sample 56 >> Input: [1, '4', 19, 0.0, 0.0, 1, 0, 0, 0, 0, 0, 0, 0, 0, 0, 0, 0, 0, 0, 0, 0, 0, 0, 1, 0, 0, 0, 0]: >> Prediction: 0.5924595594406128\n",
      "Sample 57 >> Input: [1, '3', 0, 0.0, 0.0, 0, 0, 0, 0, 0, 0, 0, 0, 0, 0, 0, 1, 0, 0, 0, 0, 0, 0, 1, 0, 0, 0, 0]: >> Prediction: 0.5094481706619263\n",
      "Sample 58 >> Input: [1, '1', 24, 0.0, 0.0, 0, 0, 0, 0, 0, 0, 0, 0, 0, 0, 0, 1, 0, 0, 0, 0, 0, 0, 1, 0, 0, 0, 0]: >> Prediction: 0.5373708009719849\n",
      "Sample 59 >> Input: [1, '6', 23, 0.0, 0.0, 0, 0, 0, 1, 0, 0, 0, 0, 0, 0, 0, 0, 0, 0, 1, 0, 0, 0, 0, 0, 0, 0, 0]: >> Prediction: 0.5005363821983337\n",
      "Sample 60 >> Input: [1, '3', 19, 0.0, 0.0, 0, 0, 0, 0, 0, 0, 0, 0, 0, 0, 0, 0, 1, 0, 1, 0, 0, 0, 0, 0, 0, 0, 0]: >> Prediction: 0.5937598347663879\n",
      "Sample 61 >> Input: [0, '4', 19, 0.0, 0.0, 0, 0, 0, 0, 0, 0, 0, 0, 0, 0, 0, 0, 1, 0, 0, 0, 0, 1, 0, 0, 0, 0, 0]: >> Prediction: 0.5250639915466309\n",
      "Sample 62 >> Input: [0, '2', 10, 0.0, 0.0, 0, 0, 0, 0, 0, 0, 0, 0, 0, 0, 1, 0, 0, 0, 0, 0, 0, 1, 0, 0, 0, 0, 0]: >> Prediction: 0.5360277891159058\n",
      "Sample 63 >> Input: [0, '6', 8, 0.0, 0.0, 0, 0, 0, 0, 0, 0, 0, 0, 0, 0, 1, 0, 0, 0, 0, 0, 0, 0, 0, 0, 1, 0, 0]: >> Prediction: 0.4578031301498413\n",
      "Sample 64 >> Input: [0, '4', 15, 1.0, 0.0, 0, 0, 0, 0, 0, 0, 0, 0, 0, 0, 0, 0, 0, 0, 0, 0, 0, 0, 1, 0, 0, 0, 0]: >> Prediction: 0.5158764719963074\n",
      "Sample 65 >> Input: [1, '6', 14, 0.0, 0.0, 0, 0, 0, 0, 0, 0, 0, 0, 0, 0, 0, 1, 0, 0, 0, 0, 1, 0, 0, 0, 0, 0, 0]: >> Prediction: 0.4738529920578003\n",
      "Sample 66 >> Input: [1, '1', 13, 0.0, 0.0, 0, 0, 0, 0, 0, 0, 0, 0, 0, 0, 1, 0, 0, 0, 0, 0, 0, 1, 0, 0, 0, 0, 0]: >> Prediction: 0.5332071781158447\n",
      "Sample 67 >> Input: [1, '6', 14, 0.0, 0.0, 0, 0, 0, 0, 0, 0, 0, 0, 0, 0, 0, 0, 1, 0, 0, 0, 0, 0, 0, 0, 1, 0, 0]: >> Prediction: 0.4738529920578003\n",
      "Sample 68 >> Input: [1, '2', 16, 0.0, 0.0, 0, 0, 0, 0, 0, 0, 0, 0, 0, 0, 0, 1, 0, 0, 0, 1, 0, 0, 0, 0, 0, 0, 0]: >> Prediction: 0.5332071781158447\n",
      "Sample 69 >> Input: [0, '4', 18, 0.0, 0.0, 0, 0, 1, 0, 0, 0, 0, 0, 0, 0, 0, 0, 0, 0, 0, 1, 0, 0, 0, 0, 0, 0, 0]: >> Prediction: 0.5250639915466309\n",
      "Sample 70 >> Input: [1, '3', 0, 0.0, 0.0, 1, 0, 0, 0, 0, 0, 0, 0, 0, 0, 0, 0, 0, 0, 0, 1, 0, 0, 0, 0, 0, 0, 0]: >> Prediction: 0.5094481706619263\n",
      "Sample 71 >> Input: [0, '6', 8, 0.0, 0.0, 0, 0, 0, 0, 0, 0, 0, 0, 0, 0, 0, 1, 0, 0, 0, 0, 0, 0, 0, 0, 1, 0, 0]: >> Prediction: 0.4578031301498413\n",
      "Sample 72 >> Input: [1, '3', 22, 0.0, 0.0, 0, 0, 0, 0, 0, 0, 0, 0, 0, 0, 1, 0, 0, 0, 0, 0, 0, 1, 0, 0, 0, 0, 0]: >> Prediction: 0.6004737615585327\n",
      "Sample 73 >> Input: [1, '2', 22, 0.0, 0.0, 0, 0, 1, 0, 0, 0, 0, 0, 0, 0, 0, 0, 0, 0, 1, 0, 0, 0, 0, 0, 0, 0, 0]: >> Prediction: 0.5373708009719849\n",
      "Sample 74 >> Input: [0, '1', 16, 0.0, 0.0, 0, 0, 0, 0, 0, 0, 0, 0, 0, 0, 1, 0, 0, 0, 0, 0, 0, 1, 0, 0, 0, 0, 0]: >> Prediction: 0.5332252979278564\n",
      "Sample 75 >> Input: [0, '4', 19, 0.0, 0.0, 0, 0, 0, 0, 0, 0, 0, 0, 0, 0, 0, 0, 1, 0, 0, 1, 0, 0, 0, 0, 0, 0, 0]: >> Prediction: 0.5250639915466309\n",
      "Sample 76 >> Input: [1, '6', 14, 0.0, 0.0, 0, 0, 0, 0, 0, 0, 0, 0, 0, 0, 0, 1, 0, 0, 1, 0, 0, 0, 0, 0, 0, 0, 0]: >> Prediction: 0.4738529920578003\n",
      "Sample 77 >> Input: [1, '5', 14, 0.0, 0.0, 0, 0, 0, 0, 0, 0, 0, 0, 0, 0, 1, 0, 0, 0, 0, 0, 0, 1, 0, 0, 0, 0, 0]: >> Prediction: 0.511884331703186\n",
      "Sample 78 >> Input: [0, '6', 12, 0.0, 0.0, 0, 0, 0, 0, 0, 0, 0, 0, 0, 0, 0, 1, 0, 0, 0, 0, 0, 0, 0, 1, 0, 0, 0]: >> Prediction: 0.4669076204299927\n",
      "Sample 79 >> Input: [0, '4', 23, 0.0, 0.0, 0, 0, 0, 0, 0, 0, 0, 0, 0, 0, 0, 1, 0, 0, 0, 0, 0, 0, 0, 0, 1, 0, 0]: >> Prediction: 0.538920521736145\n",
      "Sample 80 >> Input: [1, '1', 2, 0.0, 0.0, 0, 0, 1, 0, 0, 0, 0, 0, 0, 0, 0, 0, 0, 0, 0, 0, 0, 0, 1, 0, 0, 0, 0]: >> Prediction: 0.5094481706619263\n",
      "Sample 81 >> Input: [1, '6', 6, 0.0, 0.0, 0, 0, 0, 0, 0, 0, 0, 0, 0, 0, 1, 0, 0, 0, 0, 0, 1, 0, 0, 0, 0, 0, 0]: >> Prediction: 0.45879191160202026\n",
      "Sample 82 >> Input: [1, '6', 9, 0.0, 0.0, 0, 0, 0, 0, 0, 0, 0, 0, 0, 0, 0, 1, 0, 0, 0, 0, 0, 0, 0, 1, 0, 0, 0]: >> Prediction: 0.45879191160202026\n",
      "Sample 83 >> Input: [1, '5', 4, 0.0, 0.0, 0, 0, 0, 0, 0, 0, 0, 0, 0, 0, 0, 0, 1, 0, 0, 0, 0, 0, 0, 1, 0, 0, 0]: >> Prediction: 0.4866846799850464\n",
      "Sample 84 >> Input: [0, '6', 11, 0.0, 0.0, 0, 0, 0, 0, 0, 0, 0, 0, 0, 0, 1, 0, 0, 0, 0, 0, 0, 0, 1, 0, 0, 0, 0]: >> Prediction: 0.4578031301498413\n",
      "Sample 85 >> Input: [1, '4', 4, 0.0, 0.0, 0, 0, 1, 0, 0, 0, 0, 0, 0, 0, 0, 0, 0, 0, 0, 0, 1, 0, 0, 0, 0, 0, 0]: >> Prediction: 0.5255426168441772\n",
      "Sample 86 >> Input: [0, '6', 6, 0.0, 0.0, 0, 0, 1, 0, 0, 0, 0, 0, 0, 0, 0, 0, 0, 0, 0, 1, 0, 0, 0, 0, 0, 0, 0]: >> Prediction: 0.4578031301498413\n",
      "Sample 87 >> Input: [1, '3', 23, 1.0, 0.0, 0, 0, 0, 0, 0, 0, 0, 0, 0, 0, 0, 0, 0, 0, 0, 0, 0, 0, 0, 0, 0, 0, 1]: >> Prediction: 0.6004737615585327\n",
      "Sample 88 >> Input: [1, '1', 1, 0.0, 0.0, 0, 0, 0, 0, 0, 0, 0, 0, 0, 0, 0, 0, 0, 1, 0, 0, 0, 1, 0, 0, 0, 0, 0]: >> Prediction: 0.5094481706619263\n",
      "Sample 89 >> Input: [0, '4', 20, 0.0, 0.0, 0, 0, 0, 0, 0, 0, 0, 0, 0, 0, 0, 0, 1, 0, 0, 0, 0, 0, 0, 1, 0, 0, 0]: >> Prediction: 0.5250639915466309\n",
      "Sample 90 >> Input: [1, '6', 6, 0.0, 0.0, 1, 0, 0, 0, 0, 0, 0, 0, 0, 0, 0, 0, 0, 0, 0, 0, 0, 1, 0, 0, 0, 0, 0]: >> Prediction: 0.45879191160202026\n",
      "Sample 91 >> Input: [1, '4', 11, 0.0, 0.0, 0, 0, 0, 0, 0, 0, 0, 0, 0, 0, 1, 0, 0, 0, 0, 0, 0, 0, 0, 0, 0, 1, 0]: >> Prediction: 0.5380537509918213\n",
      "Sample 92 >> Input: [1, '4', 0, 0.0, 0.0, 0, 0, 0, 0, 0, 0, 0, 0, 0, 0, 1, 0, 0, 0, 0, 0, 0, 0, 0, 0, 0, 0, 1]: >> Prediction: 0.49388447403907776\n",
      "Sample 93 >> Input: [0, '3', 20, 0.0, 0.0, 0, 0, 0, 0, 0, 0, 0, 0, 0, 0, 0, 1, 0, 0, 0, 0, 1, 0, 0, 0, 0, 0, 0]: >> Prediction: 0.5440133213996887\n",
      "Sample 94 >> Input: [0, '2', 23, 0.0, 0.0, 0, 0, 0, 0, 1, 0, 0, 0, 0, 0, 0, 0, 0, 0, 0, 0, 0, 0, 1, 0, 0, 0, 0]: >> Prediction: 0.5401649475097656\n",
      "Sample 95 >> Input: [0, '4', 4, 0.0, 0.0, 0, 0, 0, 0, 0, 0, 0, 0, 0, 0, 0, 0, 0, 1, 0, 0, 0, 0, 0, 0, 0, 1, 0]: >> Prediction: 0.5078868865966797\n",
      "Sample 96 >> Input: [1, '4', 12, 0.0, 0.0, 0, 0, 0, 0, 0, 0, 0, 0, 0, 0, 1, 0, 0, 0, 0, 0, 0, 0, 1, 0, 0, 0, 0]: >> Prediction: 0.5544485449790955\n",
      "Sample 97 >> Input: [0, '6', 20, 0.0, 0.0, 0, 0, 0, 0, 0, 0, 0, 0, 0, 0, 1, 0, 0, 0, 0, 0, 0, 1, 0, 0, 0, 0, 0]: >> Prediction: 0.4724771976470947\n",
      "Sample 98 >> Input: [0, '5', 17, 0.0, 0.0, 0, 0, 1, 0, 0, 0, 0, 0, 0, 0, 0, 0, 0, 0, 1, 0, 0, 0, 0, 0, 0, 0, 0]: >> Prediction: 0.47239387035369873\n",
      "Sample 99 >> Input: [1, '3', 16, 0.0, 0.0, 0, 0, 0, 0, 0, 0, 0, 0, 0, 0, 0, 1, 0, 0, 0, 0, 1, 0, 0, 0, 0, 0, 0]: >> Prediction: 0.5732009410858154\n",
      "Sample 100 >> Input: [0, '2', 12, 0.0, 0.0, 0, 0, 0, 0, 0, 0, 1, 0, 0, 0, 0, 0, 0, 0, 0, 0, 0, 0, 0, 1, 0, 0, 0]: >> Prediction: 0.5332252979278564\n",
      "Sample 101 >> Input: [1, '4', 23, 1.0, 0.0, 0, 0, 0, 0, 0, 0, 0, 0, 0, 0, 0, 0, 0, 0, 0, 0, 0, 0, 0, 0, 1, 0, 0]: >> Prediction: 0.6058259606361389\n",
      "Sample 102 >> Input: [0, '4', 24, 1.0, 0.0, 0, 0, 0, 0, 0, 0, 0, 0, 0, 0, 0, 0, 0, 0, 0, 0, 0, 0, 0, 0, 0, 1, 0]: >> Prediction: 0.538920521736145\n",
      "Sample 103 >> Input: [0, '2', 14, 0.0, 0.0, 0, 0, 0, 0, 0, 0, 0, 0, 0, 0, 0, 1, 0, 0, 0, 0, 0, 0, 0, 0, 1, 0, 0]: >> Prediction: 0.5332252979278564\n",
      "Sample 104 >> Input: [0, '1', 24, 0.0, 0.0, 0, 1, 0, 0, 0, 0, 0, 0, 0, 0, 0, 0, 0, 0, 0, 1, 0, 0, 0, 0, 0, 0, 0]: >> Prediction: 0.5401649475097656\n",
      "Sample 105 >> Input: [0, '2', 0, 0.0, 0.0, 0, 1, 0, 0, 0, 0, 0, 0, 0, 0, 0, 0, 0, 0, 0, 0, 0, 1, 0, 0, 0, 0, 0]: >> Prediction: 0.5188708305358887\n",
      "Sample 106 >> Input: [0, '1', 17, 0.0, 0.0, 0, 0, 0, 0, 0, 0, 0, 0, 0, 0, 0, 0, 0, 1, 0, 0, 0, 0, 0, 0, 1, 0, 0]: >> Prediction: 0.5332252979278564\n",
      "Sample 107 >> Input: [0, '4', 8, 0.0, 0.0, 0, 1, 0, 0, 0, 0, 0, 0, 0, 0, 0, 0, 0, 0, 0, 0, 0, 0, 1, 0, 0, 0, 0]: >> Prediction: 0.5028297305107117\n",
      "Sample 108 >> Input: [1, '3', 15, 0.0, 0.0, 1, 0, 0, 0, 0, 0, 0, 0, 0, 0, 0, 0, 0, 0, 0, 0, 0, 1, 0, 0, 0, 0, 0]: >> Prediction: 0.5612926483154297\n",
      "Sample 109 >> Input: [0, '4', 17, 0.0, 0.0, 0, 0, 0, 0, 0, 0, 0, 0, 0, 0, 0, 0, 0, 1, 0, 0, 0, 0, 0, 0, 1, 0, 0]: >> Prediction: 0.5250639915466309\n",
      "Sample 110 >> Input: [0, '4', 14, 0.0, 0.0, 0, 0, 0, 0, 0, 0, 0, 0, 0, 0, 0, 1, 0, 0, 0, 0, 0, 0, 0, 0, 1, 0, 0]: >> Prediction: 0.5158764719963074\n",
      "Sample 111 >> Input: [1, '6', 19, 0.0, 0.0, 0, 0, 0, 0, 0, 0, 0, 0, 0, 0, 0, 0, 0, 1, 0, 0, 0, 0, 1, 0, 0, 0, 0]: >> Prediction: 0.4794308841228485\n",
      "Sample 112 >> Input: [0, '6', 12, 0.0, 0.0, 0, 0, 0, 0, 0, 0, 0, 0, 0, 0, 0, 0, 1, 0, 0, 1, 0, 0, 0, 0, 0, 0, 0]: >> Prediction: 0.4669076204299927\n",
      "Sample 113 >> Input: [0, '3', 4, 0.0, 0.0, 0, 0, 0, 0, 0, 0, 0, 0, 0, 0, 1, 0, 0, 0, 0, 0, 0, 0, 0, 0, 1, 0, 0]: >> Prediction: 0.5410555005073547\n",
      "Sample 114 >> Input: [0, '5', 22, 0.0, 0.0, 0, 0, 0, 0, 0, 0, 0, 0, 0, 0, 0, 0, 1, 0, 0, 1, 0, 0, 0, 0, 0, 0, 0]: >> Prediction: 0.4823424816131592\n",
      "Sample 115 >> Input: [1, '4', 21, 0.0, 0.0, 0, 0, 0, 0, 0, 0, 0, 1, 0, 0, 0, 0, 0, 0, 0, 0, 0, 1, 0, 0, 0, 0, 0]: >> Prediction: 0.5924595594406128\n",
      "Sample 116 >> Input: [0, '2', 12, 0.0, 0.0, 0, 0, 0, 0, 0, 0, 0, 0, 0, 0, 0, 1, 0, 0, 0, 0, 0, 0, 0, 1, 0, 0, 0]: >> Prediction: 0.5332252979278564\n",
      "Sample 117 >> Input: [1, '5', 21, 0.0, 0.0, 0, 0, 0, 0, 0, 0, 0, 0, 0, 0, 0, 0, 1, 0, 0, 0, 1, 0, 0, 0, 0, 0, 0]: >> Prediction: 0.5547296404838562\n",
      "Sample 118 >> Input: [0, '3', 21, 0.0, 0.0, 0, 0, 0, 0, 0, 0, 0, 0, 0, 0, 0, 0, 0, 1, 0, 0, 1, 0, 0, 0, 0, 0, 0]: >> Prediction: 0.5440133213996887\n",
      "Sample 119 >> Input: [0, '2', 17, 0.0, 0.0, 0, 0, 0, 0, 0, 0, 0, 0, 0, 0, 0, 1, 0, 0, 0, 0, 0, 0, 0, 1, 0, 0, 0]: >> Prediction: 0.5332252979278564\n",
      "Sample 120 >> Input: [0, '5', 18, 0.0, 0.0, 0, 0, 0, 0, 0, 0, 0, 0, 0, 0, 0, 0, 1, 0, 0, 0, 0, 1, 0, 0, 0, 0, 0]: >> Prediction: 0.47239387035369873\n",
      "Sample 121 >> Input: [1, '1', 8, 0.0, 0.0, 1, 0, 0, 0, 0, 0, 0, 0, 0, 0, 0, 0, 0, 0, 0, 0, 0, 0, 0, 0, 0, 0, 1]: >> Prediction: 0.5360097289085388\n",
      "Sample 122 >> Input: [0, '4', 11, 0.0, 0.0, 0, 0, 0, 0, 0, 0, 0, 0, 0, 0, 1, 0, 0, 0, 0, 0, 1, 0, 0, 0, 0, 0, 0]: >> Prediction: 0.5028297305107117\n",
      "Sample 123 >> Input: [1, '5', 13, 0.0, 0.0, 0, 0, 0, 0, 0, 0, 0, 0, 0, 0, 0, 0, 1, 0, 1, 0, 0, 0, 0, 0, 0, 0, 0]: >> Prediction: 0.511884331703186\n",
      "Sample 124 >> Input: [0, '1', 22, 0.0, 0.0, 0, 0, 0, 0, 0, 0, 0, 0, 0, 0, 0, 0, 1, 0, 0, 0, 0, 1, 0, 0, 0, 0, 0]: >> Prediction: 0.5401649475097656\n",
      "Sample 125 >> Input: [1, '1', 11, 1.0, 0.0, 0, 0, 0, 0, 0, 0, 0, 0, 0, 0, 0, 0, 0, 0, 0, 0, 0, 0, 0, 0, 1, 0, 0]: >> Prediction: 0.5360097289085388\n",
      "Sample 126 >> Input: [0, '5', 14, 0.0, 0.0, 0, 1, 0, 0, 0, 0, 0, 0, 0, 0, 0, 0, 0, 0, 0, 1, 0, 0, 0, 0, 0, 0, 0]: >> Prediction: 0.4897195100784302\n",
      "Sample 127 >> Input: [0, '6', 11, 0.0, 0.0, 0, 0, 0, 0, 0, 0, 0, 0, 0, 0, 0, 0, 0, 1, 0, 0, 1, 0, 0, 0, 0, 0, 0]: >> Prediction: 0.4578031301498413\n",
      "Sample 128 >> Input: [0, '4', 5, 0.0, 0.0, 0, 0, 0, 0, 0, 0, 0, 0, 0, 0, 0, 1, 0, 0, 0, 0, 0, 0, 1, 0, 0, 0, 0]: >> Prediction: 0.5028297305107117\n",
      "Sample 129 >> Input: [0, '5', 12, 0.0, 0.0, 0, 0, 0, 0, 0, 0, 0, 0, 0, 0, 0, 1, 0, 0, 0, 0, 1, 0, 0, 0, 0, 0, 0]: >> Prediction: 0.46682441234588623\n",
      "Sample 130 >> Input: [1, '4', 16, 0.0, 0.0, 0, 0, 0, 0, 0, 0, 0, 0, 0, 0, 1, 0, 0, 0, 0, 0, 0, 0, 0, 1, 0, 0, 0]: >> Prediction: 0.5663991570472717\n",
      "Sample 131 >> Input: [0, '3', 5, 0.0, 0.0, 0, 0, 0, 0, 0, 0, 0, 0, 0, 0, 1, 0, 0, 0, 0, 0, 0, 0, 0, 0, 0, 1, 0]: >> Prediction: 0.5360277891159058\n",
      "Sample 132 >> Input: [0, '1', 15, 0.0, 0.0, 0, 0, 0, 0, 0, 0, 0, 0, 0, 0, 0, 1, 0, 0, 0, 0, 0, 0, 0, 0, 1, 0, 0]: >> Prediction: 0.5332252979278564\n",
      "Sample 133 >> Input: [0, '2', 15, 1.0, 0.0, 0, 0, 0, 0, 0, 0, 0, 0, 0, 0, 0, 0, 0, 0, 0, 0, 0, 0, 0, 0, 1, 0, 0]: >> Prediction: 0.5332252979278564\n",
      "Sample 134 >> Input: [0, '4', 19, 0.0, 0.0, 0, 0, 0, 0, 0, 0, 0, 0, 0, 0, 1, 0, 0, 0, 0, 0, 0, 0, 0, 0, 0, 0, 1]: >> Prediction: 0.5250639915466309\n",
      "Sample 135 >> Input: [0, '1', 19, 0.0, 0.0, 0, 0, 0, 0, 0, 0, 0, 0, 0, 0, 1, 0, 0, 0, 0, 0, 0, 0, 0, 1, 0, 0, 0]: >> Prediction: 0.5332252979278564\n",
      "Sample 136 >> Input: [1, '4', 6, 0.0, 0.0, 0, 0, 0, 0, 0, 0, 0, 1, 0, 0, 0, 0, 0, 0, 0, 0, 0, 0, 1, 0, 0, 0, 0]: >> Prediction: 0.520495593547821\n",
      "Sample 137 >> Input: [0, '5', 22, 0.0, 0.0, 0, 0, 0, 0, 0, 0, 0, 0, 0, 0, 1, 0, 0, 0, 0, 0, 0, 1, 0, 0, 0, 0, 0]: >> Prediction: 0.4823424816131592\n",
      "Sample 138 >> Input: [0, '4', 12, 0.0, 0.0, 1, 0, 0, 0, 0, 0, 0, 0, 0, 0, 0, 0, 0, 0, 0, 0, 0, 0, 1, 0, 0, 0, 0]: >> Prediction: 0.5158764719963074\n",
      "Sample 139 >> Input: [0, '6', 23, 0.0, 0.0, 0, 0, 0, 1, 0, 0, 0, 0, 0, 0, 0, 0, 0, 0, 0, 1, 0, 0, 0, 0, 0, 0, 0]: >> Prediction: 0.4935668110847473\n",
      "Sample 140 >> Input: [0, '4', 18, 0.0, 0.0, 0, 0, 0, 0, 0, 0, 1, 0, 0, 0, 0, 0, 0, 0, 0, 0, 1, 0, 0, 0, 0, 0, 0]: >> Prediction: 0.5250639915466309\n",
      "Sample 141 >> Input: [0, '2', 2, 0.0, 0.0, 0, 0, 0, 0, 0, 0, 0, 0, 0, 0, 0, 0, 0, 1, 0, 0, 0, 0, 0, 1, 0, 0, 0]: >> Prediction: 0.5188708305358887\n",
      "Sample 142 >> Input: [1, '2', 10, 0.0, 0.0, 0, 0, 0, 0, 0, 0, 0, 0, 0, 0, 0, 1, 0, 0, 0, 0, 0, 0, 1, 0, 0, 0, 0]: >> Prediction: 0.5360097289085388\n",
      "Sample 143 >> Input: [0, '6', 3, 0.0, 0.0, 0, 0, 0, 0, 0, 0, 0, 0, 0, 0, 1, 0, 0, 0, 0, 0, 0, 1, 0, 0, 0, 0, 0]: >> Prediction: 0.462829053401947\n",
      "Sample 144 >> Input: [1, '1', 1, 0.0, 0.0, 1, 0, 0, 0, 0, 0, 0, 0, 0, 0, 0, 0, 0, 0, 0, 0, 1, 0, 0, 0, 0, 0, 0]: >> Prediction: 0.5094481706619263\n",
      "Sample 145 >> Input: [1, '3', 12, 0.0, 0.0, 0, 0, 0, 1, 0, 0, 0, 0, 0, 0, 0, 0, 0, 0, 0, 1, 0, 0, 0, 0, 0, 0, 0]: >> Prediction: 0.5612926483154297\n",
      "Sample 146 >> Input: [0, '4', 18, 0.0, 0.0, 0, 0, 0, 0, 0, 0, 0, 0, 0, 0, 0, 0, 1, 0, 0, 0, 0, 0, 0, 1, 0, 0, 0]: >> Prediction: 0.5250639915466309\n",
      "Sample 147 >> Input: [0, '1', 1, 0.0, 0.0, 0, 0, 0, 0, 0, 0, 0, 0, 0, 0, 0, 1, 0, 0, 0, 0, 0, 0, 1, 0, 0, 0, 0]: >> Prediction: 0.5188708305358887\n",
      "Sample 148 >> Input: [0, '4', 4, 0.0, 0.0, 0, 0, 0, 0, 0, 0, 0, 0, 0, 0, 0, 0, 1, 0, 0, 0, 0, 0, 1, 0, 0, 0, 0]: >> Prediction: 0.5078868865966797\n",
      "Sample 149 >> Input: [1, '5', 19, 0.0, 0.0, 0, 0, 0, 0, 0, 0, 0, 0, 0, 0, 0, 0, 1, 0, 0, 0, 0, 0, 0, 0, 0, 0, 1]: >> Prediction: 0.5547296404838562\n",
      "Sample 150 >> Input: [1, '4', 24, 1.0, 0.0, 0, 0, 0, 0, 0, 0, 0, 0, 0, 0, 0, 0, 0, 0, 0, 0, 1, 0, 0, 0, 0, 0, 0]: >> Prediction: 0.6058259606361389\n",
      "Sample 151 >> Input: [0, '5', 22, 1.0, 0.0, 0, 0, 0, 0, 0, 0, 0, 0, 0, 0, 0, 0, 0, 0, 0, 0, 0, 0, 1, 0, 0, 0, 0]: >> Prediction: 0.4823424816131592\n",
      "Sample 152 >> Input: [0, '3', 23, 1.0, 0.0, 0, 0, 0, 0, 0, 0, 0, 0, 0, 0, 0, 0, 0, 0, 0, 0, 0, 0, 0, 0, 1, 0, 0]: >> Prediction: 0.5509276390075684\n",
      "Sample 153 >> Input: [1, '1', 9, 0.0, 0.0, 0, 0, 0, 0, 0, 0, 0, 0, 0, 0, 0, 1, 0, 0, 0, 0, 0, 0, 1, 0, 0, 0, 0]: >> Prediction: 0.5360097289085388\n",
      "Sample 154 >> Input: [0, '6', 2, 0.0, 0.0, 0, 0, 0, 0, 0, 0, 0, 0, 0, 0, 0, 1, 0, 0, 1, 0, 0, 0, 0, 0, 0, 0, 0]: >> Prediction: 0.462829053401947\n",
      "Sample 155 >> Input: [1, '4', 17, 0.0, 0.0, 0, 0, 0, 0, 0, 0, 1, 0, 0, 0, 0, 0, 0, 0, 0, 0, 0, 0, 1, 0, 0, 0, 0]: >> Prediction: 0.5718823671340942\n",
      "Sample 156 >> Input: [1, '5', 5, 0.0, 0.0, 0, 0, 0, 0, 0, 0, 0, 0, 0, 0, 0, 0, 0, 1, 0, 0, 0, 1, 0, 0, 0, 0, 0]: >> Prediction: 0.4816320240497589\n",
      "Sample 157 >> Input: [1, '1', 23, 0.0, 0.0, 0, 0, 0, 0, 0, 0, 0, 0, 0, 0, 0, 0, 1, 0, 0, 0, 1, 0, 0, 0, 0, 0, 0]: >> Prediction: 0.5373708009719849\n",
      "Sample 158 >> Input: [0, '3', 1, 0.0, 0.0, 0, 0, 0, 0, 0, 0, 0, 0, 0, 0, 1, 0, 0, 0, 0, 0, 0, 1, 0, 0, 0, 0, 0]: >> Prediction: 0.5188708305358887\n",
      "Sample 159 >> Input: [0, '4', 8, 0.0, 0.0, 0, 0, 0, 0, 0, 0, 0, 0, 0, 0, 0, 0, 1, 0, 1, 0, 0, 0, 0, 0, 0, 0, 0]: >> Prediction: 0.5028297305107117\n",
      "Sample 160 >> Input: [1, '6', 12, 0.0, 0.0, 0, 0, 0, 0, 0, 0, 0, 0, 0, 0, 1, 0, 0, 0, 0, 0, 0, 1, 0, 0, 0, 0, 0]: >> Prediction: 0.4738529920578003\n",
      "Sample 161 >> Input: [1, '2', 15, 0.0, 0.0, 0, 0, 0, 0, 0, 0, 0, 0, 0, 0, 0, 1, 0, 0, 0, 0, 1, 0, 0, 0, 0, 0, 0]: >> Prediction: 0.5332071781158447\n",
      "Sample 162 >> Input: [0, '5', 18, 0.0, 0.0, 0, 0, 0, 0, 0, 0, 0, 0, 0, 0, 0, 0, 1, 0, 0, 0, 0, 0, 1, 0, 0, 0, 0]: >> Prediction: 0.47239387035369873\n",
      "Sample 163 >> Input: [0, '3', 11, 0.0, 0.0, 0, 0, 0, 0, 0, 0, 0, 0, 0, 0, 1, 0, 0, 0, 0, 0, 0, 1, 0, 0, 0, 0, 0]: >> Prediction: 0.5360277891159058\n",
      "Sample 164 >> Input: [0, '3', 8, 0.0, 0.0, 0, 0, 0, 0, 0, 0, 0, 0, 0, 0, 0, 0, 0, 1, 0, 0, 1, 0, 0, 0, 0, 0, 0]: >> Prediction: 0.5360277891159058\n",
      "Sample 165 >> Input: [0, '5', 1, 0.0, 0.0, 0, 0, 0, 0, 0, 0, 0, 0, 0, 0, 1, 0, 0, 0, 0, 0, 0, 0, 0, 0, 0, 0, 1]: >> Prediction: 0.46274590492248535\n",
      "Sample 166 >> Input: [0, '3', 2, 0.0, 0.0, 0, 0, 0, 0, 0, 0, 0, 0, 0, 0, 0, 1, 0, 0, 1, 0, 0, 0, 0, 0, 0, 0, 0]: >> Prediction: 0.5188708305358887\n",
      "Sample 167 >> Input: [1, '5', 0, 0.0, 0.0, 0, 0, 0, 0, 0, 0, 0, 0, 0, 0, 0, 0, 1, 0, 0, 1, 0, 0, 0, 0, 0, 0, 0]: >> Prediction: 0.4866846799850464\n",
      "Sample 168 >> Input: [0, '2', 19, 0.0, 0.0, 0, 0, 0, 0, 0, 0, 0, 0, 0, 0, 0, 0, 1, 0, 0, 1, 0, 0, 0, 0, 0, 0, 0]: >> Prediction: 0.5332252979278564\n",
      "Sample 169 >> Input: [1, '3', 21, 0.0, 0.0, 0, 0, 1, 0, 0, 0, 0, 0, 0, 0, 0, 0, 0, 0, 0, 0, 0, 1, 0, 0, 0, 0, 0]: >> Prediction: 0.5937598347663879\n",
      "Sample 170 >> Input: [1, '4', 24, 0.0, 0.0, 0, 0, 0, 0, 0, 0, 0, 0, 0, 0, 1, 0, 0, 0, 0, 0, 0, 1, 0, 0, 0, 0, 0]: >> Prediction: 0.6058259606361389\n",
      "Sample 171 >> Input: [0, '3', 19, 0.0, 0.0, 0, 1, 0, 0, 0, 0, 0, 0, 0, 0, 0, 0, 0, 0, 0, 0, 1, 0, 0, 0, 0, 0, 0]: >> Prediction: 0.5440133213996887\n",
      "Sample 172 >> Input: [1, '5', 15, 0.0, 0.0, 0, 0, 0, 0, 0, 0, 0, 0, 0, 0, 0, 0, 1, 0, 1, 0, 0, 0, 0, 0, 0, 0, 0]: >> Prediction: 0.511884331703186\n",
      "Sample 173 >> Input: [0, '2', 8, 0.0, 0.0, 0, 0, 0, 0, 0, 0, 0, 0, 0, 0, 0, 1, 0, 0, 0, 0, 0, 1, 0, 0, 0, 0, 0]: >> Prediction: 0.5360277891159058\n",
      "Sample 174 >> Input: [1, '5', 19, 0.0, 0.0, 0, 0, 0, 0, 0, 0, 0, 0, 0, 0, 0, 0, 0, 1, 0, 0, 0, 1, 0, 0, 0, 0, 0]: >> Prediction: 0.5547296404838562\n",
      "Sample 175 >> Input: [1, '5', 10, 0.0, 0.0, 0, 0, 0, 0, 0, 0, 0, 0, 0, 0, 0, 0, 0, 1, 0, 0, 0, 0, 0, 1, 0, 0, 0]: >> Prediction: 0.49675580859184265\n",
      "Sample 176 >> Input: [0, '3', 11, 0.0, 0.0, 1, 0, 0, 0, 0, 0, 0, 0, 0, 0, 0, 0, 0, 0, 0, 0, 1, 0, 0, 0, 0, 0, 0]: >> Prediction: 0.5360277891159058\n",
      "Sample 177 >> Input: [0, '4', 1, 0.0, 0.0, 1, 0, 0, 0, 0, 0, 0, 0, 0, 0, 0, 0, 0, 0, 0, 0, 0, 1, 0, 0, 0, 0, 0]: >> Prediction: 0.4856231212615967\n",
      "Sample 178 >> Input: [1, '1', 5, 0.0, 0.0, 0, 0, 0, 0, 0, 0, 0, 0, 0, 0, 0, 1, 0, 0, 0, 0, 0, 1, 0, 0, 0, 0, 0]: >> Prediction: 0.5360097289085388\n",
      "Sample 179 >> Input: [0, '4', 19, 0.0, 0.0, 0, 0, 0, 0, 0, 0, 0, 0, 0, 0, 0, 0, 1, 0, 0, 0, 0, 0, 0, 0, 0, 1, 0]: >> Prediction: 0.5250639915466309\n",
      "Sample 180 >> Input: [0, '5', 0, 0.0, 0.0, 0, 0, 0, 0, 0, 0, 0, 0, 0, 0, 0, 1, 0, 0, 0, 0, 0, 0, 0, 0, 1, 0, 0]: >> Prediction: 0.46274590492248535\n",
      "Sample 181 >> Input: [0, '6', 20, 0.0, 0.0, 0, 0, 0, 0, 0, 0, 0, 0, 0, 0, 1, 0, 0, 0, 0, 0, 0, 0, 0, 0, 0, 1, 0]: >> Prediction: 0.4724771976470947\n",
      "Sample 182 >> Input: [0, '2', 15, 0.0, 0.0, 0, 0, 0, 0, 0, 0, 0, 0, 0, 0, 0, 0, 1, 0, 0, 1, 0, 0, 0, 0, 0, 0, 0]: >> Prediction: 0.5332252979278564\n",
      "Sample 183 >> Input: [1, '1', 19, 0.0, 0.0, 0, 0, 0, 0, 0, 0, 0, 0, 0, 1, 0, 0, 0, 0, 0, 0, 0, 0, 0, 0, 0, 0, 1]: >> Prediction: 0.5304257273674011\n",
      "Sample 184 >> Input: [1, '3', 11, 0.0, 0.0, 0, 0, 0, 0, 0, 0, 0, 0, 0, 0, 1, 0, 0, 0, 0, 0, 1, 0, 0, 0, 0, 0, 0]: >> Prediction: 0.5534871220588684\n",
      "Sample 185 >> Input: [0, '1', 11, 0.0, 0.0, 0, 0, 0, 0, 0, 0, 0, 0, 0, 0, 1, 0, 0, 0, 0, 0, 0, 0, 0, 0, 0, 0, 1]: >> Prediction: 0.5360277891159058\n",
      "Sample 186 >> Input: [0, '6', 18, 0.0, 0.0, 0, 0, 0, 0, 0, 0, 0, 0, 0, 0, 1, 0, 0, 0, 0, 0, 0, 1, 0, 0, 0, 0, 0]: >> Prediction: 0.4724771976470947\n",
      "Sample 187 >> Input: [1, '2', 7, 0.0, 0.0, 0, 0, 0, 0, 0, 1, 0, 0, 0, 0, 0, 0, 0, 0, 0, 0, 1, 0, 0, 0, 0, 0, 0]: >> Prediction: 0.5360097289085388\n",
      "Sample 188 >> Input: [1, '3', 18, 0.0, 0.0, 0, 0, 0, 0, 0, 0, 0, 1, 0, 0, 0, 0, 0, 0, 1, 0, 0, 0, 0, 0, 0, 0, 0]: >> Prediction: 0.5732009410858154\n",
      "Sample 189 >> Input: [0, '5', 21, 0.0, 0.0, 0, 0, 0, 0, 0, 0, 0, 0, 0, 0, 0, 1, 0, 0, 0, 0, 0, 0, 1, 0, 0, 0, 0]: >> Prediction: 0.47239387035369873\n",
      "Sample 190 >> Input: [0, '1', 23, 0.0, 0.0, 0, 0, 0, 0, 0, 0, 0, 0, 0, 0, 0, 0, 0, 1, 1, 0, 0, 0, 0, 0, 0, 0, 0]: >> Prediction: 0.5401649475097656\n",
      "Sample 191 >> Input: [1, '2', 7, 0.0, 0.0, 0, 0, 0, 0, 0, 0, 0, 1, 0, 0, 0, 0, 0, 0, 0, 0, 0, 0, 0, 0, 0, 0, 1]: >> Prediction: 0.5360097289085388\n",
      "Sample 192 >> Input: [0, '2', 1, 0.0, 0.0, 0, 0, 0, 0, 0, 0, 0, 0, 0, 0, 0, 1, 0, 0, 0, 0, 1, 0, 0, 0, 0, 0, 0]: >> Prediction: 0.5188708305358887\n",
      "Sample 193 >> Input: [1, '3', 20, 0.0, 0.0, 1, 0, 0, 0, 0, 0, 0, 0, 0, 0, 0, 0, 0, 0, 0, 0, 1, 0, 0, 0, 0, 0, 0]: >> Prediction: 0.5937598347663879\n",
      "Sample 194 >> Input: [1, '6', 1, 0.0, 0.0, 0, 0, 0, 0, 0, 0, 0, 0, 0, 0, 1, 0, 0, 0, 0, 0, 1, 0, 0, 0, 0, 0, 0]: >> Prediction: 0.4638194143772125\n",
      "Sample 195 >> Input: [0, '3', 0, 0.0, 0.0, 0, 0, 0, 0, 0, 0, 0, 0, 0, 0, 0, 1, 0, 0, 0, 0, 0, 0, 0, 0, 0, 1, 0]: >> Prediction: 0.5188708305358887\n",
      "Sample 196 >> Input: [0, '2', 14, 0.0, 0.0, 0, 0, 0, 0, 0, 0, 0, 0, 0, 0, 0, 0, 0, 1, 0, 0, 0, 0, 0, 0, 1, 0, 0]: >> Prediction: 0.5332252979278564\n",
      "Sample 197 >> Input: [1, '2', 20, 0.0, 0.0, 0, 0, 0, 0, 0, 0, 0, 0, 0, 0, 1, 0, 0, 0, 0, 0, 0, 1, 0, 0, 0, 0, 0]: >> Prediction: 0.5304257273674011\n",
      "Sample 198 >> Input: [1, '4', 12, 0.0, 0.0, 0, 0, 0, 0, 0, 0, 0, 0, 0, 0, 0, 1, 0, 0, 0, 0, 0, 0, 1, 0, 0, 0, 0]: >> Prediction: 0.5544485449790955\n",
      "Sample 199 >> Input: [1, '4', 1, 0.0, 0.0, 0, 0, 0, 0, 0, 0, 0, 0, 0, 0, 0, 0, 1, 0, 0, 1, 0, 0, 0, 0, 0, 0, 0]: >> Prediction: 0.49388447403907776\n",
      "Sample 200 >> Input: [1, '3', 21, 0.0, 0.0, 0, 0, 0, 0, 1, 0, 0, 0, 0, 0, 0, 0, 0, 0, 0, 0, 0, 0, 1, 0, 0, 0, 0]: >> Prediction: 0.5937598347663879\n",
      "Sample 201 >> Input: [1, '6', 8, 0.0, 0.0, 0, 0, 0, 0, 0, 0, 0, 0, 0, 0, 0, 0, 0, 1, 0, 0, 0, 0, 1, 0, 0, 0, 0]: >> Prediction: 0.45879191160202026\n",
      "Sample 202 >> Input: [0, '6', 13, 0.0, 0.0, 0, 0, 0, 0, 0, 0, 0, 0, 0, 0, 0, 0, 0, 1, 0, 0, 0, 0, 0, 0, 1, 0, 0]: >> Prediction: 0.4669076204299927\n",
      "Sample 203 >> Input: [0, '2', 12, 0.0, 0.0, 0, 0, 0, 0, 0, 0, 0, 0, 0, 0, 1, 0, 0, 0, 0, 0, 1, 0, 0, 0, 0, 0, 0]: >> Prediction: 0.5332252979278564\n",
      "Sample 204 >> Input: [0, '3', 21, 0.0, 0.0, 0, 0, 0, 0, 0, 0, 0, 0, 0, 0, 0, 1, 0, 0, 0, 0, 1, 0, 0, 0, 0, 0, 0]: >> Prediction: 0.5440133213996887\n",
      "Sample 205 >> Input: [0, '3', 2, 0.0, 0.0, 0, 0, 0, 0, 0, 0, 0, 0, 0, 0, 1, 0, 0, 0, 0, 0, 0, 1, 0, 0, 0, 0, 0]: >> Prediction: 0.5188708305358887\n",
      "Sample 206 >> Input: [1, '1', 17, 0.0, 0.0, 0, 0, 0, 0, 0, 0, 0, 0, 0, 0, 0, 0, 1, 0, 0, 1, 0, 0, 0, 0, 0, 0, 0]: >> Prediction: 0.5332071781158447\n",
      "Sample 207 >> Input: [1, '3', 23, 0.0, 0.0, 0, 0, 0, 0, 0, 0, 0, 0, 0, 0, 0, 0, 0, 1, 0, 0, 0, 0, 1, 0, 0, 0, 0]: >> Prediction: 0.6004737615585327\n",
      "Sample 208 >> Input: [1, '4', 17, 0.0, 0.0, 0, 0, 0, 0, 0, 0, 0, 0, 0, 0, 1, 0, 0, 0, 0, 0, 1, 0, 0, 0, 0, 0, 0]: >> Prediction: 0.5718823671340942\n",
      "Sample 209 >> Input: [0, '6', 24, 0.0, 0.0, 0, 0, 1, 0, 0, 0, 0, 0, 0, 0, 0, 0, 0, 0, 0, 0, 0, 0, 1, 0, 0, 0, 0]: >> Prediction: 0.4935668110847473\n",
      "Sample 210 >> Input: [0, '5', 6, 0.0, 0.0, 0, 0, 0, 0, 0, 0, 0, 0, 0, 0, 0, 1, 0, 0, 0, 0, 0, 0, 0, 1, 0, 0, 0]: >> Prediction: 0.45772016048431396\n",
      "Sample 211 >> Input: [1, '5', 18, 0.0, 1.0, 0, 0, 0, 0, 0, 0, 0, 0, 0, 0, 0, 0, 0, 0, 0, 0, 0, 0, 0, 0, 0, 1, 0]: >> Prediction: 0.533746600151062\n",
      "Sample 212 >> Input: [1, '5', 8, 0.0, 0.0, 0, 0, 0, 0, 0, 0, 0, 0, 0, 0, 1, 0, 0, 0, 0, 0, 0, 1, 0, 0, 0, 0, 0]: >> Prediction: 0.49675580859184265\n",
      "Sample 213 >> Input: [0, '5', 18, 0.0, 0.0, 0, 0, 0, 0, 0, 0, 0, 0, 0, 0, 0, 1, 0, 0, 0, 0, 0, 0, 1, 0, 0, 0, 0]: >> Prediction: 0.47239387035369873\n",
      "Sample 214 >> Input: [1, '1', 0, 0.0, 0.0, 0, 0, 0, 0, 0, 0, 0, 0, 0, 0, 0, 0, 1, 0, 0, 0, 1, 0, 0, 0, 0, 0, 0]: >> Prediction: 0.5094481706619263\n",
      "Sample 215 >> Input: [0, '1', 23, 0.0, 0.0, 0, 0, 0, 0, 0, 0, 0, 0, 0, 0, 1, 0, 0, 0, 0, 0, 0, 1, 0, 0, 0, 0, 0]: >> Prediction: 0.5401649475097656\n",
      "Sample 216 >> Input: [1, '5', 11, 0.0, 0.0, 0, 0, 0, 0, 0, 0, 0, 0, 0, 0, 1, 0, 0, 0, 0, 0, 0, 1, 0, 0, 0, 0, 0]: >> Prediction: 0.49924415349960327\n",
      "Sample 217 >> Input: [1, '2', 20, 0.0, 0.0, 0, 0, 0, 0, 0, 0, 0, 0, 0, 0, 1, 0, 0, 0, 0, 0, 0, 0, 1, 0, 0, 0, 0]: >> Prediction: 0.5304257273674011\n",
      "Sample 218 >> Input: [0, '5', 13, 0.0, 0.0, 0, 0, 0, 0, 0, 0, 0, 0, 0, 0, 1, 0, 0, 0, 0, 1, 0, 0, 0, 0, 0, 0, 0]: >> Prediction: 0.46682441234588623\n",
      "Sample 219 >> Input: [0, '4', 6, 0.0, 0.0, 0, 0, 0, 0, 0, 0, 0, 0, 0, 0, 0, 0, 0, 1, 0, 0, 0, 0, 0, 1, 0, 0, 0]: >> Prediction: 0.5028297305107117\n",
      "Sample 220 >> Input: [1, '5', 4, 0.0, 0.0, 0, 0, 0, 0, 0, 0, 0, 0, 0, 0, 0, 1, 0, 0, 0, 0, 1, 0, 0, 0, 0, 0, 0]: >> Prediction: 0.4866846799850464\n",
      "Sample 221 >> Input: [1, '1', 1, 0.0, 0.0, 0, 0, 0, 0, 0, 0, 0, 0, 0, 0, 0, 1, 0, 0, 0, 0, 0, 0, 0, 0, 1, 0, 0]: >> Prediction: 0.5094481706619263\n",
      "Sample 222 >> Input: [0, '1', 4, 0.0, 0.0, 0, 0, 0, 0, 0, 0, 0, 0, 0, 0, 0, 1, 0, 0, 0, 0, 0, 0, 0, 1, 0, 0, 0]: >> Prediction: 0.5410555005073547\n",
      "Sample 223 >> Input: [1, '5', 20, 0.0, 0.0, 0, 0, 0, 0, 0, 0, 0, 0, 0, 0, 0, 1, 0, 0, 0, 0, 0, 0, 1, 0, 0, 0, 0]: >> Prediction: 0.5547296404838562\n",
      "Sample 224 >> Input: [1, '1', 17, 0.0, 0.0, 0, 0, 0, 0, 0, 0, 0, 0, 0, 0, 0, 1, 0, 0, 0, 1, 0, 0, 0, 0, 0, 0, 0]: >> Prediction: 0.5332071781158447\n",
      "Sample 225 >> Input: [1, '5', 0, 0.0, 0.0, 0, 0, 0, 0, 0, 0, 0, 0, 0, 0, 0, 1, 0, 0, 0, 0, 0, 0, 0, 0, 0, 1, 0]: >> Prediction: 0.4866846799850464\n",
      "Sample 226 >> Input: [0, '1', 2, 0.0, 0.0, 0, 0, 0, 0, 0, 0, 0, 0, 0, 0, 1, 0, 0, 0, 0, 0, 0, 0, 0, 0, 1, 0, 0]: >> Prediction: 0.5188708305358887\n",
      "Sample 227 >> Input: [0, '4', 10, 0.0, 0.0, 0, 0, 0, 0, 0, 0, 0, 0, 0, 0, 0, 1, 0, 0, 0, 0, 0, 0, 1, 0, 0, 0, 0]: >> Prediction: 0.5028297305107117\n",
      "Sample 228 >> Input: [0, '6', 15, 0.0, 0.0, 0, 0, 0, 0, 0, 0, 0, 0, 0, 0, 0, 1, 0, 0, 0, 0, 0, 0, 0, 1, 0, 0, 0]: >> Prediction: 0.4669076204299927\n",
      "Sample 229 >> Input: [0, '4', 21, 0.0, 0.0, 0, 0, 0, 0, 0, 0, 0, 0, 0, 0, 1, 0, 0, 0, 0, 0, 0, 0, 0, 0, 0, 0, 1]: >> Prediction: 0.5250639915466309\n",
      "Sample 230 >> Input: [1, '1', 3, 0.0, 0.0, 0, 1, 0, 0, 0, 0, 0, 0, 0, 0, 0, 0, 0, 0, 0, 0, 0, 0, 0, 0, 1, 0, 0]: >> Prediction: 0.5094481706619263\n",
      "Sample 231 >> Input: [1, '5', 1, 0.0, 0.0, 0, 0, 0, 0, 0, 0, 0, 0, 0, 0, 0, 0, 1, 0, 0, 0, 1, 0, 0, 0, 0, 0, 0]: >> Prediction: 0.4866846799850464\n",
      "Sample 232 >> Input: [1, '5', 20, 0.0, 0.0, 0, 1, 0, 0, 0, 0, 0, 0, 0, 0, 0, 0, 0, 0, 0, 0, 0, 0, 1, 0, 0, 0, 0]: >> Prediction: 0.5618343353271484\n",
      "Sample 233 >> Input: [0, '6', 3, 0.0, 0.0, 0, 0, 0, 0, 0, 0, 0, 0, 0, 0, 0, 1, 0, 0, 0, 0, 1, 0, 0, 0, 0, 0, 0]: >> Prediction: 0.462829053401947\n",
      "Sample 234 >> Input: [0, '1', 10, 0.0, 0.0, 0, 0, 0, 0, 0, 0, 0, 0, 0, 0, 0, 0, 0, 1, 0, 0, 0, 1, 0, 0, 0, 0, 0]: >> Prediction: 0.5360277891159058\n",
      "Sample 235 >> Input: [1, '6', 15, 0.0, 0.0, 0, 0, 0, 0, 0, 0, 0, 0, 0, 0, 0, 1, 0, 0, 0, 0, 1, 0, 0, 0, 0, 0, 0]: >> Prediction: 0.4738529920578003\n",
      "Sample 236 >> Input: [1, '4', 7, 0.0, 0.0, 0, 0, 0, 1, 0, 0, 0, 0, 0, 0, 0, 0, 0, 0, 0, 0, 0, 0, 0, 0, 0, 0, 1]: >> Prediction: 0.5355788469314575\n",
      "Sample 237 >> Input: [1, '4', 3, 0.0, 0.0, 0, 0, 0, 0, 0, 0, 0, 0, 0, 0, 0, 0, 1, 0, 1, 0, 0, 0, 0, 0, 0, 0, 0]: >> Prediction: 0.49388447403907776\n",
      "Sample 238 >> Input: [1, '2', 15, 0.0, 0.0, 0, 0, 0, 0, 0, 0, 0, 1, 0, 0, 0, 0, 0, 0, 0, 0, 1, 0, 0, 0, 0, 0, 0]: >> Prediction: 0.5332071781158447\n",
      "Sample 239 >> Input: [1, '2', 21, 0.0, 0.0, 1, 0, 0, 0, 0, 0, 0, 0, 0, 0, 0, 0, 0, 0, 1, 0, 0, 0, 0, 0, 0, 0, 0]: >> Prediction: 0.5304257273674011\n",
      "Sample 240 >> Input: [1, '3', 7, 0.0, 0.0, 0, 1, 0, 0, 0, 0, 0, 0, 0, 0, 0, 0, 0, 0, 0, 0, 0, 0, 0, 0, 0, 0, 1]: >> Prediction: 0.551025927066803\n",
      "Sample 241 >> Input: [1, '2', 10, 0.0, 0.0, 0, 0, 0, 0, 1, 0, 0, 0, 0, 0, 0, 0, 0, 0, 0, 0, 1, 0, 0, 0, 0, 0, 0]: >> Prediction: 0.5360097289085388\n",
      "Sample 242 >> Input: [1, '1', 9, 0.0, 0.0, 0, 0, 0, 0, 0, 0, 0, 0, 0, 0, 0, 1, 0, 0, 1, 0, 0, 0, 0, 0, 0, 0, 0]: >> Prediction: 0.5360097289085388\n",
      "Sample 243 >> Input: [1, '4', 4, 0.0, 0.0, 0, 1, 0, 0, 0, 0, 0, 0, 0, 0, 0, 0, 0, 0, 0, 0, 0, 0, 0, 0, 0, 0, 1]: >> Prediction: 0.5255426168441772\n",
      "Sample 244 >> Input: [0, '1', 4, 0.0, 0.0, 0, 0, 0, 0, 0, 0, 0, 0, 0, 0, 0, 1, 0, 0, 0, 0, 0, 0, 1, 0, 0, 0, 0]: >> Prediction: 0.5410555005073547\n",
      "Sample 245 >> Input: [0, '3', 22, 0.0, 0.0, 0, 0, 0, 0, 0, 0, 0, 0, 0, 0, 0, 1, 0, 0, 0, 0, 0, 0, 0, 1, 0, 0, 0]: >> Prediction: 0.5509276390075684\n",
      "Sample 246 >> Input: [0, '4', 18, 0.0, 0.0, 0, 0, 0, 0, 0, 0, 0, 0, 0, 0, 0, 1, 0, 0, 0, 1, 0, 0, 0, 0, 0, 0, 0]: >> Prediction: 0.5250639915466309\n",
      "Sample 247 >> Input: [1, '4', 13, 0.0, 0.0, 0, 0, 0, 0, 0, 0, 0, 0, 0, 0, 0, 0, 0, 1, 0, 0, 0, 1, 0, 0, 0, 0, 0]: >> Prediction: 0.5544485449790955\n",
      "Sample 248 >> Input: [0, '3', 19, 0.0, 0.0, 0, 0, 0, 0, 0, 0, 0, 0, 0, 0, 0, 0, 1, 0, 0, 0, 1, 0, 0, 0, 0, 0, 0]: >> Prediction: 0.5440133213996887\n",
      "Sample 249 >> Input: [0, '6', 17, 0.0, 0.0, 0, 0, 0, 0, 0, 0, 0, 0, 0, 0, 1, 0, 0, 0, 0, 0, 0, 1, 0, 0, 0, 0, 0]: >> Prediction: 0.4724771976470947\n",
      "Sample 250 >> Input: [1, '4', 13, 0.0, 0.0, 0, 0, 0, 1, 0, 0, 0, 0, 0, 0, 0, 0, 0, 0, 0, 0, 1, 0, 0, 0, 0, 0, 0]: >> Prediction: 0.5544485449790955\n",
      "Sample 251 >> Input: [0, '6', 20, 0.0, 0.0, 0, 0, 0, 0, 0, 0, 0, 0, 0, 0, 1, 0, 0, 0, 0, 0, 0, 0, 0, 0, 1, 0, 0]: >> Prediction: 0.4724771976470947\n",
      "Sample 252 >> Input: [0, '2', 24, 0.0, 0.0, 0, 0, 0, 0, 0, 0, 0, 0, 0, 0, 1, 0, 0, 0, 0, 0, 0, 0, 0, 0, 1, 0, 0]: >> Prediction: 0.5401649475097656\n",
      "Sample 253 >> Input: [0, '6', 21, 0.0, 0.0, 0, 0, 0, 0, 0, 0, 0, 0, 0, 0, 1, 0, 0, 0, 0, 0, 0, 1, 0, 0, 0, 0, 0]: >> Prediction: 0.4724771976470947\n",
      "Sample 254 >> Input: [1, '4', 16, 0.0, 0.0, 0, 0, 0, 0, 0, 0, 0, 0, 0, 0, 1, 0, 0, 0, 0, 0, 0, 0, 1, 0, 0, 0, 0]: >> Prediction: 0.5663991570472717\n",
      "Sample 255 >> Input: [1, '3', 16, 0.0, 0.0, 0, 0, 0, 0, 0, 0, 0, 0, 0, 0, 1, 0, 0, 0, 0, 0, 0, 1, 0, 0, 0, 0, 0]: >> Prediction: 0.5732009410858154\n",
      "Sample 256 >> Input: [1, '3', 15, 0.0, 0.0, 0, 0, 0, 0, 0, 0, 0, 0, 0, 0, 0, 0, 1, 0, 0, 0, 0, 1, 0, 0, 0, 0, 0]: >> Prediction: 0.5612926483154297\n",
      "Sample 257 >> Input: [0, '1', 10, 0.0, 0.0, 0, 0, 0, 0, 0, 0, 0, 0, 0, 0, 0, 0, 0, 1, 0, 0, 0, 0, 1, 0, 0, 0, 0]: >> Prediction: 0.5360277891159058\n",
      "Sample 258 >> Input: [1, '1', 9, 0.0, 0.0, 0, 0, 0, 0, 0, 0, 1, 0, 0, 0, 0, 0, 0, 0, 0, 1, 0, 0, 0, 0, 0, 0, 0]: >> Prediction: 0.5360097289085388\n",
      "Sample 259 >> Input: [0, '2', 5, 0.0, 0.0, 0, 0, 0, 0, 0, 0, 0, 0, 0, 0, 0, 1, 0, 0, 0, 0, 0, 0, 1, 0, 0, 0, 0]: >> Prediction: 0.5360277891159058\n",
      "Sample 260 >> Input: [1, '5', 21, 0.0, 0.0, 0, 0, 0, 0, 0, 0, 0, 0, 0, 0, 0, 1, 0, 0, 0, 0, 0, 0, 1, 0, 0, 0, 0]: >> Prediction: 0.5547296404838562\n",
      "Sample 261 >> Input: [0, '4', 3, 0.0, 0.0, 0, 0, 0, 0, 0, 0, 0, 0, 0, 0, 0, 1, 0, 0, 0, 0, 1, 0, 0, 0, 0, 0, 0]: >> Prediction: 0.4856231212615967\n",
      "Sample 262 >> Input: [1, '1', 15, 0.0, 0.0, 1, 0, 0, 0, 0, 0, 0, 0, 0, 0, 0, 0, 0, 0, 0, 0, 0, 0, 0, 1, 0, 0, 0]: >> Prediction: 0.5332071781158447\n",
      "Sample 263 >> Input: [1, '6', 14, 0.0, 0.0, 0, 0, 0, 0, 0, 0, 0, 0, 0, 0, 1, 0, 0, 0, 0, 0, 0, 0, 0, 0, 0, 0, 1]: >> Prediction: 0.4738529920578003\n",
      "Sample 264 >> Input: [0, '4', 18, 0.0, 0.0, 0, 0, 0, 0, 0, 0, 0, 0, 0, 0, 0, 1, 0, 0, 0, 0, 0, 0, 1, 0, 0, 0, 0]: >> Prediction: 0.5250639915466309\n",
      "Sample 265 >> Input: [1, '3', 2, 0.0, 0.0, 0, 0, 0, 0, 0, 0, 0, 0, 0, 0, 0, 1, 0, 0, 0, 0, 0, 0, 1, 0, 0, 0, 0]: >> Prediction: 0.5094481706619263\n",
      "Sample 266 >> Input: [0, '1', 14, 0.0, 0.0, 0, 0, 0, 0, 0, 0, 0, 0, 0, 0, 1, 0, 0, 0, 0, 0, 0, 1, 0, 0, 0, 0, 0]: >> Prediction: 0.5332252979278564\n",
      "Sample 267 >> Input: [0, '3', 20, 0.0, 0.0, 0, 0, 0, 0, 0, 0, 0, 0, 0, 0, 0, 1, 0, 0, 0, 0, 1, 0, 0, 0, 0, 0, 0]: >> Prediction: 0.5440133213996887\n",
      "Sample 268 >> Input: [1, '5', 5, 0.0, 0.0, 0, 0, 0, 0, 0, 0, 0, 0, 0, 0, 0, 0, 0, 1, 0, 0, 0, 0, 0, 0, 0, 1, 0]: >> Prediction: 0.4816320240497589\n",
      "Sample 269 >> Input: [0, '3', 17, 0.0, 0.0, 0, 0, 0, 0, 0, 0, 0, 0, 0, 0, 0, 1, 0, 0, 0, 0, 0, 0, 0, 1, 0, 0, 0]: >> Prediction: 0.5440133213996887\n",
      "Sample 270 >> Input: [1, '4', 24, 0.0, 0.0, 0, 0, 1, 0, 0, 0, 0, 0, 0, 0, 0, 0, 0, 0, 0, 0, 1, 0, 0, 0, 0, 0, 0]: >> Prediction: 0.6058259606361389\n",
      "Sample 271 >> Input: [1, '6', 19, 0.0, 0.0, 0, 0, 0, 0, 0, 0, 0, 0, 0, 0, 0, 0, 1, 0, 0, 0, 0, 0, 0, 1, 0, 0, 0]: >> Prediction: 0.4794308841228485\n",
      "Sample 272 >> Input: [1, '2', 5, 0.0, 0.0, 0, 0, 0, 0, 0, 0, 0, 0, 0, 0, 1, 0, 0, 0, 0, 0, 0, 1, 0, 0, 0, 0, 0]: >> Prediction: 0.5360097289085388\n",
      "Sample 273 >> Input: [0, '1', 15, 0.0, 0.0, 0, 0, 0, 0, 0, 0, 0, 0, 0, 0, 0, 1, 0, 0, 0, 0, 0, 0, 0, 0, 0, 0, 1]: >> Prediction: 0.5332252979278564\n",
      "Sample 274 >> Input: [0, '2', 20, 0.0, 0.0, 0, 0, 0, 0, 0, 0, 0, 0, 0, 0, 1, 0, 0, 0, 0, 0, 0, 0, 0, 0, 0, 1, 0]: >> Prediction: 0.5332252979278564\n",
      "Sample 275 >> Input: [0, '4', 13, 0.0, 0.0, 0, 1, 0, 0, 0, 0, 0, 0, 0, 0, 0, 0, 0, 0, 1, 0, 0, 0, 0, 0, 0, 0, 0]: >> Prediction: 0.5158764719963074\n",
      "Sample 276 >> Input: [0, '5', 1, 0.0, 0.0, 0, 0, 0, 0, 0, 0, 0, 0, 0, 0, 0, 0, 1, 0, 0, 0, 1, 0, 0, 0, 0, 0, 0]: >> Prediction: 0.46274590492248535\n",
      "Sample 277 >> Input: [1, '1', 17, 0.0, 0.0, 0, 0, 1, 0, 0, 0, 0, 0, 0, 0, 0, 0, 0, 0, 0, 1, 0, 0, 0, 0, 0, 0, 0]: >> Prediction: 0.5332071781158447\n",
      "Sample 278 >> Input: [0, '3', 12, 0.0, 0.0, 0, 0, 0, 0, 0, 0, 0, 0, 0, 0, 1, 0, 0, 0, 0, 0, 0, 0, 0, 0, 0, 1, 0]: >> Prediction: 0.5404260754585266\n",
      "Sample 279 >> Input: [0, '5', 6, 0.0, 0.0, 0, 0, 0, 0, 0, 0, 0, 0, 0, 0, 0, 0, 0, 1, 0, 0, 0, 1, 0, 0, 0, 0, 0]: >> Prediction: 0.45772016048431396\n",
      "Sample 280 >> Input: [0, '6', 22, 0.0, 0.0, 0, 0, 0, 0, 0, 0, 0, 0, 0, 0, 0, 1, 0, 0, 0, 0, 0, 0, 1, 0, 0, 0, 0]: >> Prediction: 0.4824259579181671\n",
      "Sample 281 >> Input: [1, '6', 16, 0.0, 0.0, 0, 0, 0, 0, 0, 0, 0, 0, 0, 0, 0, 1, 0, 0, 0, 0, 0, 0, 0, 0, 0, 0, 1]: >> Prediction: 0.4738529920578003\n",
      "Sample 282 >> Input: [1, '2', 4, 0.0, 0.0, 0, 0, 0, 0, 0, 0, 0, 0, 0, 0, 0, 0, 1, 0, 0, 0, 0, 1, 0, 0, 0, 0, 0]: >> Prediction: 0.5410374402999878\n",
      "Sample 283 >> Input: [0, '6', 7, 0.0, 0.0, 0, 0, 0, 0, 0, 0, 0, 0, 0, 0, 0, 1, 0, 0, 0, 0, 0, 0, 1, 0, 0, 0, 0]: >> Prediction: 0.4578031301498413\n",
      "Sample 284 >> Input: [1, '2', 16, 0.0, 0.0, 0, 0, 0, 0, 0, 0, 0, 0, 0, 0, 1, 0, 0, 0, 0, 0, 0, 1, 0, 0, 0, 0, 0]: >> Prediction: 0.5332071781158447\n",
      "Sample 285 >> Input: [0, '3', 5, 0.0, 0.0, 0, 0, 0, 0, 0, 0, 0, 0, 0, 0, 1, 0, 0, 0, 0, 0, 0, 0, 0, 0, 0, 1, 0]: >> Prediction: 0.5360277891159058\n",
      "Sample 286 >> Input: [0, '6', 7, 1.0, 0.0, 0, 0, 0, 0, 0, 0, 0, 0, 0, 0, 0, 0, 0, 0, 0, 0, 0, 0, 0, 0, 0, 0, 1]: >> Prediction: 0.4578031301498413\n",
      "Sample 287 >> Input: [0, '3', 17, 0.0, 0.0, 0, 1, 0, 0, 0, 0, 0, 0, 0, 0, 0, 0, 0, 0, 0, 0, 0, 0, 0, 0, 0, 1, 0]: >> Prediction: 0.5440133213996887\n",
      "Sample 288 >> Input: [1, '3', 22, 1.0, 0.0, 0, 0, 0, 0, 0, 0, 0, 0, 0, 0, 0, 0, 0, 0, 0, 0, 0, 0, 0, 0, 0, 1, 0]: >> Prediction: 0.6004737615585327\n",
      "Sample 289 >> Input: [0, '4', 4, 0.0, 0.0, 0, 0, 1, 0, 0, 0, 0, 0, 0, 0, 0, 0, 0, 0, 0, 0, 0, 1, 0, 0, 0, 0, 0]: >> Prediction: 0.5078868865966797\n",
      "Sample 290 >> Input: [0, '5', 3, 0.0, 0.0, 0, 0, 0, 0, 0, 0, 0, 0, 0, 0, 1, 0, 0, 0, 1, 0, 0, 0, 0, 0, 0, 0, 0]: >> Prediction: 0.46274590492248535\n",
      "Sample 291 >> Input: [0, '1', 5, 0.0, 0.0, 0, 0, 0, 0, 0, 0, 0, 0, 0, 0, 0, 1, 0, 0, 0, 0, 1, 0, 0, 0, 0, 0, 0]: >> Prediction: 0.5360277891159058\n",
      "Sample 292 >> Input: [0, '5', 1, 0.0, 0.0, 0, 0, 0, 0, 0, 0, 0, 1, 0, 0, 0, 0, 0, 0, 0, 0, 0, 0, 0, 0, 0, 1, 0]: >> Prediction: 0.46274590492248535\n",
      "Sample 293 >> Input: [1, '1', 12, 0.0, 0.0, 0, 0, 0, 0, 0, 1, 0, 0, 0, 0, 0, 0, 0, 0, 0, 1, 0, 0, 0, 0, 0, 0, 0]: >> Prediction: 0.5332071781158447\n",
      "Sample 294 >> Input: [0, '2', 13, 0.0, 0.0, 0, 0, 0, 0, 0, 0, 0, 0, 0, 0, 0, 1, 0, 0, 0, 0, 1, 0, 0, 0, 0, 0, 0]: >> Prediction: 0.5332252979278564\n",
      "Sample 295 >> Input: [0, '6', 18, 0.0, 0.0, 0, 0, 0, 1, 0, 0, 0, 0, 0, 0, 0, 0, 0, 0, 0, 0, 0, 0, 0, 1, 0, 0, 0]: >> Prediction: 0.4724771976470947\n",
      "Sample 296 >> Input: [0, '2', 21, 0.0, 0.0, 0, 0, 0, 0, 0, 0, 0, 0, 0, 0, 0, 1, 0, 0, 0, 0, 0, 0, 1, 0, 0, 0, 0]: >> Prediction: 0.5332252979278564\n",
      "Sample 297 >> Input: [1, '6', 0, 0.0, 0.0, 0, 0, 0, 0, 0, 1, 0, 0, 0, 0, 0, 0, 0, 0, 0, 0, 0, 0, 0, 0, 1, 0, 0]: >> Prediction: 0.4638194143772125\n",
      "Sample 298 >> Input: [0, '2', 3, 0.0, 0.0, 0, 0, 0, 0, 0, 0, 0, 0, 0, 0, 0, 0, 0, 1, 0, 0, 0, 0, 1, 0, 0, 0, 0]: >> Prediction: 0.5188708305358887\n",
      "Sample 299 >> Input: [0, '2', 1, 0.0, 0.0, 0, 0, 0, 0, 0, 0, 0, 0, 0, 0, 1, 0, 0, 0, 0, 0, 0, 1, 0, 0, 0, 0, 0]: >> Prediction: 0.5188708305358887\n"
     ]
    }
   ],
   "source": [
    "# Invoke real-time inference endpoint \n",
    "for index, sample in enumerate(samples[20:]):\n",
    "\n",
    "    # Get inference response\n",
    "    response = predict(sample)\n",
    "\n",
    "    # Display the model's prediction probability\n",
    "    print('Sample {0} >> Input: {1}: >> Prediction: {2}'.format(index, sample, response))"
   ]
  },
  {
   "cell_type": "markdown",
   "metadata": {},
   "source": [
    "<a id=section_5_3></a>\n",
    "#### 5.3 Check the model monitoring processing job for completion\n",
    "\n",
    "Please wait for the first data drift monitoring job to complete. Execution may start anywhere between the first ~20 minutes after the hour boundary (i.e. 00:00 – 00:20). This is expected and done for load balancing on the backend."
   ]
  },
  {
   "cell_type": "code",
   "execution_count": 30,
   "metadata": {},
   "outputs": [
    {
     "name": "stdout",
     "output_type": "stream",
     "text": [
      "Waiting for the data drift model monitoring processing job to start...\n",
      "Waiting for the data drift model monitoring processing job to start...\n",
      "Waiting for the data drift model monitoring processing job to start...\n",
      "Waiting for the data drift model monitoring processing job to start...\n",
      "Waiting for the data drift model monitoring processing job to start...\n",
      "Waiting for the data drift model monitoring processing job to start...\n",
      "Waiting for the data drift model monitoring processing job to start...\n",
      "Waiting for the data drift model monitoring processing job to start...\n",
      "Waiting for the data drift model monitoring processing job to start...\n",
      "The data drift model monitoring processing job has started.\n"
     ]
    }
   ],
   "source": [
    "# Get the first monitoring execution details\n",
    "monitoring_executions = sm_client.list_monitoring_executions(MonitoringScheduleName=MODEL_MONITOR_SCHEDULE_NAME)\n",
    "\n",
    "# Check if monitoring job has started\n",
    "while not monitoring_executions.get('MonitoringExecutionSummaries'):\n",
    "    \n",
    "    # Progress update\n",
    "    print(\"Waiting for the data drift model monitoring processing job to start...\")\n",
    "    \n",
    "    # Pause for 60 seconds\n",
    "    time.sleep(60)\n",
    "    \n",
    "    # Get the first monitoring execution details\n",
    "    monitoring_executions = sm_client.list_monitoring_executions(MonitoringScheduleName=MODEL_MONITOR_SCHEDULE_NAME)\n",
    "\n",
    "print(\"The data drift model monitoring processing job has started.\")"
   ]
  },
  {
   "cell_type": "markdown",
   "metadata": {},
   "source": [
    "Periodically check the job's status. Upon the job's successful completion, print the ProcessingJobArn for use in section 6.3."
   ]
  },
  {
   "cell_type": "code",
   "execution_count": 31,
   "metadata": {},
   "outputs": [
    {
     "name": "stdout",
     "output_type": "stream",
     "text": [
      "Processing Job Status: Pending\n",
      "Processing Job Status: Pending\n",
      "Processing Job Status: InProgress\n",
      "Processing Job Status: InProgress\n",
      "Processing Job Status: InProgress\n",
      "Processing Job Status: InProgress\n",
      "Processing Job Status: InProgress\n",
      "Processing Job Status: InProgress\n",
      "\n",
      "Processing Job Status: CompletedWithViolations\n",
      "Processing Job Arn: arn:aws:sagemaker:us-east-1:717870172810:processing-job/model-monitoring-202101191500-ac2000d03f76a75bf08671ab\n"
     ]
    }
   ],
   "source": [
    "# Check for the first monitoring execution detail (update as needed for subsequent monitoring executions)\n",
    "if(len(monitoring_executions['MonitoringExecutionSummaries']) == 1):\n",
    "    \n",
    "    # Periodically check the processing job status \n",
    "    while True:\n",
    "        \n",
    "        # Get the first monitoring execution details\n",
    "        monitoring_executions = sm_client.list_monitoring_executions(MonitoringScheduleName=MODEL_MONITOR_SCHEDULE_NAME)    \n",
    "        monitoring_execution_details = monitoring_executions['MonitoringExecutionSummaries'][0]  \n",
    "        \n",
    "        # Get the processing job status\n",
    "        processing_job_status = monitoring_execution_details.get('MonitoringExecutionStatus')\n",
    "        \n",
    "        # Periodically check job status\n",
    "        if(processing_job_status != 'InProgress' and processing_job_status != 'Pending'):\n",
    "            \n",
    "            # Progress update\n",
    "            print(\"\\nProcessing Job Status: {}\".format(processing_job_status))\n",
    "            print(\"Processing Job Arn: {}\".format(monitoring_execution_details.get('ProcessingJobArn')))            \n",
    "            break\n",
    "\n",
    "        # Progress update\n",
    "        print(\"Processing Job Status: {}\".format(processing_job_status))   \n",
    "            \n",
    "        # Pause for 60 seconds\n",
    "        time.sleep(60)"
   ]
  },
  {
   "cell_type": "markdown",
   "metadata": {},
   "source": [
    "<a id=section_6_1></a>\n",
    "#### 6.1 Visualize the model monitor results\n",
    "\n",
    "After the data drift monitoring job has run, select Endpoints from the Sagemaker Studio Components and registries console, then double-click the endpoint name to view the Model Monitoring tab. \n",
    "\n",
    "The Monitoring status of ‘Issue found’ indicates that the monitor successfully detected one or more data quality constraint violations created by the data drift datasets. \n",
    "\n",
    "Double-click the monitoring job name to view the Model Job Details tab."
   ]
  },
  {
   "cell_type": "markdown",
   "metadata": {},
   "source": [
    "<img src=\"../images/s4-1-sm-studio-visualize-results.png\"\n",
    "    alt=\"Amazon Sagemaker Data Drift Monitoring\"\n",
    "    style=\"float: left; margin-right: 10px;\" />\n",
    "\n"
   ]
  },
  {
   "cell_type": "markdown",
   "metadata": {},
   "source": [
    "<img src=\"../images/s4-2-monitoring-job-report-details.png\"\n",
    "    alt=\"Amazon Sagemaker Model Job Report\"\n",
    "    style=\"float: left; margin-right: 10px;\" />"
   ]
  },
  {
   "cell_type": "markdown",
   "metadata": {},
   "source": [
    "<a id=section_6_2></a>\n",
    "#### 6.2 Import the SageMaker-Model-Monitor-Visualize.ipynb notebook"
   ]
  },
  {
   "cell_type": "markdown",
   "metadata": {},
   "source": [
    "To graphically visualize the distribution and the distribution statistics for all features, SakeMaker includes a pre-built notebook for viewing feature statistics.\n",
    "\n",
    "1. In the Model Job Details tab under Feature Statistics, select 'View Amazon SageMaker notebook'\n",
    "2. Select Import Notebook (in the upper-right section of the tab)\n",
    "3. Select Kernel: Python 3 (Data Science), then choose the Select button. (It may take a few minutes for the Kernel to start)"
   ]
  },
  {
   "cell_type": "markdown",
   "metadata": {},
   "source": [
    "<a id=section_6_3></a>\n",
    "#### 6.3 Run the SageMaker-Model-Monitor-Visualize.ipynb notebook"
   ]
  },
  {
   "cell_type": "markdown",
   "metadata": {},
   "source": [
    "1. After importing the SageMaker-Model-Monitor-Visualize.ipynb notebook, update the code cell that contains the variable processing_job_arn with the value from the Processing Job ARN from above.\n",
    "2. Run all cells in the notebook to review the execution and baseline details from the model monitoring processing job."
   ]
  },
  {
   "cell_type": "markdown",
   "metadata": {},
   "source": [
    "<img src=\"../images/s4-3-mm_visualize_inf_vs_baseline_stats-v2.png\"\n",
    "    alt=\"SageMaker Model Monitor Visualize notebook - Numerical Features\"\n",
    "    style=\"float: center; margin-right: 10px;\" />\n",
    "\n",
    "Tabular view of some basic statistical details such as mean, sum, standard deviation, etc... "
   ]
  },
  {
   "cell_type": "markdown",
   "metadata": {},
   "source": [
    "<img src=\"../images/s4-3-mm_visualize_inf_vs_baseline_stats_chart-v2.png\"\n",
    "    alt=\"SageMaker Model Monitor Visualize notebook - Inference feature statistics plots\"\n",
    "    style=\"float: center; margin-right: 10px;\" />\n",
    "\n",
    "Bar charts illustrating the deviation in statistical data quality between the baseline data and the data drift dataset.\n",
    "The x-axis shows the range of collected inference data versus the baseline data. The y-axis shows the frequency of values."
   ]
  },
  {
   "cell_type": "markdown",
   "metadata": {},
   "source": [
    "### Conclusion\n",
    "\n",
    "This notebook demonstrated how to subscribe to a pre-trained third-party model from the AWS Marketplace and configure a Data Quality monitoring schedule using Amazon SageMaker Model Monitor."
   ]
  },
  {
   "cell_type": "markdown",
   "metadata": {},
   "source": [
    "### Cleanup Resources"
   ]
  },
  {
   "cell_type": "code",
   "execution_count": null,
   "metadata": {},
   "outputs": [],
   "source": [
    "# Stop the monitoring schedule\n",
    "sm_client.stop_monitoring_schedule(MonitoringScheduleName=MODEL_MONITOR_SCHEDULE_NAME)\n",
    "time.sleep(30) # allow time for processing"
   ]
  },
  {
   "cell_type": "code",
   "execution_count": null,
   "metadata": {},
   "outputs": [],
   "source": [
    "# Delete the model monitoring schedule\n",
    "sm_client.delete_monitoring_schedule(MonitoringScheduleName=MODEL_MONITOR_SCHEDULE_NAME)\n",
    "time.sleep(30) # allow time for processing"
   ]
  },
  {
   "cell_type": "code",
   "execution_count": null,
   "metadata": {},
   "outputs": [],
   "source": [
    "# Delete the model endpoint\n",
    "sm_client.delete_endpoint(EndpointName=MODEL_ENDPOINT)\n",
    "time.sleep(60) # allow time for processing"
   ]
  },
  {
   "cell_type": "code",
   "execution_count": null,
   "metadata": {},
   "outputs": [],
   "source": [
    "# Delete the model endpoint config\n",
    "sm_client.delete_endpoint_config(EndpointConfigName=MODEL_ENDPOINT)\n",
    "time.sleep(30) # allow time for processing"
   ]
  },
  {
   "cell_type": "markdown",
   "metadata": {},
   "source": [
    "If you would like to unsubscribe to the model, follow these steps. Before you cancel the subscription, ensure that you do not have any [deployable model](https://console.aws.amazon.com/sagemaker/home#/models) created from the model package or using the algorithm. Note - You can find this information by looking at the container name associated with the model. \n",
    "\n",
    "**Steps to unsubscribe to product from AWS Marketplace**:\n",
    "1. Navigate to __Machine Learning__ tab on [__Your Software subscriptions page__](https://aws.amazon.com/marketplace/ai/library?productType=ml&ref_=mlmp_gitdemo_indust)\n",
    "2. Locate the listing that you would need to cancel subscription for, and then choose __Cancel Subscription__  to cancel the subscription.\n",
    "\n"
   ]
  }
 ],
 "metadata": {
  "instance_type": "ml.t3.medium",
  "kernelspec": {
   "display_name": "Python 3 (Data Science)",
   "language": "python",
   "name": "python3__SAGEMAKER_INTERNAL__arn:aws:sagemaker:us-east-1:081325390199:image/datascience-1.0"
  },
  "language_info": {
   "codemirror_mode": {
    "name": "ipython",
    "version": 3
   },
   "file_extension": ".py",
   "mimetype": "text/x-python",
   "name": "python",
   "nbconvert_exporter": "python",
   "pygments_lexer": "ipython3",
   "version": "3.7.6"
  },
  "toc": {
   "base_numbering": 1,
   "nav_menu": {},
   "number_sections": true,
   "sideBar": true,
   "skip_h1_title": false,
   "title_cell": "Table of Contents",
   "title_sidebar": "Contents",
   "toc_cell": false,
   "toc_position": {},
   "toc_section_display": true,
   "toc_window_display": false
  }
 },
 "nbformat": 4,
 "nbformat_minor": 4
}
