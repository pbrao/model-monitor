{
 "cells": [
  {
   "cell_type": "markdown",
   "metadata": {},
   "source": [
    "## Monitoring data quality in third-party models from the AWS Marketplace"
   ]
  },
  {
   "cell_type": "markdown",
   "metadata": {},
   "source": [
    "**Overview:**\n",
    "\n",
    "This notebook demonstrates how to configure an Amazon SageMaker Data Quality monitoring schedule for a pre-trained third-party model from the AWS Marketplace.\n",
    "\n",
    "**Contents:**\n",
    "- Pre-requisites\n",
    "- Step 1. Initial setup\n",
    "    - 1.1 [Import packages and modules](#section_1_1)\n",
    "    - 1.2 [Define global variables](#section_1_2)\n",
    "    - 1.3 [Uploading sample datasets to your S3 bucket](#section_1_3)\n",
    "- Step 2. Create and deploy the model endpoint with data capture\n",
    "    - 2.1 [Create the model](#section_2_1)\n",
    "    - 2.2 [Create the endpoint configuration with DataCapture](#section_2_2)\n",
    "    - 2.3 [Create the model endpoint](#section_2_3)\n",
    "    - 2.4 [Periodically check if the model's endpoint has changed from 'Creating' to 'InService'](#section_2_4)\n",
    "- Step 3. Create a baselining job to suggest a set of baseline constraints\n",
    "    - 3.1 [Create baselining job](#section_3_1)\n",
    "- Step 4. Setup a monitoring schedule to monitor the data captured for the model's endpoint\n",
    "    - 4.1 [Create a monitoring schedule](#section_4_1)\n",
    "- Step 5. Invoking the inference endpoint with anomalous data\n",
    "    - 5.1 [Initialize a Predictor to make prediction requests to the model's endpoint](#section_5_1)\n",
    "    - 5.2 [Create a data quality constraint violations](#section_5_2)\n",
    "\n",
    "\n",
    "**Pre-requisites**\n",
    "\n",
    "This notebook requires a subscription to the [Propensity-Planning to Buy a House](https://aws.amazon.com/marketplace/pp/prodview-vzofptk4lnxii) model, a pre-trained machine learning model package from AWS Marketplace."
   ]
  },
  {
   "cell_type": "markdown",
   "metadata": {},
   "source": [
    "<a id=section_1_1></a>\n",
    "#### 1.1 Import packages and modules"
   ]
  },
  {
   "cell_type": "code",
   "execution_count": 445,
   "metadata": {},
   "outputs": [],
   "source": [
    "import boto3\n",
    "import pandas as pd\n",
    "import requests\n",
    "import time\n",
    "import io\n",
    "\n",
    "from time import gmtime, strftime\n",
    "\n",
    "from sagemaker import get_execution_role\n",
    "from sagemaker import session\n",
    "from sagemaker import ModelPackage\n",
    "\n",
    "from sagemaker.predictor import Predictor\n",
    "from sagemaker.serializers import CSVSerializer\n",
    "\n",
    "from sagemaker.model_monitor import CronExpressionGenerator\n",
    "from sagemaker.model_monitor import DefaultModelMonitor\n",
    "from sagemaker.model_monitor.dataset_format import DatasetFormat"
   ]
  },
  {
   "cell_type": "markdown",
   "metadata": {},
   "source": [
    "<a id=section_1_2></a>\n",
    "#### 1.2 Globals"
   ]
  },
  {
   "cell_type": "code",
   "execution_count": 446,
   "metadata": {},
   "outputs": [],
   "source": [
    "# Get the execution role for the notebook instance.\n",
    "role = get_execution_role()\n",
    "\n",
    "# Stores configuration state and allows you to create service clients and resources\n",
    "session = session.Session()\n",
    "\n",
    "# Create a low-level client representing the Amazon S3 service\n",
    "s3_client = boto3.client('s3')\n",
    "\n",
    "# Create a low-level client representing the Amazon SageMaker service\n",
    "sm_client = boto3.client('sagemaker')\n",
    "\n",
    "# Create a low-level client representing the Amazon SageMaker Runtime\n",
    "smr_client = boto3.client('sagemaker-runtime')"
   ]
  },
  {
   "cell_type": "code",
   "execution_count": 447,
   "metadata": {},
   "outputs": [],
   "source": [
    "# S3\n",
    "BUCKET = session.default_bucket() # Update as needed\n",
    "PREFIX = 'third-party-model-seller-name' # Update as needed\n",
    "\n",
    "DATASETS = ['baseline.csv', 'data_quality_drift.csv']\n",
    "\n",
    "S3_DATA_CAPTURE_URI = 's3://{}/{}/datacapture'.format(BUCKET, PREFIX)\n",
    "S3_BASELINE_DATASET_URI = 's3://{}/{}/train/{}'.format(BUCKET, PREFIX, DATASETS[0])\n",
    "S3_BASELINE_ANALYSIS_RESULTS_URI = 's3://{}/{}/baselining'.format(BUCKET, PREFIX)\n",
    "S3_DATA_QUALITY_RPT_URI = 's3://{}/{}/reports'.format(BUCKET, PREFIX)\n",
    "\n",
    "# Model\n",
    "MODEL_PACKAGE_ARN = 'arn:aws:sagemaker:us-east-1:865070037744:model-package/planning-to-buy-house-basic-28fcb3ca751705854a7171b255d8ef43'  # Update as needed\n",
    "MODEL_NAME = 'third-party-model'\n",
    "MODEL_ENDPOINT = 'third-party-model-endpoint'\n",
    "MODEL_ENDPOINT_CONFIG = 'third-party-model-endpoint-config'\n",
    "MODEL_BASELINE_JOB = 'third-party-model-baseline-job'\n",
    "MODEL_MONITOR_SCHEDULE_NAME = 'third-party-model-data-quality-schedule'\n",
    "MODEL_MONITOR_INSTANCE_TYPE = 'ml.m4.xlarge'\n",
    "MODEL_INFERENCE_INSTANCE_TYPE = 'ml.m4.xlarge'\n",
    "MODEL_INSTANCE_COUNT = 1\n",
    "\n",
    "# Training and testing dataset url path\n",
    "TRAINING_DATASET_URI = \"https://raw.githubusercontent.com/william-screen/model-monitor/main/third-party-models/prosper/data\""
   ]
  },
  {
   "cell_type": "markdown",
   "metadata": {},
   "source": [
    "<a id=section_1_3></a>\n",
    "#### 1.3 Uploading sample datasets to your S3 bucket"
   ]
  },
  {
   "cell_type": "code",
   "execution_count": 448,
   "metadata": {},
   "outputs": [
    {
     "name": "stdout",
     "output_type": "stream",
     "text": [
      "{'ResponseMetadata': {'RequestId': '8BBADDF1EC757740', 'HostId': 'R5sN54Ifk8OvvDqbQrISP9kjqJJlbnux275Snid9az0gR+uKJ1erInCmet/80JSUrexfonXDuOg=', 'HTTPStatusCode': 200, 'HTTPHeaders': {'x-amz-id-2': 'R5sN54Ifk8OvvDqbQrISP9kjqJJlbnux275Snid9az0gR+uKJ1erInCmet/80JSUrexfonXDuOg=', 'x-amz-request-id': '8BBADDF1EC757740', 'date': 'Fri, 08 Jan 2021 14:34:57 GMT', 'etag': '\"4ccecc4c596b5986e71639344ccc9da7\"', 'content-length': '0', 'server': 'AmazonS3'}, 'RetryAttempts': 0}, 'ETag': '\"4ccecc4c596b5986e71639344ccc9da7\"'}\n",
      "{'ResponseMetadata': {'RequestId': 'C07924B58C15FEF9', 'HostId': '3NRxVuyeX6r9LHHfkAmfITScgoIb56WUCvfl+wCi6DfLPLoncv7d9zfpqLlRRXy91G7SkeD15/M=', 'HTTPStatusCode': 200, 'HTTPHeaders': {'x-amz-id-2': '3NRxVuyeX6r9LHHfkAmfITScgoIb56WUCvfl+wCi6DfLPLoncv7d9zfpqLlRRXy91G7SkeD15/M=', 'x-amz-request-id': 'C07924B58C15FEF9', 'date': 'Fri, 08 Jan 2021 14:34:57 GMT', 'etag': '\"5d7b9ffce4df799c7c09315baca9f7cb\"', 'content-length': '0', 'server': 'AmazonS3'}, 'RetryAttempts': 0}, 'ETag': '\"5d7b9ffce4df799c7c09315baca9f7cb\"'}\n"
     ]
    }
   ],
   "source": [
    "# Sample training datasets for this demo\n",
    "for file_name in DATASETS:\n",
    "   \n",
    "    dataset = '{}/{}'.format(TRAINING_DATASET_URI, file_name)\n",
    "\n",
    "    # Sends a GET request to the specified url\n",
    "    response = requests.get(dataset, stream=True)\n",
    "\n",
    "    # S3 folder prefix and key\n",
    "    key = '{0}/train/{1}'.format(PREFIX, file_name)\n",
    "\n",
    "    # Upload data to this sessions default S3 bucket\n",
    "    response = s3_client.put_object(Body = response.content,\n",
    "                         Bucket = BUCKET,\n",
    "                         Key = key,\n",
    "                         ContentType = 'text/csv')\n",
    "    print(response)"
   ]
  },
  {
   "cell_type": "markdown",
   "metadata": {},
   "source": [
    "<a id=section_2_1></a>\n",
    "#### 2.1 Create the model\n",
    "\n",
    "Creates a model in Amazon SageMaker from a model package"
   ]
  },
  {
   "cell_type": "code",
   "execution_count": 449,
   "metadata": {},
   "outputs": [],
   "source": [
    "# PrimaryContainer parameter\n",
    "model_container_params = { \n",
    "    \"ModelPackageName\": MODEL_PACKAGE_ARN\n",
    "}\n",
    "\n",
    "# Creates a model and returns the ModelArn\n",
    "response = sm_client.create_model(\n",
    "    ModelName = MODEL_NAME,\n",
    "    PrimaryContainer = model_container_params,\n",
    "    ExecutionRoleArn = role,\n",
    "    EnableNetworkIsolation = True)"
   ]
  },
  {
   "cell_type": "code",
   "execution_count": 450,
   "metadata": {},
   "outputs": [
    {
     "name": "stdout",
     "output_type": "stream",
     "text": [
      ">> The ARN of the model is: arn:aws:sagemaker:us-east-1:717870172810:model/third-party-model\n"
     ]
    }
   ],
   "source": [
    "print('>> The ARN of the model is: {}'.format(response['ModelArn']))"
   ]
  },
  {
   "cell_type": "markdown",
   "metadata": {},
   "source": [
    "<a id=section_2_2></a>\n",
    "#### 2.2 Create the endpoint configuration with DataCapture\n",
    "\n",
    "Creates an endpoint configuration that Amazon SageMaker hosting services uses to deploy models."
   ]
  },
  {
   "cell_type": "code",
   "execution_count": 451,
   "metadata": {},
   "outputs": [],
   "source": [
    "# Describes the resources that you want Amazon SageMaker to provision\n",
    "product_variant_params = {\n",
    "    'VariantName': 'AllTraffic',\n",
    "    'ModelName': MODEL_NAME,\n",
    "    'InitialInstanceCount': MODEL_INSTANCE_COUNT,\n",
    "    'InstanceType': MODEL_INFERENCE_INSTANCE_TYPE\n",
    "}\n",
    "\n",
    "# Specifies the configuration of your endpoint for model monitor data capture.\n",
    "data_capture_params = {   \n",
    "    'EnableCapture': True,\n",
    "    'InitialSamplingPercentage': 100,\n",
    "    'DestinationS3Uri': S3_DATA_CAPTURE_URI,\n",
    "    'CaptureOptions': [\n",
    "        {\n",
    "            'CaptureMode': 'Input'\n",
    "        },\n",
    "        {\n",
    "            'CaptureMode': 'Output'\n",
    "        }        \n",
    "    ],\n",
    "    'CaptureContentTypeHeader': {\n",
    "        'CsvContentTypes': ['text/csv']\n",
    "    }\n",
    "}\n",
    "\n",
    "# Creates an endpoint configuration and returns the EndpointConfigArn    \n",
    "response = sm_client.create_endpoint_config(\n",
    "    EndpointConfigName = MODEL_ENDPOINT_CONFIG,\n",
    "    ProductionVariants=[\n",
    "        product_variant_params\n",
    "    ],\n",
    "    DataCaptureConfig=data_capture_params\n",
    ")"
   ]
  },
  {
   "cell_type": "code",
   "execution_count": 452,
   "metadata": {},
   "outputs": [
    {
     "name": "stdout",
     "output_type": "stream",
     "text": [
      ">> The ARN of the endpoint config is: arn:aws:sagemaker:us-east-1:717870172810:endpoint-config/third-party-model-endpoint-config\n"
     ]
    }
   ],
   "source": [
    "print('>> The ARN of the endpoint config is: {}'.format(response['EndpointConfigArn']))"
   ]
  },
  {
   "cell_type": "markdown",
   "metadata": {},
   "source": [
    "<a id=section_2_3></a>\n",
    "#### 2.3 Create the model endpoint\n",
    "\n",
    "Creates an endpoint using the endpoint configuration"
   ]
  },
  {
   "cell_type": "code",
   "execution_count": 453,
   "metadata": {},
   "outputs": [],
   "source": [
    "# Creates an endpoint and returns the EndpointArn  \n",
    "response = sm_client.create_endpoint(\n",
    "    EndpointName = MODEL_ENDPOINT,\n",
    "    EndpointConfigName = MODEL_ENDPOINT_CONFIG\n",
    ")"
   ]
  },
  {
   "cell_type": "code",
   "execution_count": 454,
   "metadata": {},
   "outputs": [
    {
     "name": "stdout",
     "output_type": "stream",
     "text": [
      ">> The ARN of the endpoint is: arn:aws:sagemaker:us-east-1:717870172810:endpoint/third-party-model-endpoint\n"
     ]
    }
   ],
   "source": [
    "print('>> The ARN of the endpoint is: {}'.format(response['EndpointArn']))"
   ]
  },
  {
   "cell_type": "markdown",
   "metadata": {},
   "source": [
    "<a id=section_2_4></a>\n",
    "#### 2.4 Periodically check if the model's endpoint has changed from 'Creating' to 'InService'"
   ]
  },
  {
   "cell_type": "code",
   "execution_count": 455,
   "metadata": {},
   "outputs": [
    {
     "name": "stdout",
     "output_type": "stream",
     "text": [
      ">> The current status of model endpoint \"third-party-model-endpoint\" is Creating\n",
      ">> The current status of model endpoint \"third-party-model-endpoint\" is Creating\n",
      ">> The current status of model endpoint \"third-party-model-endpoint\" is Creating\n",
      ">> The current status of model endpoint \"third-party-model-endpoint\" is Creating\n",
      ">> The current status of model endpoint \"third-party-model-endpoint\" is Creating\n",
      ">> The current status of model endpoint \"third-party-model-endpoint\" is Creating\n",
      ">> The current status of model endpoint \"third-party-model-endpoint\" is Creating\n",
      ">> The current status of model endpoint \"third-party-model-endpoint\" is Creating\n",
      ">> The current status of model endpoint \"third-party-model-endpoint\" is Creating\n",
      ">> The current status of model endpoint \"third-party-model-endpoint\" is Creating\n",
      ">> The current status of model endpoint \"third-party-model-endpoint\" is Creating\n",
      ">> The current status of model endpoint \"third-party-model-endpoint\" is Creating\n",
      ">> The current status of model endpoint \"third-party-model-endpoint\" is InService\n",
      "CPU times: user 175 ms, sys: 27 ms, total: 203 ms\n",
      "Wall time: 9min 46s\n"
     ]
    }
   ],
   "source": [
    "%%time\n",
    "\n",
    "# Initialize\n",
    "model_endpoint_status = None\n",
    "\n",
    "# Get the model endpoint status descriptors\n",
    "response = sm_client.describe_endpoint(\n",
    "    EndpointName=MODEL_ENDPOINT\n",
    ")\n",
    "\n",
    "# Set the Endpoint Status value\n",
    "model_endpoint_status = response['EndpointStatus']\n",
    "\n",
    "# Check for status updates every 45 seconds\n",
    "while model_endpoint_status == 'Creating':\n",
    "    \n",
    "    # Pause execution for 45 seconds\n",
    "    time.sleep(45)\n",
    "    \n",
    "    # Get the model endpoint status descriptors\n",
    "    response = sm_client.describe_endpoint(\n",
    "        EndpointName=MODEL_ENDPOINT\n",
    "    )\n",
    "\n",
    "    # Set the Endpoint Status value\n",
    "    model_endpoint_status = response['EndpointStatus']\n",
    "    \n",
    "    # Print the current status of model endpoint\n",
    "    print('>> The current status of model endpoint \"{0}\" is {1}'.format(MODEL_ENDPOINT, model_endpoint_status))"
   ]
  },
  {
   "cell_type": "markdown",
   "metadata": {},
   "source": [
    "<a id=section_3_1></a>\n",
    "#### 3.1 Create a baselining job"
   ]
  },
  {
   "cell_type": "code",
   "execution_count": 456,
   "metadata": {},
   "outputs": [
    {
     "name": "stdout",
     "output_type": "stream",
     "text": [
      "\n",
      "Job Name:  third-party-model-baseline-job-2021-01-08-14-44-44\n",
      "Inputs:  [{'InputName': 'baseline_dataset_input', 'S3Input': {'S3Uri': 's3://sagemaker-us-east-1-717870172810/third-party-model-seller-name/train/baseline.csv', 'LocalPath': '/opt/ml/processing/input/baseline_dataset_input', 'S3DataType': 'S3Prefix', 'S3InputMode': 'File', 'S3DataDistributionType': 'FullyReplicated', 'S3CompressionType': 'None'}}]\n",
      "Outputs:  [{'OutputName': 'monitoring_output', 'S3Output': {'S3Uri': 's3://sagemaker-us-east-1-717870172810/third-party-model-seller-name/baselining', 'LocalPath': '/opt/ml/processing/output', 'S3UploadMode': 'EndOfJob'}}]\n",
      "......................................................................!!"
     ]
    }
   ],
   "source": [
    "# Initializes a Monitor instance\n",
    "default_model_monitor = DefaultModelMonitor(\n",
    "    role=role,\n",
    "    instance_count=MODEL_INSTANCE_COUNT,\n",
    "    instance_type=MODEL_MONITOR_INSTANCE_TYPE\n",
    ")\n",
    "\n",
    "# Append timestamp to job name\n",
    "job_name = '{}-{}'.format(MODEL_BASELINE_JOB, strftime(\"%Y-%m-%d-%H-%M-%S\", gmtime()))\n",
    "\n",
    "# Suggest baselines for use with Amazon SageMaker Model Monitoring Schedules\n",
    "job = default_model_monitor.suggest_baseline(\n",
    "    job_name = job_name,\n",
    "    baseline_dataset=S3_BASELINE_DATASET_URI,\n",
    "    dataset_format=DatasetFormat.csv(header=True),\n",
    "    output_s3_uri=S3_BASELINE_ANALYSIS_RESULTS_URI,\n",
    "    wait=True,\n",
    "    logs=False\n",
    ")\n",
    "# Wait for job to complete processing\n",
    "job.wait(logs=False)"
   ]
  },
  {
   "cell_type": "markdown",
   "metadata": {},
   "source": [
    "<a id=section_4_1></a>\n",
    "#### 4.1 Create a monitoring schedule\n",
    "\n",
    "Note: Even for an hourly schedule, Amazon SageMaker has a buffer period of 20 minutes to schedule your execution. You might see your execution start anywhere between the first ~20 minutes after the hour boundary (i.e. 00:00 – 00:20). This is expected and done for load balancing on the backend."
   ]
  },
  {
   "cell_type": "code",
   "execution_count": 457,
   "metadata": {},
   "outputs": [],
   "source": [
    "default_model_monitor.create_monitoring_schedule(\n",
    "    monitor_schedule_name = MODEL_MONITOR_SCHEDULE_NAME,\n",
    "    endpoint_input = MODEL_ENDPOINT,\n",
    "    output_s3_uri = S3_DATA_QUALITY_RPT_URI,\n",
    "    statistics = default_model_monitor.baseline_statistics(),\n",
    "    constraints = default_model_monitor.suggested_constraints(),\n",
    "    schedule_cron_expression = CronExpressionGenerator.hourly()\n",
    ")"
   ]
  },
  {
   "cell_type": "code",
   "execution_count": 458,
   "metadata": {},
   "outputs": [
    {
     "name": "stdout",
     "output_type": "stream",
     "text": [
      ">> The current status of monitoring schedule \"third-party-model-data-quality-schedule\" is Scheduled\n"
     ]
    }
   ],
   "source": [
    "# Allow time for processing\n",
    "time.sleep(30)\n",
    "\n",
    "# Print the current status\n",
    "monitor_schedule_details = default_model_monitor.describe_schedule()['MonitoringScheduleStatus']\n",
    "print('>> The current status of monitoring schedule \"{0}\" is {1}'.format(MODEL_MONITOR_SCHEDULE_NAME, monitor_schedule_details))"
   ]
  },
  {
   "cell_type": "markdown",
   "metadata": {},
   "source": [
    "<a id=section_5_1></a>\n",
    "#### 5.1 Initialize a Predictor\n",
    "\n",
    "Make prediction requests to the model's endpoint."
   ]
  },
  {
   "cell_type": "code",
   "execution_count": 459,
   "metadata": {},
   "outputs": [],
   "source": [
    "# Create predictor endpoint\n",
    "predictor = Predictor(endpoint_name=MODEL_ENDPOINT, \n",
    "                      sagemaker_session=None, \n",
    "                      serializer=CSVSerializer())   "
   ]
  },
  {
   "cell_type": "code",
   "execution_count": 460,
   "metadata": {},
   "outputs": [],
   "source": [
    "def predict(sample, delay=0.5):\n",
    "   \n",
    "    # Defensive coding\n",
    "    if(len(sample) > 0):    \n",
    "\n",
    "        # Invoke the model's inference endpoint\n",
    "        response = predictor.predict(data=sample)\n",
    "\n",
    "        # Decode bytes to string\n",
    "        response = response.decode('utf-8')\n",
    "        \n",
    "        # Suspends execution for # milliseconds\n",
    "        time.sleep(delay)        \n",
    "\n",
    "        # Return \n",
    "        return response"
   ]
  },
  {
   "cell_type": "markdown",
   "metadata": {},
   "source": [
    "<a id=section_5_2></a>\n",
    "#### 5.2 Create data quality constraint violations"
   ]
  },
  {
   "cell_type": "code",
   "execution_count": 461,
   "metadata": {},
   "outputs": [
    {
     "name": "stdout",
     "output_type": "stream",
     "text": [
      "Sample 0 >> Input: [1, '3', 22, -0.25, -42.0, 0, 0, 0, 0, 0, 0, 0, 0, 0, 0, 0, 0, 0, 1, 0, 0, 0, 0, 1, 0, 0, 0, 0]: >> Prediction: 0.6004737615585327\n",
      "Sample 1 >> Input: [1, '3', 21, -0.25, -42.0, 1, 0, 0, 0, 0, 0, 0, 0, 0, 0, 0, 0, 0, 0, 0, 0, 1, 0, 0, 0, 0, 0, 0]: >> Prediction: 0.5937598347663879\n",
      "Sample 2 >> Input: [1, '4', 24, -0.25, -42.0, 0, 0, 0, 0, 0, 0, 0, 0, 0, 0, 0, 0, 1, 0, 0, 0, 0, 0, 0, 0, 1, 0, 0]: >> Prediction: 0.6058259606361389\n",
      "Sample 3 >> Input: [1, '4', 24, -0.25, -42.0, 0, 0, 0, 0, 0, 0, 0, 0, 0, 0, 0, 1, 0, 0, 0, 0, 1, 0, 0, 0, 0, 0, 0]: >> Prediction: 0.6058259606361389\n",
      "Sample 4 >> Input: [1, '3', 21, -0.25, -42.0, 0, 0, 0, 0, 0, 0, 0, 0, 0, 0, 0, 0, 1, 0, 0, 0, 0, 1, 0, 0, 0, 0, 0]: >> Prediction: 0.5937598347663879\n",
      "Sample 5 >> Input: [1, '3', 20, -0.25, -42.0, 0, 0, 0, 0, 0, 0, 0, 0, 0, 0, 0, 0, 0, 1, 0, 0, 0, 0, 1, 0, 0, 0, 0]: >> Prediction: 0.5937598347663879\n",
      "Sample 6 >> Input: [1, '3', 20, -0.25, -42.0, 0, 1, 0, 0, 0, 0, 0, 0, 0, 0, 0, 0, 0, 0, 0, 1, 0, 0, 0, 0, 0, 0, 0]: >> Prediction: 0.5937598347663879\n",
      "Sample 7 >> Input: [1, '3', 23, -0.25, -42.0, 0, 0, 0, 1, 0, 0, 0, 0, 0, 0, 0, 0, 0, 0, 0, 1, 0, 0, 0, 0, 0, 0, 0]: >> Prediction: 0.6004737615585327\n",
      "Sample 8 >> Input: [1, '4', 23, -0.25, -42.0, 0, 0, 0, 0, 0, 0, 1, 0, 0, 0, 0, 0, 0, 0, 0, 1, 0, 0, 0, 0, 0, 0, 0]: >> Prediction: 0.6058259606361389\n",
      "Sample 9 >> Input: [1, '3', 21, -0.25, -42.0, 0, 0, 0, 0, 0, 0, 1, 0, 0, 0, 0, 0, 0, 0, 0, 0, 0, 0, 0, 0, 1, 0, 0]: >> Prediction: 0.5937598347663879\n",
      "Sample 10 >> Input: [1, '', 22, 0.0, 0.0, 0, 0, 0, 0, 0, 0, 0, 0, 0, 0, 0, 0, 0, 1, 0, 0, 0, 0, 1, 0, 0, 0, 0]: >> Prediction: 0.5373708009719849\n",
      "Sample 11 >> Input: [1, '', 21, 0.0, 0.0, 1, 0, 0, 0, 0, 0, 0, 0, 0, 0, 0, 0, 0, 0, 0, 0, 1, 0, 0, 0, 0, 0, 0]: >> Prediction: 0.5304257273674011\n",
      "Sample 12 >> Input: [1, '', 24, 0.0, 0.0, 0, 0, 0, 0, 0, 0, 0, 0, 0, 0, 0, 0, 1, 0, 0, 0, 0, 0, 0, 0, 1, 0, 0]: >> Prediction: 0.5373708009719849\n",
      "Sample 13 >> Input: [1, '', 24, 0.0, 0.0, 0, 0, 0, 0, 0, 0, 0, 0, 0, 0, 0, 1, 0, 0, 0, 0, 1, 0, 0, 0, 0, 0, 0]: >> Prediction: 0.5373708009719849\n",
      "Sample 14 >> Input: [1, '', 21, 0.0, 0.0, 0, 0, 0, 0, 0, 0, 0, 0, 0, 0, 0, 0, 1, 0, 0, 0, 0, 1, 0, 0, 0, 0, 0]: >> Prediction: 0.5304257273674011\n",
      "Sample 15 >> Input: [1, '', 20, 0.0, 0.0, 0, 0, 0, 0, 0, 0, 0, 0, 0, 0, 0, 0, 0, 1, 0, 0, 0, 0, 1, 0, 0, 0, 0]: >> Prediction: 0.5304257273674011\n",
      "Sample 16 >> Input: [1, '', 20, 0.0, 0.0, 0, 1, 0, 0, 0, 0, 0, 0, 0, 0, 0, 0, 0, 0, 0, 1, 0, 0, 0, 0, 0, 0, 0]: >> Prediction: 0.5304257273674011\n",
      "Sample 17 >> Input: [1, '', 23, 0.0, 0.0, 0, 0, 0, 1, 0, 0, 0, 0, 0, 0, 0, 0, 0, 0, 0, 1, 0, 0, 0, 0, 0, 0, 0]: >> Prediction: 0.5373708009719849\n",
      "Sample 18 >> Input: [1, '', 23, 0.0, 0.0, 0, 0, 0, 0, 0, 0, 1, 0, 0, 0, 0, 0, 0, 0, 0, 1, 0, 0, 0, 0, 0, 0, 0]: >> Prediction: 0.5373708009719849\n",
      "Sample 19 >> Input: [1, '', 21, 0.0, 0.0, 0, 0, 0, 0, 0, 0, 1, 0, 0, 0, 0, 0, 0, 0, 0, 0, 0, 0, 0, 0, 1, 0, 0]: >> Prediction: 0.5304257273674011\n",
      "Sample 20 >> Input: [0, '5', 8, 0.0, 0.0, 0, 0, 0, 1, 0, 0, 0, 0, 0, 0, 0, 0, 0, 0, 0, 0, 1, 0, 0, 0, 0, 0, 0]: >> Prediction: 0.45772016048431396\n",
      "Sample 21 >> Input: [1, '7', 9, 0.0, 1.0, 0, 0, 0, 0, 0, 0, 0, 0, 0, 0, 0, 0, 0, 0, 0, 0, 0, 0, 0, 0, 0, 0, 1]: >> Prediction: 0.46936097741127014\n",
      "Sample 22 >> Input: [1, '7', 7, 0.0, 0.0, 0, 0, 0, 0, 0, 0, 0, 0, 0, 0, 0, 1, 0, 0, 0, 0, 1, 0, 0, 0, 0, 0, 0]: >> Prediction: 0.46936097741127014\n",
      "Sample 23 >> Input: [1, '5', 7, 0.0, 0.0, 0, 0, 0, 0, 0, 0, 0, 0, 0, 0, 0, 0, 0, 1, 0, 0, 0, 0, 0, 0, 0, 1, 0]: >> Prediction: 0.49675580859184265\n",
      "Sample 24 >> Input: [1, '5', 7, 0.0, 0.0, 0, 0, 0, 0, 0, 1, 0, 0, 0, 0, 0, 0, 0, 0, 0, 0, 0, 0, 0, 0, 0, 0, 1]: >> Prediction: 0.49675580859184265\n",
      "Sample 25 >> Input: [1, '7', 9, 0.0, 0.0, 0, 0, 0, 0, 0, 0, 0, 0, 0, 0, 0, 0, 0, 1, 0, 0, 0, 1, 0, 0, 0, 0, 0]: >> Prediction: 0.46936097741127014\n",
      "Sample 26 >> Input: [1, '5', 8, 0.0, 0.0, 0, 0, 0, 0, 0, 0, 1, 0, 0, 0, 0, 0, 0, 0, 0, 0, 0, 0, 0, 0, 1, 0, 0]: >> Prediction: 0.49675580859184265\n",
      "Sample 27 >> Input: [0, '6', 7, 0.0, 0.0, 0, 1, 0, 0, 0, 0, 0, 0, 0, 0, 0, 0, 0, 0, 0, 0, 0, 0, 0, 0, 1, 0, 0]: >> Prediction: 0.4649627208709717\n",
      "Sample 28 >> Input: [0, '7', 8, 0.0, 0.0, 0, 0, 0, 0, 0, 0, 0, 0, 0, 0, 0, 0, 1, 0, 0, 0, 0, 0, 1, 0, 0, 0, 0]: >> Prediction: 0.4683690667152405\n",
      "Sample 29 >> Input: [1, '7', 8, 0.0, 0.0, 0, 0, 0, 0, 0, 0, 0, 0, 0, 0, 0, 0, 1, 0, 1, 0, 0, 0, 0, 0, 0, 0, 0]: >> Prediction: 0.46936097741127014\n",
      "Sample 30 >> Input: [0, '5', 8, 0.0, 0.0, 0, 0, 0, 1, 0, 0, 0, 0, 0, 0, 0, 0, 0, 0, 0, 0, 1, 0, 0, 0, 0, 0, 0]: >> Prediction: 0.45772016048431396\n",
      "Sample 31 >> Input: [1, '7', 9, 0.0, 1.0, 0, 0, 0, 0, 0, 0, 0, 0, 0, 0, 0, 0, 0, 0, 0, 0, 0, 0, 0, 0, 0, 0, 1]: >> Prediction: 0.46936097741127014\n",
      "Sample 32 >> Input: [1, '7', 7, 0.0, 0.0, 0, 0, 0, 0, 0, 0, 0, 0, 0, 0, 0, 1, 0, 0, 0, 0, 1, 0, 0, 0, 0, 0, 0]: >> Prediction: 0.46936097741127014\n",
      "Sample 33 >> Input: [1, '5', 7, 0.0, 0.0, 0, 0, 0, 0, 0, 0, 0, 0, 0, 0, 0, 0, 0, 1, 0, 0, 0, 0, 0, 0, 0, 1, 0]: >> Prediction: 0.49675580859184265\n",
      "Sample 34 >> Input: [1, '5', 7, 0.0, 0.0, 0, 0, 0, 0, 0, 1, 0, 0, 0, 0, 0, 0, 0, 0, 0, 0, 0, 0, 0, 0, 0, 0, 1]: >> Prediction: 0.49675580859184265\n",
      "Sample 35 >> Input: [1, '7', 9, 0.0, 0.0, 0, 0, 0, 0, 0, 0, 0, 0, 0, 0, 0, 0, 0, 1, 0, 0, 0, 1, 0, 0, 0, 0, 0]: >> Prediction: 0.46936097741127014\n",
      "Sample 36 >> Input: [1, '5', 8, 0.0, 0.0, 0, 0, 0, 0, 0, 0, 1, 0, 0, 0, 0, 0, 0, 0, 0, 0, 0, 0, 0, 0, 1, 0, 0]: >> Prediction: 0.49675580859184265\n",
      "Sample 37 >> Input: [0, '6', 7, 0.0, 0.0, 0, 1, 0, 0, 0, 0, 0, 0, 0, 0, 0, 0, 0, 0, 0, 0, 0, 0, 0, 0, 1, 0, 0]: >> Prediction: 0.4649627208709717\n",
      "Sample 38 >> Input: [0, '7', 8, 0.0, 0.0, 0, 0, 0, 0, 0, 0, 0, 0, 0, 0, 0, 0, 1, 0, 0, 0, 0, 0, 1, 0, 0, 0, 0]: >> Prediction: 0.4683690667152405\n",
      "Sample 39 >> Input: [1, '7', 8, 0.0, 0.0, 0, 0, 0, 0, 0, 0, 0, 0, 0, 0, 0, 0, 1, 0, 1, 0, 0, 0, 0, 0, 0, 0, 0]: >> Prediction: 0.46936097741127014\n",
      "Sample 40 >> Input: [0, '5', 8, 0.0, 0.0, 0, 0, 0, 1, 0, 0, 0, 0, 0, 0, 0, 0, 0, 0, 0, 0, 1, 0, 0, 0, 0, 0, 0]: >> Prediction: 0.45772016048431396\n",
      "Sample 41 >> Input: [1, '7', 9, 0.0, 1.0, 0, 0, 0, 0, 0, 0, 0, 0, 0, 0, 0, 0, 0, 0, 0, 0, 0, 0, 0, 0, 0, 0, 1]: >> Prediction: 0.46936097741127014\n",
      "Sample 42 >> Input: [1, '7', 7, 0.0, 0.0, 0, 0, 0, 0, 0, 0, 0, 0, 0, 0, 0, 1, 0, 0, 0, 0, 1, 0, 0, 0, 0, 0, 0]: >> Prediction: 0.46936097741127014\n",
      "Sample 43 >> Input: [1, '5', 7, 0.0, 0.0, 0, 0, 0, 0, 0, 0, 0, 0, 0, 0, 0, 0, 0, 1, 0, 0, 0, 0, 0, 0, 0, 1, 0]: >> Prediction: 0.49675580859184265\n",
      "Sample 44 >> Input: [1, '5', 7, 0.0, 0.0, 0, 0, 0, 0, 0, 1, 0, 0, 0, 0, 0, 0, 0, 0, 0, 0, 0, 0, 0, 0, 0, 0, 1]: >> Prediction: 0.49675580859184265\n",
      "Sample 45 >> Input: [1, '7', 9, 0.0, 0.0, 0, 0, 0, 0, 0, 0, 0, 0, 0, 0, 0, 0, 0, 1, 0, 0, 0, 1, 0, 0, 0, 0, 0]: >> Prediction: 0.46936097741127014\n",
      "Sample 46 >> Input: [1, '5', 8, 0.0, 0.0, 0, 0, 0, 0, 0, 0, 1, 0, 0, 0, 0, 0, 0, 0, 0, 0, 0, 0, 0, 0, 1, 0, 0]: >> Prediction: 0.49675580859184265\n",
      "Sample 47 >> Input: [0, '6', 7, 0.0, 0.0, 0, 1, 0, 0, 0, 0, 0, 0, 0, 0, 0, 0, 0, 0, 0, 0, 0, 0, 0, 0, 1, 0, 0]: >> Prediction: 0.4649627208709717\n",
      "Sample 48 >> Input: [0, '7', 8, 0.0, 0.0, 0, 0, 0, 0, 0, 0, 0, 0, 0, 0, 0, 0, 1, 0, 0, 0, 0, 0, 1, 0, 0, 0, 0]: >> Prediction: 0.4683690667152405\n",
      "Sample 49 >> Input: [1, '7', 8, 0.0, 0.0, 0, 0, 0, 0, 0, 0, 0, 0, 0, 0, 0, 0, 1, 0, 1, 0, 0, 0, 0, 0, 0, 0, 0]: >> Prediction: 0.46936097741127014\n",
      "Sample 50 >> Input: [0, '5', 8, 0.0, 0.0, 0, 0, 0, 1, 0, 0, 0, 0, 0, 0, 0, 0, 0, 0, 0, 0, 1, 0, 0, 0, 0, 0, 0]: >> Prediction: 0.45772016048431396\n",
      "Sample 51 >> Input: [1, '7', 9, 0.0, 1.0, 0, 0, 0, 0, 0, 0, 0, 0, 0, 0, 0, 0, 0, 0, 0, 0, 0, 0, 0, 0, 0, 0, 1]: >> Prediction: 0.46936097741127014\n",
      "Sample 52 >> Input: [1, '7', 7, 0.0, 0.0, 0, 0, 0, 0, 0, 0, 0, 0, 0, 0, 0, 1, 0, 0, 0, 0, 1, 0, 0, 0, 0, 0, 0]: >> Prediction: 0.46936097741127014\n",
      "Sample 53 >> Input: [1, '5', 7, 0.0, 0.0, 0, 0, 0, 0, 0, 0, 0, 0, 0, 0, 0, 0, 0, 1, 0, 0, 0, 0, 0, 0, 0, 1, 0]: >> Prediction: 0.49675580859184265\n",
      "Sample 54 >> Input: [1, '5', 7, 0.0, 0.0, 0, 0, 0, 0, 0, 1, 0, 0, 0, 0, 0, 0, 0, 0, 0, 0, 0, 0, 0, 0, 0, 0, 1]: >> Prediction: 0.49675580859184265\n",
      "Sample 55 >> Input: [1, '7', 9, 0.0, 0.0, 0, 0, 0, 0, 0, 0, 0, 0, 0, 0, 0, 0, 0, 1, 0, 0, 0, 1, 0, 0, 0, 0, 0]: >> Prediction: 0.46936097741127014\n",
      "Sample 56 >> Input: [1, '5', 8, 0.0, 0.0, 0, 0, 0, 0, 0, 0, 1, 0, 0, 0, 0, 0, 0, 0, 0, 0, 0, 0, 0, 0, 1, 0, 0]: >> Prediction: 0.49675580859184265\n",
      "Sample 57 >> Input: [0, '6', 7, 0.0, 0.0, 0, 1, 0, 0, 0, 0, 0, 0, 0, 0, 0, 0, 0, 0, 0, 0, 0, 0, 0, 0, 1, 0, 0]: >> Prediction: 0.4649627208709717\n",
      "Sample 58 >> Input: [0, '7', 8, 0.0, 0.0, 0, 0, 0, 0, 0, 0, 0, 0, 0, 0, 0, 0, 1, 0, 0, 0, 0, 0, 1, 0, 0, 0, 0]: >> Prediction: 0.4683690667152405\n",
      "Sample 59 >> Input: [1, '7', 8, 0.0, 0.0, 0, 0, 0, 0, 0, 0, 0, 0, 0, 0, 0, 0, 1, 0, 1, 0, 0, 0, 0, 0, 0, 0, 0]: >> Prediction: 0.46936097741127014\n",
      "Sample 60 >> Input: [0, '5', 8, 0.0, 0.0, 0, 0, 0, 1, 0, 0, 0, 0, 0, 0, 0, 0, 0, 0, 0, 0, 1, 0, 0, 0, 0, 0, 0]: >> Prediction: 0.45772016048431396\n",
      "Sample 61 >> Input: [1, '7', 9, 0.0, 1.0, 0, 0, 0, 0, 0, 0, 0, 0, 0, 0, 0, 0, 0, 0, 0, 0, 0, 0, 0, 0, 0, 0, 1]: >> Prediction: 0.46936097741127014\n",
      "Sample 62 >> Input: [1, '7', 7, 0.0, 0.0, 0, 0, 0, 0, 0, 0, 0, 0, 0, 0, 0, 1, 0, 0, 0, 0, 1, 0, 0, 0, 0, 0, 0]: >> Prediction: 0.46936097741127014\n",
      "Sample 63 >> Input: [1, '5', 7, 0.0, 0.0, 0, 0, 0, 0, 0, 0, 0, 0, 0, 0, 0, 0, 0, 1, 0, 0, 0, 0, 0, 0, 0, 1, 0]: >> Prediction: 0.49675580859184265\n",
      "Sample 64 >> Input: [1, '5', 7, 0.0, 0.0, 0, 0, 0, 0, 0, 1, 0, 0, 0, 0, 0, 0, 0, 0, 0, 0, 0, 0, 0, 0, 0, 0, 1]: >> Prediction: 0.49675580859184265\n",
      "Sample 65 >> Input: [1, '7', 9, 0.0, 0.0, 0, 0, 0, 0, 0, 0, 0, 0, 0, 0, 0, 0, 0, 1, 0, 0, 0, 1, 0, 0, 0, 0, 0]: >> Prediction: 0.46936097741127014\n",
      "Sample 66 >> Input: [1, '5', 8, 0.0, 0.0, 0, 0, 0, 0, 0, 0, 1, 0, 0, 0, 0, 0, 0, 0, 0, 0, 0, 0, 0, 0, 1, 0, 0]: >> Prediction: 0.49675580859184265\n",
      "Sample 67 >> Input: [0, '6', 7, 0.0, 0.0, 0, 1, 0, 0, 0, 0, 0, 0, 0, 0, 0, 0, 0, 0, 0, 0, 0, 0, 0, 0, 1, 0, 0]: >> Prediction: 0.4649627208709717\n",
      "Sample 68 >> Input: [0, '7', 8, 0.0, 0.0, 0, 0, 0, 0, 0, 0, 0, 0, 0, 0, 0, 0, 1, 0, 0, 0, 0, 0, 1, 0, 0, 0, 0]: >> Prediction: 0.4683690667152405\n",
      "Sample 69 >> Input: [1, '7', 8, 0.0, 0.0, 0, 0, 0, 0, 0, 0, 0, 0, 0, 0, 0, 0, 1, 0, 1, 0, 0, 0, 0, 0, 0, 0, 0]: >> Prediction: 0.46936097741127014\n",
      "Sample 70 >> Input: [0, '5', 8, 0.0, 0.0, 0, 0, 0, 1, 0, 0, 0, 0, 0, 0, 0, 0, 0, 0, 0, 0, 1, 0, 0, 0, 0, 0, 0]: >> Prediction: 0.45772016048431396\n",
      "Sample 71 >> Input: [1, '7', 9, 0.0, 1.0, 0, 0, 0, 0, 0, 0, 0, 0, 0, 0, 0, 0, 0, 0, 0, 0, 0, 0, 0, 0, 0, 0, 1]: >> Prediction: 0.46936097741127014\n",
      "Sample 72 >> Input: [1, '7', 7, 0.0, 0.0, 0, 0, 0, 0, 0, 0, 0, 0, 0, 0, 0, 1, 0, 0, 0, 0, 1, 0, 0, 0, 0, 0, 0]: >> Prediction: 0.46936097741127014\n",
      "Sample 73 >> Input: [1, '5', 7, 0.0, 0.0, 0, 0, 0, 0, 0, 0, 0, 0, 0, 0, 0, 0, 0, 1, 0, 0, 0, 0, 0, 0, 0, 1, 0]: >> Prediction: 0.49675580859184265\n",
      "Sample 74 >> Input: [1, '5', 7, 0.0, 0.0, 0, 0, 0, 0, 0, 1, 0, 0, 0, 0, 0, 0, 0, 0, 0, 0, 0, 0, 0, 0, 0, 0, 1]: >> Prediction: 0.49675580859184265\n",
      "Sample 75 >> Input: [1, '7', 9, 0.0, 0.0, 0, 0, 0, 0, 0, 0, 0, 0, 0, 0, 0, 0, 0, 1, 0, 0, 0, 1, 0, 0, 0, 0, 0]: >> Prediction: 0.46936097741127014\n",
      "Sample 76 >> Input: [1, '5', 8, 0.0, 0.0, 0, 0, 0, 0, 0, 0, 1, 0, 0, 0, 0, 0, 0, 0, 0, 0, 0, 0, 0, 0, 1, 0, 0]: >> Prediction: 0.49675580859184265\n",
      "Sample 77 >> Input: [0, '6', 7, 0.0, 0.0, 0, 1, 0, 0, 0, 0, 0, 0, 0, 0, 0, 0, 0, 0, 0, 0, 0, 0, 0, 0, 1, 0, 0]: >> Prediction: 0.4649627208709717\n",
      "Sample 78 >> Input: [0, '7', 8, 0.0, 0.0, 0, 0, 0, 0, 0, 0, 0, 0, 0, 0, 0, 0, 1, 0, 0, 0, 0, 0, 1, 0, 0, 0, 0]: >> Prediction: 0.4683690667152405\n",
      "Sample 79 >> Input: [1, '7', 8, 0.0, 0.0, 0, 0, 0, 0, 0, 0, 0, 0, 0, 0, 0, 0, 1, 0, 1, 0, 0, 0, 0, 0, 0, 0, 0]: >> Prediction: 0.46936097741127014\n",
      "Sample 80 >> Input: [0, '5', 8, 0.0, 0.0, 0, 0, 0, 1, 0, 0, 0, 0, 0, 0, 0, 0, 0, 0, 0, 0, 1, 0, 0, 0, 0, 0, 0]: >> Prediction: 0.45772016048431396\n",
      "Sample 81 >> Input: [1, '7', 9, 0.0, 1.0, 0, 0, 0, 0, 0, 0, 0, 0, 0, 0, 0, 0, 0, 0, 0, 0, 0, 0, 0, 0, 0, 0, 1]: >> Prediction: 0.46936097741127014\n",
      "Sample 82 >> Input: [1, '7', 7, 0.0, 0.0, 0, 0, 0, 0, 0, 0, 0, 0, 0, 0, 0, 1, 0, 0, 0, 0, 1, 0, 0, 0, 0, 0, 0]: >> Prediction: 0.46936097741127014\n",
      "Sample 83 >> Input: [1, '5', 7, 0.0, 0.0, 0, 0, 0, 0, 0, 0, 0, 0, 0, 0, 0, 0, 0, 1, 0, 0, 0, 0, 0, 0, 0, 1, 0]: >> Prediction: 0.49675580859184265\n",
      "Sample 84 >> Input: [1, '5', 7, 0.0, 0.0, 0, 0, 0, 0, 0, 1, 0, 0, 0, 0, 0, 0, 0, 0, 0, 0, 0, 0, 0, 0, 0, 0, 1]: >> Prediction: 0.49675580859184265\n",
      "Sample 85 >> Input: [1, '7', 9, 0.0, 0.0, 0, 0, 0, 0, 0, 0, 0, 0, 0, 0, 0, 0, 0, 1, 0, 0, 0, 1, 0, 0, 0, 0, 0]: >> Prediction: 0.46936097741127014\n",
      "Sample 86 >> Input: [1, '5', 8, 0.0, 0.0, 0, 0, 0, 0, 0, 0, 1, 0, 0, 0, 0, 0, 0, 0, 0, 0, 0, 0, 0, 0, 1, 0, 0]: >> Prediction: 0.49675580859184265\n",
      "Sample 87 >> Input: [0, '6', 7, 0.0, 0.0, 0, 1, 0, 0, 0, 0, 0, 0, 0, 0, 0, 0, 0, 0, 0, 0, 0, 0, 0, 0, 1, 0, 0]: >> Prediction: 0.4649627208709717\n",
      "Sample 88 >> Input: [0, '7', 8, 0.0, 0.0, 0, 0, 0, 0, 0, 0, 0, 0, 0, 0, 0, 0, 1, 0, 0, 0, 0, 0, 1, 0, 0, 0, 0]: >> Prediction: 0.4683690667152405\n",
      "Sample 89 >> Input: [1, '7', 8, 0.0, 0.0, 0, 0, 0, 0, 0, 0, 0, 0, 0, 0, 0, 0, 1, 0, 1, 0, 0, 0, 0, 0, 0, 0, 0]: >> Prediction: 0.46936097741127014\n",
      "Sample 90 >> Input: [0, '5', 8, 0.0, 0.0, 0, 0, 0, 1, 0, 0, 0, 0, 0, 0, 0, 0, 0, 0, 0, 0, 1, 0, 0, 0, 0, 0, 0]: >> Prediction: 0.45772016048431396\n",
      "Sample 91 >> Input: [1, '7', 9, 0.0, 1.0, 0, 0, 0, 0, 0, 0, 0, 0, 0, 0, 0, 0, 0, 0, 0, 0, 0, 0, 0, 0, 0, 0, 1]: >> Prediction: 0.46936097741127014\n",
      "Sample 92 >> Input: [1, '7', 7, 0.0, 0.0, 0, 0, 0, 0, 0, 0, 0, 0, 0, 0, 0, 1, 0, 0, 0, 0, 1, 0, 0, 0, 0, 0, 0]: >> Prediction: 0.46936097741127014\n",
      "Sample 93 >> Input: [1, '5', 7, 0.0, 0.0, 0, 0, 0, 0, 0, 0, 0, 0, 0, 0, 0, 0, 0, 1, 0, 0, 0, 0, 0, 0, 0, 1, 0]: >> Prediction: 0.49675580859184265\n",
      "Sample 94 >> Input: [1, '5', 7, 0.0, 0.0, 0, 0, 0, 0, 0, 1, 0, 0, 0, 0, 0, 0, 0, 0, 0, 0, 0, 0, 0, 0, 0, 0, 1]: >> Prediction: 0.49675580859184265\n",
      "Sample 95 >> Input: [1, '7', 9, 0.0, 0.0, 0, 0, 0, 0, 0, 0, 0, 0, 0, 0, 0, 0, 0, 1, 0, 0, 0, 1, 0, 0, 0, 0, 0]: >> Prediction: 0.46936097741127014\n",
      "Sample 96 >> Input: [1, '5', 8, 0.0, 0.0, 0, 0, 0, 0, 0, 0, 1, 0, 0, 0, 0, 0, 0, 0, 0, 0, 0, 0, 0, 0, 1, 0, 0]: >> Prediction: 0.49675580859184265\n",
      "Sample 97 >> Input: [0, '6', 7, 0.0, 0.0, 0, 1, 0, 0, 0, 0, 0, 0, 0, 0, 0, 0, 0, 0, 0, 0, 0, 0, 0, 0, 1, 0, 0]: >> Prediction: 0.4649627208709717\n",
      "Sample 98 >> Input: [0, '7', 8, 0.0, 0.0, 0, 0, 0, 0, 0, 0, 0, 0, 0, 0, 0, 0, 1, 0, 0, 0, 0, 0, 1, 0, 0, 0, 0]: >> Prediction: 0.4683690667152405\n",
      "Sample 99 >> Input: [1, '7', 8, 0.0, 0.0, 0, 0, 0, 0, 0, 0, 0, 0, 0, 0, 0, 0, 1, 0, 1, 0, 0, 0, 0, 0, 0, 0, 0]: >> Prediction: 0.46936097741127014\n",
      "Sample 100 >> Input: [0, '5', 8, 0.0, 0.0, 0, 0, 0, 1, 0, 0, 0, 0, 0, 0, 0, 0, 0, 0, 0, 0, 1, 0, 0, 0, 0, 0, 0]: >> Prediction: 0.45772016048431396\n",
      "Sample 101 >> Input: [1, '7', 9, 0.0, 1.0, 0, 0, 0, 0, 0, 0, 0, 0, 0, 0, 0, 0, 0, 0, 0, 0, 0, 0, 0, 0, 0, 0, 1]: >> Prediction: 0.46936097741127014\n",
      "Sample 102 >> Input: [1, '7', 7, 0.0, 0.0, 0, 0, 0, 0, 0, 0, 0, 0, 0, 0, 0, 1, 0, 0, 0, 0, 1, 0, 0, 0, 0, 0, 0]: >> Prediction: 0.46936097741127014\n",
      "Sample 103 >> Input: [1, '5', 7, 0.0, 0.0, 0, 0, 0, 0, 0, 0, 0, 0, 0, 0, 0, 0, 0, 1, 0, 0, 0, 0, 0, 0, 0, 1, 0]: >> Prediction: 0.49675580859184265\n",
      "Sample 104 >> Input: [1, '5', 7, 0.0, 0.0, 0, 0, 0, 0, 0, 1, 0, 0, 0, 0, 0, 0, 0, 0, 0, 0, 0, 0, 0, 0, 0, 0, 1]: >> Prediction: 0.49675580859184265\n",
      "Sample 105 >> Input: [1, '7', 9, 0.0, 0.0, 0, 0, 0, 0, 0, 0, 0, 0, 0, 0, 0, 0, 0, 1, 0, 0, 0, 1, 0, 0, 0, 0, 0]: >> Prediction: 0.46936097741127014\n",
      "Sample 106 >> Input: [1, '5', 8, 0.0, 0.0, 0, 0, 0, 0, 0, 0, 1, 0, 0, 0, 0, 0, 0, 0, 0, 0, 0, 0, 0, 0, 1, 0, 0]: >> Prediction: 0.49675580859184265\n",
      "Sample 107 >> Input: [0, '6', 7, 0.0, 0.0, 0, 1, 0, 0, 0, 0, 0, 0, 0, 0, 0, 0, 0, 0, 0, 0, 0, 0, 0, 0, 1, 0, 0]: >> Prediction: 0.4649627208709717\n",
      "Sample 108 >> Input: [0, '7', 8, 0.0, 0.0, 0, 0, 0, 0, 0, 0, 0, 0, 0, 0, 0, 0, 1, 0, 0, 0, 0, 0, 1, 0, 0, 0, 0]: >> Prediction: 0.4683690667152405\n",
      "Sample 109 >> Input: [1, '7', 8, 0.0, 0.0, 0, 0, 0, 0, 0, 0, 0, 0, 0, 0, 0, 0, 1, 0, 1, 0, 0, 0, 0, 0, 0, 0, 0]: >> Prediction: 0.46936097741127014\n",
      "Sample 110 >> Input: [0, '5', 8, 0.0, 0.0, 0, 0, 0, 1, 0, 0, 0, 0, 0, 0, 0, 0, 0, 0, 0, 0, 1, 0, 0, 0, 0, 0, 0]: >> Prediction: 0.45772016048431396\n",
      "Sample 111 >> Input: [1, '7', 9, 0.0, 1.0, 0, 0, 0, 0, 0, 0, 0, 0, 0, 0, 0, 0, 0, 0, 0, 0, 0, 0, 0, 0, 0, 0, 1]: >> Prediction: 0.46936097741127014\n",
      "Sample 112 >> Input: [1, '7', 7, 0.0, 0.0, 0, 0, 0, 0, 0, 0, 0, 0, 0, 0, 0, 1, 0, 0, 0, 0, 1, 0, 0, 0, 0, 0, 0]: >> Prediction: 0.46936097741127014\n",
      "Sample 113 >> Input: [1, '5', 7, 0.0, 0.0, 0, 0, 0, 0, 0, 0, 0, 0, 0, 0, 0, 0, 0, 1, 0, 0, 0, 0, 0, 0, 0, 1, 0]: >> Prediction: 0.49675580859184265\n",
      "Sample 114 >> Input: [1, '5', 7, 0.0, 0.0, 0, 0, 0, 0, 0, 1, 0, 0, 0, 0, 0, 0, 0, 0, 0, 0, 0, 0, 0, 0, 0, 0, 1]: >> Prediction: 0.49675580859184265\n",
      "Sample 115 >> Input: [1, '7', 9, 0.0, 0.0, 0, 0, 0, 0, 0, 0, 0, 0, 0, 0, 0, 0, 0, 1, 0, 0, 0, 1, 0, 0, 0, 0, 0]: >> Prediction: 0.46936097741127014\n",
      "Sample 116 >> Input: [1, '5', 8, 0.0, 0.0, 0, 0, 0, 0, 0, 0, 1, 0, 0, 0, 0, 0, 0, 0, 0, 0, 0, 0, 0, 0, 1, 0, 0]: >> Prediction: 0.49675580859184265\n",
      "Sample 117 >> Input: [0, '6', 7, 0.0, 0.0, 0, 1, 0, 0, 0, 0, 0, 0, 0, 0, 0, 0, 0, 0, 0, 0, 0, 0, 0, 0, 1, 0, 0]: >> Prediction: 0.4649627208709717\n",
      "Sample 118 >> Input: [0, '7', 8, 0.0, 0.0, 0, 0, 0, 0, 0, 0, 0, 0, 0, 0, 0, 0, 1, 0, 0, 0, 0, 0, 1, 0, 0, 0, 0]: >> Prediction: 0.4683690667152405\n",
      "Sample 119 >> Input: [1, '7', 8, 0.0, 0.0, 0, 0, 0, 0, 0, 0, 0, 0, 0, 0, 0, 0, 1, 0, 1, 0, 0, 0, 0, 0, 0, 0, 0]: >> Prediction: 0.46936097741127014\n",
      "Sample 120 >> Input: [0, '5', 8, 0.0, 0.0, 0, 0, 0, 1, 0, 0, 0, 0, 0, 0, 0, 0, 0, 0, 0, 0, 1, 0, 0, 0, 0, 0, 0]: >> Prediction: 0.45772016048431396\n",
      "Sample 121 >> Input: [1, '7', 9, 0.0, 1.0, 0, 0, 0, 0, 0, 0, 0, 0, 0, 0, 0, 0, 0, 0, 0, 0, 0, 0, 0, 0, 0, 0, 1]: >> Prediction: 0.46936097741127014\n",
      "Sample 122 >> Input: [1, '7', 7, 0.0, 0.0, 0, 0, 0, 0, 0, 0, 0, 0, 0, 0, 0, 1, 0, 0, 0, 0, 1, 0, 0, 0, 0, 0, 0]: >> Prediction: 0.46936097741127014\n",
      "Sample 123 >> Input: [1, '5', 7, 0.0, 0.0, 0, 0, 0, 0, 0, 0, 0, 0, 0, 0, 0, 0, 0, 1, 0, 0, 0, 0, 0, 0, 0, 1, 0]: >> Prediction: 0.49675580859184265\n",
      "Sample 124 >> Input: [1, '5', 7, 0.0, 0.0, 0, 0, 0, 0, 0, 1, 0, 0, 0, 0, 0, 0, 0, 0, 0, 0, 0, 0, 0, 0, 0, 0, 1]: >> Prediction: 0.49675580859184265\n",
      "Sample 125 >> Input: [1, '7', 9, 0.0, 0.0, 0, 0, 0, 0, 0, 0, 0, 0, 0, 0, 0, 0, 0, 1, 0, 0, 0, 1, 0, 0, 0, 0, 0]: >> Prediction: 0.46936097741127014\n",
      "Sample 126 >> Input: [1, '5', 8, 0.0, 0.0, 0, 0, 0, 0, 0, 0, 1, 0, 0, 0, 0, 0, 0, 0, 0, 0, 0, 0, 0, 0, 1, 0, 0]: >> Prediction: 0.49675580859184265\n",
      "Sample 127 >> Input: [0, '6', 7, 0.0, 0.0, 0, 1, 0, 0, 0, 0, 0, 0, 0, 0, 0, 0, 0, 0, 0, 0, 0, 0, 0, 0, 1, 0, 0]: >> Prediction: 0.4649627208709717\n",
      "Sample 128 >> Input: [0, '7', 8, 0.0, 0.0, 0, 0, 0, 0, 0, 0, 0, 0, 0, 0, 0, 0, 1, 0, 0, 0, 0, 0, 1, 0, 0, 0, 0]: >> Prediction: 0.4683690667152405\n",
      "Sample 129 >> Input: [1, '7', 8, 0.0, 0.0, 0, 0, 0, 0, 0, 0, 0, 0, 0, 0, 0, 0, 1, 0, 1, 0, 0, 0, 0, 0, 0, 0, 0]: >> Prediction: 0.46936097741127014\n",
      "Sample 130 >> Input: [0, '5', 8, 0.0, 0.0, 0, 0, 0, 1, 0, 0, 0, 0, 0, 0, 0, 0, 0, 0, 0, 0, 1, 0, 0, 0, 0, 0, 0]: >> Prediction: 0.45772016048431396\n",
      "Sample 131 >> Input: [1, '7', 9, 0.0, 1.0, 0, 0, 0, 0, 0, 0, 0, 0, 0, 0, 0, 0, 0, 0, 0, 0, 0, 0, 0, 0, 0, 0, 1]: >> Prediction: 0.46936097741127014\n",
      "Sample 132 >> Input: [1, '7', 7, 0.0, 0.0, 0, 0, 0, 0, 0, 0, 0, 0, 0, 0, 0, 1, 0, 0, 0, 0, 1, 0, 0, 0, 0, 0, 0]: >> Prediction: 0.46936097741127014\n",
      "Sample 133 >> Input: [1, '5', 7, 0.0, 0.0, 0, 0, 0, 0, 0, 0, 0, 0, 0, 0, 0, 0, 0, 1, 0, 0, 0, 0, 0, 0, 0, 1, 0]: >> Prediction: 0.49675580859184265\n",
      "Sample 134 >> Input: [1, '5', 7, 0.0, 0.0, 0, 0, 0, 0, 0, 1, 0, 0, 0, 0, 0, 0, 0, 0, 0, 0, 0, 0, 0, 0, 0, 0, 1]: >> Prediction: 0.49675580859184265\n",
      "Sample 135 >> Input: [1, '7', 9, 0.0, 0.0, 0, 0, 0, 0, 0, 0, 0, 0, 0, 0, 0, 0, 0, 1, 0, 0, 0, 1, 0, 0, 0, 0, 0]: >> Prediction: 0.46936097741127014\n",
      "Sample 136 >> Input: [1, '5', 8, 0.0, 0.0, 0, 0, 0, 0, 0, 0, 1, 0, 0, 0, 0, 0, 0, 0, 0, 0, 0, 0, 0, 0, 1, 0, 0]: >> Prediction: 0.49675580859184265\n",
      "Sample 137 >> Input: [0, '6', 7, 0.0, 0.0, 0, 1, 0, 0, 0, 0, 0, 0, 0, 0, 0, 0, 0, 0, 0, 0, 0, 0, 0, 0, 1, 0, 0]: >> Prediction: 0.4649627208709717\n",
      "Sample 138 >> Input: [0, '7', 8, 0.0, 0.0, 0, 0, 0, 0, 0, 0, 0, 0, 0, 0, 0, 0, 1, 0, 0, 0, 0, 0, 1, 0, 0, 0, 0]: >> Prediction: 0.4683690667152405\n",
      "Sample 139 >> Input: [1, '7', 8, 0.0, 0.0, 0, 0, 0, 0, 0, 0, 0, 0, 0, 0, 0, 0, 1, 0, 1, 0, 0, 0, 0, 0, 0, 0, 0]: >> Prediction: 0.46936097741127014\n",
      "Sample 140 >> Input: [0, '5', 8, 0.0, 0.0, 0, 0, 0, 1, 0, 0, 0, 0, 0, 0, 0, 0, 0, 0, 0, 0, 1, 0, 0, 0, 0, 0, 0]: >> Prediction: 0.45772016048431396\n",
      "Sample 141 >> Input: [1, '7', 9, 0.0, 1.0, 0, 0, 0, 0, 0, 0, 0, 0, 0, 0, 0, 0, 0, 0, 0, 0, 0, 0, 0, 0, 0, 0, 1]: >> Prediction: 0.46936097741127014\n",
      "Sample 142 >> Input: [1, '7', 7, 0.0, 0.0, 0, 0, 0, 0, 0, 0, 0, 0, 0, 0, 0, 1, 0, 0, 0, 0, 1, 0, 0, 0, 0, 0, 0]: >> Prediction: 0.46936097741127014\n",
      "Sample 143 >> Input: [1, '5', 7, 0.0, 0.0, 0, 0, 0, 0, 0, 0, 0, 0, 0, 0, 0, 0, 0, 1, 0, 0, 0, 0, 0, 0, 0, 1, 0]: >> Prediction: 0.49675580859184265\n",
      "Sample 144 >> Input: [1, '5', 7, 0.0, 0.0, 0, 0, 0, 0, 0, 1, 0, 0, 0, 0, 0, 0, 0, 0, 0, 0, 0, 0, 0, 0, 0, 0, 1]: >> Prediction: 0.49675580859184265\n",
      "Sample 145 >> Input: [1, '7', 9, 0.0, 0.0, 0, 0, 0, 0, 0, 0, 0, 0, 0, 0, 0, 0, 0, 1, 0, 0, 0, 1, 0, 0, 0, 0, 0]: >> Prediction: 0.46936097741127014\n",
      "Sample 146 >> Input: [1, '5', 8, 0.0, 0.0, 0, 0, 0, 0, 0, 0, 1, 0, 0, 0, 0, 0, 0, 0, 0, 0, 0, 0, 0, 0, 1, 0, 0]: >> Prediction: 0.49675580859184265\n",
      "Sample 147 >> Input: [0, '6', 7, 0.0, 0.0, 0, 1, 0, 0, 0, 0, 0, 0, 0, 0, 0, 0, 0, 0, 0, 0, 0, 0, 0, 0, 1, 0, 0]: >> Prediction: 0.4649627208709717\n",
      "Sample 148 >> Input: [0, '7', 8, 0.0, 0.0, 0, 0, 0, 0, 0, 0, 0, 0, 0, 0, 0, 0, 1, 0, 0, 0, 0, 0, 1, 0, 0, 0, 0]: >> Prediction: 0.4683690667152405\n",
      "Sample 149 >> Input: [1, '7', 8, 0.0, 0.0, 0, 0, 0, 0, 0, 0, 0, 0, 0, 0, 0, 0, 1, 0, 1, 0, 0, 0, 0, 0, 0, 0, 0]: >> Prediction: 0.46936097741127014\n",
      "Sample 150 >> Input: [0, '5', 8, 0.0, 0.0, 0, 0, 0, 1, 0, 0, 0, 0, 0, 0, 0, 0, 0, 0, 0, 0, 1, 0, 0, 0, 0, 0, 0]: >> Prediction: 0.45772016048431396\n",
      "Sample 151 >> Input: [1, '7', 9, 0.0, 1.0, 0, 0, 0, 0, 0, 0, 0, 0, 0, 0, 0, 0, 0, 0, 0, 0, 0, 0, 0, 0, 0, 0, 1]: >> Prediction: 0.46936097741127014\n",
      "Sample 152 >> Input: [1, '7', 7, 0.0, 0.0, 0, 0, 0, 0, 0, 0, 0, 0, 0, 0, 0, 1, 0, 0, 0, 0, 1, 0, 0, 0, 0, 0, 0]: >> Prediction: 0.46936097741127014\n",
      "Sample 153 >> Input: [1, '5', 7, 0.0, 0.0, 0, 0, 0, 0, 0, 0, 0, 0, 0, 0, 0, 0, 0, 1, 0, 0, 0, 0, 0, 0, 0, 1, 0]: >> Prediction: 0.49675580859184265\n",
      "Sample 154 >> Input: [1, '5', 7, 0.0, 0.0, 0, 0, 0, 0, 0, 1, 0, 0, 0, 0, 0, 0, 0, 0, 0, 0, 0, 0, 0, 0, 0, 0, 1]: >> Prediction: 0.49675580859184265\n",
      "Sample 155 >> Input: [1, '7', 9, 0.0, 0.0, 0, 0, 0, 0, 0, 0, 0, 0, 0, 0, 0, 0, 0, 1, 0, 0, 0, 1, 0, 0, 0, 0, 0]: >> Prediction: 0.46936097741127014\n",
      "Sample 156 >> Input: [1, '5', 8, 0.0, 0.0, 0, 0, 0, 0, 0, 0, 1, 0, 0, 0, 0, 0, 0, 0, 0, 0, 0, 0, 0, 0, 1, 0, 0]: >> Prediction: 0.49675580859184265\n",
      "Sample 157 >> Input: [0, '6', 7, 0.0, 0.0, 0, 1, 0, 0, 0, 0, 0, 0, 0, 0, 0, 0, 0, 0, 0, 0, 0, 0, 0, 0, 1, 0, 0]: >> Prediction: 0.4649627208709717\n",
      "Sample 158 >> Input: [0, '7', 8, 0.0, 0.0, 0, 0, 0, 0, 0, 0, 0, 0, 0, 0, 0, 0, 1, 0, 0, 0, 0, 0, 1, 0, 0, 0, 0]: >> Prediction: 0.4683690667152405\n",
      "Sample 159 >> Input: [1, '7', 8, 0.0, 0.0, 0, 0, 0, 0, 0, 0, 0, 0, 0, 0, 0, 0, 1, 0, 1, 0, 0, 0, 0, 0, 0, 0, 0]: >> Prediction: 0.46936097741127014\n",
      "Sample 160 >> Input: [0, '5', 8, 0.0, 0.0, 0, 0, 0, 1, 0, 0, 0, 0, 0, 0, 0, 0, 0, 0, 0, 0, 1, 0, 0, 0, 0, 0, 0]: >> Prediction: 0.45772016048431396\n",
      "Sample 161 >> Input: [1, '7', 9, 0.0, 1.0, 0, 0, 0, 0, 0, 0, 0, 0, 0, 0, 0, 0, 0, 0, 0, 0, 0, 0, 0, 0, 0, 0, 1]: >> Prediction: 0.46936097741127014\n",
      "Sample 162 >> Input: [1, '7', 7, 0.0, 0.0, 0, 0, 0, 0, 0, 0, 0, 0, 0, 0, 0, 1, 0, 0, 0, 0, 1, 0, 0, 0, 0, 0, 0]: >> Prediction: 0.46936097741127014\n",
      "Sample 163 >> Input: [1, '5', 7, 0.0, 0.0, 0, 0, 0, 0, 0, 0, 0, 0, 0, 0, 0, 0, 0, 1, 0, 0, 0, 0, 0, 0, 0, 1, 0]: >> Prediction: 0.49675580859184265\n",
      "Sample 164 >> Input: [1, '5', 7, 0.0, 0.0, 0, 0, 0, 0, 0, 1, 0, 0, 0, 0, 0, 0, 0, 0, 0, 0, 0, 0, 0, 0, 0, 0, 1]: >> Prediction: 0.49675580859184265\n",
      "Sample 165 >> Input: [1, '7', 9, 0.0, 0.0, 0, 0, 0, 0, 0, 0, 0, 0, 0, 0, 0, 0, 0, 1, 0, 0, 0, 1, 0, 0, 0, 0, 0]: >> Prediction: 0.46936097741127014\n",
      "Sample 166 >> Input: [1, '5', 8, 0.0, 0.0, 0, 0, 0, 0, 0, 0, 1, 0, 0, 0, 0, 0, 0, 0, 0, 0, 0, 0, 0, 0, 1, 0, 0]: >> Prediction: 0.49675580859184265\n",
      "Sample 167 >> Input: [0, '6', 7, 0.0, 0.0, 0, 1, 0, 0, 0, 0, 0, 0, 0, 0, 0, 0, 0, 0, 0, 0, 0, 0, 0, 0, 1, 0, 0]: >> Prediction: 0.4649627208709717\n",
      "Sample 168 >> Input: [0, '7', 8, 0.0, 0.0, 0, 0, 0, 0, 0, 0, 0, 0, 0, 0, 0, 0, 1, 0, 0, 0, 0, 0, 1, 0, 0, 0, 0]: >> Prediction: 0.4683690667152405\n",
      "Sample 169 >> Input: [1, '7', 8, 0.0, 0.0, 0, 0, 0, 0, 0, 0, 0, 0, 0, 0, 0, 0, 1, 0, 1, 0, 0, 0, 0, 0, 0, 0, 0]: >> Prediction: 0.46936097741127014\n",
      "Sample 170 >> Input: [0, '5', 8, 0.0, 0.0, 0, 0, 0, 1, 0, 0, 0, 0, 0, 0, 0, 0, 0, 0, 0, 0, 1, 0, 0, 0, 0, 0, 0]: >> Prediction: 0.45772016048431396\n",
      "Sample 171 >> Input: [1, '7', 9, 0.0, 1.0, 0, 0, 0, 0, 0, 0, 0, 0, 0, 0, 0, 0, 0, 0, 0, 0, 0, 0, 0, 0, 0, 0, 1]: >> Prediction: 0.46936097741127014\n",
      "Sample 172 >> Input: [1, '7', 7, 0.0, 0.0, 0, 0, 0, 0, 0, 0, 0, 0, 0, 0, 0, 1, 0, 0, 0, 0, 1, 0, 0, 0, 0, 0, 0]: >> Prediction: 0.46936097741127014\n",
      "Sample 173 >> Input: [1, '5', 7, 0.0, 0.0, 0, 0, 0, 0, 0, 0, 0, 0, 0, 0, 0, 0, 0, 1, 0, 0, 0, 0, 0, 0, 0, 1, 0]: >> Prediction: 0.49675580859184265\n",
      "Sample 174 >> Input: [1, '5', 7, 0.0, 0.0, 0, 0, 0, 0, 0, 1, 0, 0, 0, 0, 0, 0, 0, 0, 0, 0, 0, 0, 0, 0, 0, 0, 1]: >> Prediction: 0.49675580859184265\n",
      "Sample 175 >> Input: [1, '7', 9, 0.0, 0.0, 0, 0, 0, 0, 0, 0, 0, 0, 0, 0, 0, 0, 0, 1, 0, 0, 0, 1, 0, 0, 0, 0, 0]: >> Prediction: 0.46936097741127014\n",
      "Sample 176 >> Input: [1, '5', 8, 0.0, 0.0, 0, 0, 0, 0, 0, 0, 1, 0, 0, 0, 0, 0, 0, 0, 0, 0, 0, 0, 0, 0, 1, 0, 0]: >> Prediction: 0.49675580859184265\n",
      "Sample 177 >> Input: [0, '6', 7, 0.0, 0.0, 0, 1, 0, 0, 0, 0, 0, 0, 0, 0, 0, 0, 0, 0, 0, 0, 0, 0, 0, 0, 1, 0, 0]: >> Prediction: 0.4649627208709717\n",
      "Sample 178 >> Input: [0, '7', 8, 0.0, 0.0, 0, 0, 0, 0, 0, 0, 0, 0, 0, 0, 0, 0, 1, 0, 0, 0, 0, 0, 1, 0, 0, 0, 0]: >> Prediction: 0.4683690667152405\n",
      "Sample 179 >> Input: [1, '7', 8, 0.0, 0.0, 0, 0, 0, 0, 0, 0, 0, 0, 0, 0, 0, 0, 1, 0, 1, 0, 0, 0, 0, 0, 0, 0, 0]: >> Prediction: 0.46936097741127014\n",
      "Sample 180 >> Input: [0, '5', 8, 0.0, 0.0, 0, 0, 0, 1, 0, 0, 0, 0, 0, 0, 0, 0, 0, 0, 0, 0, 1, 0, 0, 0, 0, 0, 0]: >> Prediction: 0.45772016048431396\n",
      "Sample 181 >> Input: [1, '7', 9, 0.0, 1.0, 0, 0, 0, 0, 0, 0, 0, 0, 0, 0, 0, 0, 0, 0, 0, 0, 0, 0, 0, 0, 0, 0, 1]: >> Prediction: 0.46936097741127014\n",
      "Sample 182 >> Input: [1, '7', 7, 0.0, 0.0, 0, 0, 0, 0, 0, 0, 0, 0, 0, 0, 0, 1, 0, 0, 0, 0, 1, 0, 0, 0, 0, 0, 0]: >> Prediction: 0.46936097741127014\n",
      "Sample 183 >> Input: [1, '5', 7, 0.0, 0.0, 0, 0, 0, 0, 0, 0, 0, 0, 0, 0, 0, 0, 0, 1, 0, 0, 0, 0, 0, 0, 0, 1, 0]: >> Prediction: 0.49675580859184265\n",
      "Sample 184 >> Input: [1, '5', 7, 0.0, 0.0, 0, 0, 0, 0, 0, 1, 0, 0, 0, 0, 0, 0, 0, 0, 0, 0, 0, 0, 0, 0, 0, 0, 1]: >> Prediction: 0.49675580859184265\n",
      "Sample 185 >> Input: [1, '7', 9, 0.0, 0.0, 0, 0, 0, 0, 0, 0, 0, 0, 0, 0, 0, 0, 0, 1, 0, 0, 0, 1, 0, 0, 0, 0, 0]: >> Prediction: 0.46936097741127014\n",
      "Sample 186 >> Input: [1, '5', 8, 0.0, 0.0, 0, 0, 0, 0, 0, 0, 1, 0, 0, 0, 0, 0, 0, 0, 0, 0, 0, 0, 0, 0, 1, 0, 0]: >> Prediction: 0.49675580859184265\n",
      "Sample 187 >> Input: [0, '6', 7, 0.0, 0.0, 0, 1, 0, 0, 0, 0, 0, 0, 0, 0, 0, 0, 0, 0, 0, 0, 0, 0, 0, 0, 1, 0, 0]: >> Prediction: 0.4649627208709717\n",
      "Sample 188 >> Input: [0, '7', 8, 0.0, 0.0, 0, 0, 0, 0, 0, 0, 0, 0, 0, 0, 0, 0, 1, 0, 0, 0, 0, 0, 1, 0, 0, 0, 0]: >> Prediction: 0.4683690667152405\n",
      "Sample 189 >> Input: [1, '7', 8, 0.0, 0.0, 0, 0, 0, 0, 0, 0, 0, 0, 0, 0, 0, 0, 1, 0, 1, 0, 0, 0, 0, 0, 0, 0, 0]: >> Prediction: 0.46936097741127014\n",
      "Sample 190 >> Input: [0, '5', 8, 0.0, 0.0, 0, 0, 0, 1, 0, 0, 0, 0, 0, 0, 0, 0, 0, 0, 0, 0, 1, 0, 0, 0, 0, 0, 0]: >> Prediction: 0.45772016048431396\n",
      "Sample 191 >> Input: [1, '7', 9, 0.0, 1.0, 0, 0, 0, 0, 0, 0, 0, 0, 0, 0, 0, 0, 0, 0, 0, 0, 0, 0, 0, 0, 0, 0, 1]: >> Prediction: 0.46936097741127014\n",
      "Sample 192 >> Input: [1, '7', 7, 0.0, 0.0, 0, 0, 0, 0, 0, 0, 0, 0, 0, 0, 0, 1, 0, 0, 0, 0, 1, 0, 0, 0, 0, 0, 0]: >> Prediction: 0.46936097741127014\n",
      "Sample 193 >> Input: [1, '5', 7, 0.0, 0.0, 0, 0, 0, 0, 0, 0, 0, 0, 0, 0, 0, 0, 0, 1, 0, 0, 0, 0, 0, 0, 0, 1, 0]: >> Prediction: 0.49675580859184265\n",
      "Sample 194 >> Input: [1, '5', 7, 0.0, 0.0, 0, 0, 0, 0, 0, 1, 0, 0, 0, 0, 0, 0, 0, 0, 0, 0, 0, 0, 0, 0, 0, 0, 1]: >> Prediction: 0.49675580859184265\n",
      "Sample 195 >> Input: [1, '7', 9, 0.0, 0.0, 0, 0, 0, 0, 0, 0, 0, 0, 0, 0, 0, 0, 0, 1, 0, 0, 0, 1, 0, 0, 0, 0, 0]: >> Prediction: 0.46936097741127014\n",
      "Sample 196 >> Input: [1, '5', 8, 0.0, 0.0, 0, 0, 0, 0, 0, 0, 1, 0, 0, 0, 0, 0, 0, 0, 0, 0, 0, 0, 0, 0, 1, 0, 0]: >> Prediction: 0.49675580859184265\n",
      "Sample 197 >> Input: [0, '6', 7, 0.0, 0.0, 0, 1, 0, 0, 0, 0, 0, 0, 0, 0, 0, 0, 0, 0, 0, 0, 0, 0, 0, 0, 1, 0, 0]: >> Prediction: 0.4649627208709717\n",
      "Sample 198 >> Input: [0, '7', 8, 0.0, 0.0, 0, 0, 0, 0, 0, 0, 0, 0, 0, 0, 0, 0, 1, 0, 0, 0, 0, 0, 1, 0, 0, 0, 0]: >> Prediction: 0.4683690667152405\n",
      "Sample 199 >> Input: [1, '7', 8, 0.0, 0.0, 0, 0, 0, 0, 0, 0, 0, 0, 0, 0, 0, 0, 1, 0, 1, 0, 0, 0, 0, 0, 0, 0, 0]: >> Prediction: 0.46936097741127014\n",
      "Sample 200 >> Input: [0, '5', 8, 0.0, 0.0, 0, 0, 0, 1, 0, 0, 0, 0, 0, 0, 0, 0, 0, 0, 0, 0, 1, 0, 0, 0, 0, 0, 0]: >> Prediction: 0.45772016048431396\n",
      "Sample 201 >> Input: [1, '7', 9, 0.0, 1.0, 0, 0, 0, 0, 0, 0, 0, 0, 0, 0, 0, 0, 0, 0, 0, 0, 0, 0, 0, 0, 0, 0, 1]: >> Prediction: 0.46936097741127014\n",
      "Sample 202 >> Input: [1, '7', 7, 0.0, 0.0, 0, 0, 0, 0, 0, 0, 0, 0, 0, 0, 0, 1, 0, 0, 0, 0, 1, 0, 0, 0, 0, 0, 0]: >> Prediction: 0.46936097741127014\n",
      "Sample 203 >> Input: [1, '5', 7, 0.0, 0.0, 0, 0, 0, 0, 0, 0, 0, 0, 0, 0, 0, 0, 0, 1, 0, 0, 0, 0, 0, 0, 0, 1, 0]: >> Prediction: 0.49675580859184265\n",
      "Sample 204 >> Input: [1, '5', 7, 0.0, 0.0, 0, 0, 0, 0, 0, 1, 0, 0, 0, 0, 0, 0, 0, 0, 0, 0, 0, 0, 0, 0, 0, 0, 1]: >> Prediction: 0.49675580859184265\n",
      "Sample 205 >> Input: [1, '7', 9, 0.0, 0.0, 0, 0, 0, 0, 0, 0, 0, 0, 0, 0, 0, 0, 0, 1, 0, 0, 0, 1, 0, 0, 0, 0, 0]: >> Prediction: 0.46936097741127014\n",
      "Sample 206 >> Input: [1, '5', 8, 0.0, 0.0, 0, 0, 0, 0, 0, 0, 1, 0, 0, 0, 0, 0, 0, 0, 0, 0, 0, 0, 0, 0, 1, 0, 0]: >> Prediction: 0.49675580859184265\n",
      "Sample 207 >> Input: [0, '6', 7, 0.0, 0.0, 0, 1, 0, 0, 0, 0, 0, 0, 0, 0, 0, 0, 0, 0, 0, 0, 0, 0, 0, 0, 1, 0, 0]: >> Prediction: 0.4649627208709717\n",
      "Sample 208 >> Input: [0, '7', 8, 0.0, 0.0, 0, 0, 0, 0, 0, 0, 0, 0, 0, 0, 0, 0, 1, 0, 0, 0, 0, 0, 1, 0, 0, 0, 0]: >> Prediction: 0.4683690667152405\n",
      "Sample 209 >> Input: [1, '7', 8, 0.0, 0.0, 0, 0, 0, 0, 0, 0, 0, 0, 0, 0, 0, 0, 1, 0, 1, 0, 0, 0, 0, 0, 0, 0, 0]: >> Prediction: 0.46936097741127014\n",
      "Sample 210 >> Input: [0, '5', 8, 0.0, 0.0, 0, 0, 0, 1, 0, 0, 0, 0, 0, 0, 0, 0, 0, 0, 0, 0, 1, 0, 0, 0, 0, 0, 0]: >> Prediction: 0.45772016048431396\n",
      "Sample 211 >> Input: [1, '7', 9, 0.0, 1.0, 0, 0, 0, 0, 0, 0, 0, 0, 0, 0, 0, 0, 0, 0, 0, 0, 0, 0, 0, 0, 0, 0, 1]: >> Prediction: 0.46936097741127014\n",
      "Sample 212 >> Input: [1, '7', 7, 0.0, 0.0, 0, 0, 0, 0, 0, 0, 0, 0, 0, 0, 0, 1, 0, 0, 0, 0, 1, 0, 0, 0, 0, 0, 0]: >> Prediction: 0.46936097741127014\n",
      "Sample 213 >> Input: [1, '5', 7, 0.0, 0.0, 0, 0, 0, 0, 0, 0, 0, 0, 0, 0, 0, 0, 0, 1, 0, 0, 0, 0, 0, 0, 0, 1, 0]: >> Prediction: 0.49675580859184265\n",
      "Sample 214 >> Input: [1, '5', 7, 0.0, 0.0, 0, 0, 0, 0, 0, 1, 0, 0, 0, 0, 0, 0, 0, 0, 0, 0, 0, 0, 0, 0, 0, 0, 1]: >> Prediction: 0.49675580859184265\n",
      "Sample 215 >> Input: [1, '7', 9, 0.0, 0.0, 0, 0, 0, 0, 0, 0, 0, 0, 0, 0, 0, 0, 0, 1, 0, 0, 0, 1, 0, 0, 0, 0, 0]: >> Prediction: 0.46936097741127014\n",
      "Sample 216 >> Input: [1, '5', 8, 0.0, 0.0, 0, 0, 0, 0, 0, 0, 1, 0, 0, 0, 0, 0, 0, 0, 0, 0, 0, 0, 0, 0, 1, 0, 0]: >> Prediction: 0.49675580859184265\n",
      "Sample 217 >> Input: [0, '6', 7, 0.0, 0.0, 0, 1, 0, 0, 0, 0, 0, 0, 0, 0, 0, 0, 0, 0, 0, 0, 0, 0, 0, 0, 1, 0, 0]: >> Prediction: 0.4649627208709717\n",
      "Sample 218 >> Input: [0, '7', 8, 0.0, 0.0, 0, 0, 0, 0, 0, 0, 0, 0, 0, 0, 0, 0, 1, 0, 0, 0, 0, 0, 1, 0, 0, 0, 0]: >> Prediction: 0.4683690667152405\n",
      "Sample 219 >> Input: [1, '7', 8, 0.0, 0.0, 0, 0, 0, 0, 0, 0, 0, 0, 0, 0, 0, 0, 1, 0, 1, 0, 0, 0, 0, 0, 0, 0, 0]: >> Prediction: 0.46936097741127014\n"
     ]
    }
   ],
   "source": [
    "for file_name in DATASETS[1:]:\n",
    "    \n",
    "    # Set datadrift dataset key name\n",
    "    key = '{0}/train/{1}'.format(PREFIX, file_name)\n",
    "\n",
    "    # Download from S3\n",
    "    datadrift_file_obj = s3_client.get_object(Bucket=BUCKET, Key=key)\n",
    "\n",
    "    # Save to in-memory binary stream since file is relatively small (< 1 Mb)\n",
    "    datadrift_file_buf = io.BytesIO(datadrift_file_obj['Body'].read())\n",
    "\n",
    "    # Convert to Dataframe\n",
    "    df = pd.read_csv(datadrift_file_buf, header=None, na_filter=False)\n",
    "\n",
    "    # List values by column to maintain the column dtype\n",
    "    samples = [df[x].values.tolist() for x in df.columns]\n",
    "\n",
    "    # Use unpacking operator * to unzip the data\n",
    "    samples = list(list(x) for x in zip(*samples))\n",
    "\n",
    "    # Invoke real-time inference endpoint \n",
    "    for index, sample in enumerate(samples):\n",
    "\n",
    "        # Get inference response\n",
    "        response = predict(sample)\n",
    "\n",
    "        # Display the model's prediction probability\n",
    "        print('Sample {0} >> Input: {1}: >> Prediction: {2}'.format(index, sample, response))"
   ]
  },
  {
   "cell_type": "markdown",
   "metadata": {},
   "source": [
    "#### All set\n",
    "\n",
    "Now that the monitoring schedule has been created and we've generated some sample anamolous data to cause data drift detection, please return to the Amazon SageMaker Studio to checkout the Monitoring Job Details."
   ]
  },
  {
   "cell_type": "markdown",
   "metadata": {},
   "source": [
    "#### Cleanup Resources"
   ]
  },
  {
   "cell_type": "code",
   "execution_count": 440,
   "metadata": {},
   "outputs": [
    {
     "name": "stdout",
     "output_type": "stream",
     "text": [
      "Stopping monitoring schedule...\n",
      "Listing monitoring schedules\n"
     ]
    },
    {
     "data": {
      "text/plain": [
       "{'MonitoringScheduleSummaries': [{'MonitoringScheduleName': 'third-party-model-data-quality-schedule',\n",
       "   'MonitoringScheduleArn': 'arn:aws:sagemaker:us-east-1:717870172810:monitoring-schedule/third-party-model-data-quality-schedule',\n",
       "   'CreationTime': datetime.datetime(2021, 1, 7, 19, 52, 53, 420000, tzinfo=tzlocal()),\n",
       "   'LastModifiedTime': datetime.datetime(2021, 1, 8, 14, 25, 28, 840000, tzinfo=tzlocal()),\n",
       "   'MonitoringScheduleStatus': 'Stopped',\n",
       "   'EndpointName': 'third-party-model-endpoint',\n",
       "   'MonitoringJobDefinitionName': 'data-quality-job-definition-2021-01-07-19-52-53-153',\n",
       "   'MonitoringType': 'DataQuality'}],\n",
       " 'ResponseMetadata': {'RequestId': '5c0b2292-04e2-46bd-875e-e5d4e77efe24',\n",
       "  'HTTPStatusCode': 200,\n",
       "  'HTTPHeaders': {'x-amzn-requestid': '5c0b2292-04e2-46bd-875e-e5d4e77efe24',\n",
       "   'content-type': 'application/x-amz-json-1.1',\n",
       "   'content-length': '491',\n",
       "   'date': 'Fri, 08 Jan 2021 14:25:54 GMT'},\n",
       "  'RetryAttempts': 0}}"
      ]
     },
     "execution_count": 440,
     "metadata": {},
     "output_type": "execute_result"
    }
   ],
   "source": [
    "# Step 1.\n",
    "print('Stopping monitoring schedule...')\n",
    "sm_client.stop_monitoring_schedule(MonitoringScheduleName=MODEL_MONITOR_SCHEDULE_NAME)\n",
    "time.sleep(30) # allow time for processing\n",
    "print('Listing monitoring schedules')\n",
    "sm_client.list_monitoring_schedules(EndpointName=MODEL_ENDPOINT) #[\"MonitoringScheduleSummaries\"][0][\"MonitoringScheduleStatus\"]"
   ]
  },
  {
   "cell_type": "code",
   "execution_count": 441,
   "metadata": {},
   "outputs": [
    {
     "name": "stdout",
     "output_type": "stream",
     "text": [
      "Deleting monitoring schedule...\n",
      "Listing monitoring schedules\n"
     ]
    },
    {
     "data": {
      "text/plain": [
       "{'MonitoringScheduleSummaries': [],\n",
       " 'ResponseMetadata': {'RequestId': '0ff1fb1d-a97f-4a80-be4a-bc825ad4a2fe',\n",
       "  'HTTPStatusCode': 200,\n",
       "  'HTTPHeaders': {'x-amzn-requestid': '0ff1fb1d-a97f-4a80-be4a-bc825ad4a2fe',\n",
       "   'content-type': 'application/x-amz-json-1.1',\n",
       "   'content-length': '34',\n",
       "   'date': 'Fri, 08 Jan 2021 14:26:23 GMT'},\n",
       "  'RetryAttempts': 0}}"
      ]
     },
     "execution_count": 441,
     "metadata": {},
     "output_type": "execute_result"
    }
   ],
   "source": [
    "# Step 2.\n",
    "print('Deleting monitoring schedule...')\n",
    "sm_client.delete_monitoring_schedule(MonitoringScheduleName=MODEL_MONITOR_SCHEDULE_NAME)\n",
    "time.sleep(30) # allow time for processing\n",
    "print('Listing monitoring schedules')\n",
    "sm_client.list_monitoring_schedules(EndpointName=MODEL_ENDPOINT) #[\"MonitoringScheduleSummaries\"][0][\"MonitoringScheduleStatus\"]"
   ]
  },
  {
   "cell_type": "code",
   "execution_count": 442,
   "metadata": {},
   "outputs": [
    {
     "name": "stdout",
     "output_type": "stream",
     "text": [
      "Deleting model endpoint...\n",
      "Listing model endpoints\n"
     ]
    },
    {
     "data": {
      "text/plain": [
       "{'Endpoints': [],\n",
       " 'ResponseMetadata': {'RequestId': '9517dc78-6065-402a-a3b6-53ab74fdd6d3',\n",
       "  'HTTPStatusCode': 200,\n",
       "  'HTTPHeaders': {'x-amzn-requestid': '9517dc78-6065-402a-a3b6-53ab74fdd6d3',\n",
       "   'content-type': 'application/x-amz-json-1.1',\n",
       "   'content-length': '16',\n",
       "   'date': 'Fri, 08 Jan 2021 14:26:53 GMT'},\n",
       "  'RetryAttempts': 0}}"
      ]
     },
     "execution_count": 442,
     "metadata": {},
     "output_type": "execute_result"
    }
   ],
   "source": [
    "# Step 3.\n",
    "print('Deleting model endpoint...')\n",
    "sm_client.delete_endpoint(EndpointName=MODEL_ENDPOINT)\n",
    "time.sleep(30) # allow time for processing\n",
    "print('Listing model endpoints')\n",
    "sm_client.list_endpoints(NameContains=MODEL_ENDPOINT)"
   ]
  },
  {
   "cell_type": "code",
   "execution_count": 443,
   "metadata": {},
   "outputs": [
    {
     "name": "stdout",
     "output_type": "stream",
     "text": [
      "Deleting model endpoint config...\n",
      "Listing model endpoint configs\n"
     ]
    },
    {
     "data": {
      "text/plain": [
       "{'EndpointConfigs': [],\n",
       " 'NextToken': 'cIws2QhTXUIa8bi8Wquyl9JGMObqcQriSo5vzJinvSeckdX/R3gUtA9+ySVHbJyHiEhHqKKtNgqd9ijVHO7F/OXBPv0d0zK9bZaje4SuQ02H/MumH1AtB9bHj2D5pB0Sj/btPLT9jTCXK1g2A2rvW95/D0/QBsvsR7E91w93CanWAgPTawc0zzfCUR6wyrhxa7Xk4DXcMD5YI9qJWwJ8Gu/0KmtpllQss2tFWqldTtVYmZNPFPKqNL1Oyd6c7dhuNRZTNyiOmXEeQSvqsESy21STYnba86JKX+rqOMmVFpFAgZr81c4f5m0Sw2WauaAjrOuLVnQzJbm60UU8g0uSBMzPfSoMbP0Izza8RjzJivoIFbGzz8W8w1Cvoj9BdP6qKW5ZDoxyII/x/kYFvE+kVIM60dz6JyK3FDyBGo6Ew3U+fprIhK+bGn0oD2xuNmBlRrkhYwDRl9PYvKdQqp1MkIydVAtG2K6+w5zFmyGSzvZXfmQF4TdBwGTotKpM8bC8g833saJE2BE+ixfJHvrMFhxsuosb/jNiwc3+MmcFxt0d4oo1m9KsSZqZH+1+WCyZse27r67RpzhLxKnwTAfz8Zbcj1wsvgRrHGYJZqo3mRIh+rGuHN+i1e2AdW0dU6cdRAsITw==',\n",
       " 'ResponseMetadata': {'RequestId': 'ce7d0dc9-68bd-4c6a-b4f3-f109b5ea8581',\n",
       "  'HTTPStatusCode': 200,\n",
       "  'HTTPHeaders': {'x-amzn-requestid': 'ce7d0dc9-68bd-4c6a-b4f3-f109b5ea8581',\n",
       "   'content-type': 'application/x-amz-json-1.1',\n",
       "   'content-length': '685',\n",
       "   'date': 'Fri, 08 Jan 2021 14:27:24 GMT'},\n",
       "  'RetryAttempts': 0}}"
      ]
     },
     "execution_count": 443,
     "metadata": {},
     "output_type": "execute_result"
    }
   ],
   "source": [
    "# Step 4.\n",
    "print('Deleting model endpoint config...')\n",
    "sm_client.delete_endpoint_config(EndpointConfigName=MODEL_ENDPOINT_CONFIG)\n",
    "time.sleep(30) # allow time for processing\n",
    "print('Listing model endpoint configs')\n",
    "sm_client.list_endpoint_configs(NameContains=MODEL_ENDPOINT_CONFIG)"
   ]
  },
  {
   "cell_type": "code",
   "execution_count": 444,
   "metadata": {},
   "outputs": [
    {
     "name": "stdout",
     "output_type": "stream",
     "text": [
      "Deleting model...\n",
      "Listing models\n"
     ]
    },
    {
     "data": {
      "text/plain": [
       "{'Models': [],\n",
       " 'NextToken': 'cIws2QhTXUIa8bi8Wquyl9JGMObqcQriSo5vzJinvSeckdX/R3gUtA9+ySVHbJyHiEhHqKKtNgqd9ijVHO7F/OXBPv0d0zK9bZaje4SuQ02H/MumH1AtB9bHj2D5pB0Sj/btPLT9jTCXK1g2A2rvW95/D0/QBsvsR7E91w93CanWAgPTawc0zzfCUR6wyrhxa7Xk4DXcMD5YI9qJWwJ8Gu/0KmtpllQss2tFWqldTtVYmZNPFPKqNL1Oyd6c7dhuNRZTNyiOmXEeQSvqsETDyO8QnIBelJvAhn/KWMmu8hqLswsra/K8uqkdnR4tPlio3wtbj3rizl+ZoFaz9yocQBce+FZyZl/mQbvmbbWROU1VtOYEqCUa4iyfrl+OtnYUNoPrrQ7yxL+rcg0f4eTH3uR3xboFACQfsfNuZc/V11apcobB/BQb6U0uaYY2FcZDhEAeO158d5kPgoXVcAaxmVVl8xDeKLPuetmrWWokKnZRCfDt1PdRgKRwUTeu6/CjxnYUB51mjH/mAV48RV+qErSivUqJoXvAzKQwvy53i+yKJSSMSTmDgJ2puASqN8s5io4pIv0gSeVWAspH/h9oF3sPQtMqAp4SLb+oUwykI6ZKxvi1',\n",
       " 'ResponseMetadata': {'RequestId': '828820e7-e161-46e3-9e6f-84f3bae1bb21',\n",
       "  'HTTPStatusCode': 200,\n",
       "  'HTTPHeaders': {'x-amzn-requestid': '828820e7-e161-46e3-9e6f-84f3bae1bb21',\n",
       "   'content-type': 'application/x-amz-json-1.1',\n",
       "   'content-length': '652',\n",
       "   'date': 'Fri, 08 Jan 2021 14:27:54 GMT'},\n",
       "  'RetryAttempts': 0}}"
      ]
     },
     "execution_count": 444,
     "metadata": {},
     "output_type": "execute_result"
    }
   ],
   "source": [
    "# Step 5.\n",
    "print('Deleting model...')\n",
    "sm_client.delete_model(ModelName=MODEL_NAME)\n",
    "time.sleep(30) # allow time for processing\n",
    "print('Listing models')\n",
    "sm_client.list_models(NameContains=MODEL_NAME)"
   ]
  }
 ],
 "metadata": {
  "instance_type": "ml.t3.medium",
  "kernelspec": {
   "display_name": "Python 3 (Data Science)",
   "language": "python",
   "name": "python3__SAGEMAKER_INTERNAL__arn:aws:sagemaker:us-east-1:081325390199:image/datascience-1.0"
  },
  "language_info": {
   "codemirror_mode": {
    "name": "ipython",
    "version": 3
   },
   "file_extension": ".py",
   "mimetype": "text/x-python",
   "name": "python",
   "nbconvert_exporter": "python",
   "pygments_lexer": "ipython3",
   "version": "3.7.6"
  }
 },
 "nbformat": 4,
 "nbformat_minor": 4
}
