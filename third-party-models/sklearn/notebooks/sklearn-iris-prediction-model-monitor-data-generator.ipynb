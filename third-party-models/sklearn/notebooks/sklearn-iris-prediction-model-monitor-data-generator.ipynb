{
 "cells": [
  {
   "cell_type": "code",
   "execution_count": 9,
   "metadata": {},
   "outputs": [],
   "source": [
    "import boto3\n",
    "\n",
    "from sagemaker import session\n",
    "from sagemaker.predictor import Predictor\n",
    "from sagemaker.serializers import CSVSerializer\n",
    "from sklearn.datasets import load_iris\n",
    "\n",
    "import io\n",
    "import numpy as np\n",
    "import pandas as pd\n",
    "import random\n",
    "\n",
    "import time\n",
    "\n",
    "sm_session = session.Session(boto3.Session())\n",
    "\n",
    "# S3 bucket\n",
    "protocol = 's3://'\n",
    "bucket = 'sagemaker-third-party-models'\n",
    "endpoint_name = 'third-party-model-endpoint'\n",
    "\n",
    "batch_size = 10"
   ]
  },
  {
   "cell_type": "markdown",
   "metadata": {},
   "source": [
    "#### Uploading the Iris dataset to S3"
   ]
  },
  {
   "cell_type": "code",
   "execution_count": 10,
   "metadata": {
    "scrolled": false
   },
   "outputs": [],
   "source": [
    "# S3 client\n",
    "s3_client = boto3.client('s3')\n",
    "\n",
    "# Load the iris dataset\n",
    "iris_data = load_iris()\n",
    "\n",
    "# Add to DataFrame\n",
    "cols = ['sepal_length', 'sepal_width', 'petal_length', 'petal_width']\n",
    "iris_df = pd.DataFrame(iris_data.data, columns=cols)\n",
    "\n",
    "# Insert target label as first column\n",
    "labels = iris_data.target_names[iris_data['target']]\n",
    "iris_df.insert(loc=0, column='class', value=labels)\n",
    "\n",
    "# Load it in-memory (since it is a small dataset) \n",
    "data_stream = io.StringIO()\n",
    "iris_df.to_csv(data_stream, sep=',', encoding='utf-8', index=False)\n",
    "\n",
    "# Get stream data from memory\n",
    "iris_csv = data_stream.getvalue()"
   ]
  },
  {
   "cell_type": "code",
   "execution_count": null,
   "metadata": {},
   "outputs": [],
   "source": [
    "# Upload to S3 bucket\n",
    "key = 'iris/train/train.csv'\n",
    "s3_client.put_object(Body=iris_csv,\n",
    "                     Bucket=bucket, \n",
    "                     Key=key, \n",
    "                     ContentType='text/csv')"
   ]
  },
  {
   "cell_type": "markdown",
   "metadata": {},
   "source": [
    "#### Create Predictor endpoint"
   ]
  },
  {
   "cell_type": "code",
   "execution_count": 12,
   "metadata": {},
   "outputs": [],
   "source": [
    "predictor = Predictor(endpoint_name=endpoint_name, \n",
    "                      sagemaker_session=None, \n",
    "                      serializer=CSVSerializer()) # Modify based on model "
   ]
  },
  {
   "cell_type": "markdown",
   "metadata": {},
   "source": [
    "#### Generate baseline data to trigger 'No Issues'"
   ]
  },
  {
   "cell_type": "code",
   "execution_count": 13,
   "metadata": {},
   "outputs": [
    {
     "name": "stdout",
     "output_type": "stream",
     "text": [
      "Sample 0 >> Input: [5.0, 2.3, 3.3, 1.0]: >> Prediction: versicolor\n",
      "\n",
      "Sample 1 >> Input: [5.8, 2.7, 3.9, 1.2]: >> Prediction: versicolor\n",
      "\n",
      "Sample 2 >> Input: [6.3, 3.4, 5.6, 2.4]: >> Prediction: virginica\n",
      "\n",
      "Sample 3 >> Input: [6.0, 2.2, 5.0, 1.5]: >> Prediction: virginica\n",
      "\n",
      "Sample 4 >> Input: [5.2, 3.4, 1.4, 0.2]: >> Prediction: setosa\n",
      "\n",
      "Sample 5 >> Input: [5.7, 2.8, 4.5, 1.3]: >> Prediction: versicolor\n",
      "\n",
      "Sample 6 >> Input: [7.7, 2.6, 6.9, 2.3]: >> Prediction: virginica\n",
      "\n",
      "Sample 7 >> Input: [4.6, 3.4, 1.4, 0.3]: >> Prediction: setosa\n",
      "\n",
      "Sample 8 >> Input: [5.0, 3.4, 1.6, 0.4]: >> Prediction: setosa\n",
      "\n",
      "Sample 9 >> Input: [6.3, 2.5, 5.0, 1.9]: >> Prediction: virginica\n",
      "\n",
      "Completed!\n"
     ]
    }
   ],
   "source": [
    "# Remove class label column\n",
    "if('class' in iris_df.columns): \n",
    "    iris_df = iris_df.drop(columns=['class'])\n",
    "\n",
    "# Convert dataframe to list\n",
    "samples = iris_df.values.tolist()\n",
    "\n",
    "# Remove the header row\n",
    "samples = samples[1:]\n",
    "\n",
    "# Shuffle the samples \n",
    "random.shuffle(samples)\n",
    "\n",
    "# Invoke real-time inference endpoint using baseline data\n",
    "for index, sample in enumerate(samples[0:batch_size]):\n",
    "        \n",
    "    # Defensive coding\n",
    "    if(len(sample) > 0):\n",
    "        \n",
    "        # Invoke the model's inference endpoint\n",
    "        response = predictor.predict(sample).decode('utf-8') \n",
    "        \n",
    "        # Display the model's classification prediction\n",
    "        print('Sample {0} >> Input: {1}: >> Prediction: {2}'.format(index, sample, response))\n",
    "        \n",
    "        # Suspends execution for 500 milliseconds\n",
    "        time.sleep(0.5)\n",
    "\n",
    "print('Completed!')"
   ]
  },
  {
   "cell_type": "markdown",
   "metadata": {},
   "source": [
    "#### Generate data to induce data quality constraint violations"
   ]
  },
  {
   "cell_type": "code",
   "execution_count": 14,
   "metadata": {},
   "outputs": [
    {
     "name": "stdout",
     "output_type": "stream",
     "text": [
      "Sample 0 >> Input: 2,4,1,-3: >> Prediction: setosa\n",
      "\n",
      "Sample 1 >> Input: 0,0,-4,3: >> Prediction: virginica\n",
      "\n",
      "Sample 2 >> Input: -4,2,-4,2: >> Prediction: virginica\n",
      "\n",
      "Sample 3 >> Input: 4,-4,-3,-3: >> Prediction: setosa\n",
      "\n",
      "Sample 4 >> Input: 2,-2,2,3: >> Prediction: virginica\n",
      "\n",
      "Sample 5 >> Input: 1,-4,3,-4: >> Prediction: setosa\n",
      "\n",
      "Sample 6 >> Input: 2,-1,4,0: >> Prediction: setosa\n",
      "\n",
      "Sample 7 >> Input: 2,-3,-4,-1: >> Prediction: setosa\n",
      "\n",
      "Sample 8 >> Input: 3,-3,2,1: >> Prediction: versicolor\n",
      "\n",
      "Sample 9 >> Input: 1,0,-2,4: >> Prediction: virginica\n",
      "\n",
      "Completed!\n"
     ]
    }
   ],
   "source": [
    "# Generate values outside the normal baseline data type and distribution\n",
    "sample_drift_data = np.random.uniform(low=-5, high=5, size=(batch_size, 4)).astype('i')\n",
    "\n",
    "# Convert array to comma seperated list\n",
    "sample_drift_data = [\",\".join(item) for item in sample_drift_data.astype(str)]\n",
    "\n",
    "# Invoke real-time inference endpoint to simulate data drift\n",
    "for index, sample in enumerate(sample_drift_data):\n",
    "    \n",
    "    # Defensive coding\n",
    "    if(len(sample) > 0):\n",
    "               \n",
    "        # Invoke the model's inference endpoint\n",
    "        response = predictor.predict(sample).decode('utf-8')\n",
    "        \n",
    "        # Display the model's classification prediction\n",
    "        print('Sample {0} >> Input: {1}: >> Prediction: {2}'.format(index, sample, response))\n",
    "        \n",
    "        # Suspends execution for 500 milliseconds\n",
    "        time.sleep(0.5)\n",
    "\n",
    "print('Completed!')"
   ]
  },
  {
   "cell_type": "markdown",
   "metadata": {},
   "source": [
    "#### Monitoring Schedule management"
   ]
  },
  {
   "cell_type": "code",
   "execution_count": 15,
   "metadata": {},
   "outputs": [],
   "source": [
    "# !aws sagemaker list-monitoring-schedules\n",
    "# !aws sagemaker describe-monitoring-schedule --monitoring-schedule-name 'third-party-model-data-quality-schedule'\n",
    "# !aws sagemaker list-monitoring-executions --monitoring-schedule-name 'third-party-model-data-quality-schedule'\n"
   ]
  },
  {
   "cell_type": "markdown",
   "metadata": {},
   "source": [
    "#### Resource Cleanup"
   ]
  },
  {
   "cell_type": "code",
   "execution_count": 16,
   "metadata": {},
   "outputs": [],
   "source": [
    "# Step 1.\n",
    "# print('Stopping monitoring schedule...')\n",
    "# !aws sagemaker stop-monitoring-schedule --monitoring-schedule-name 'third-party-model-data-quality-schedule'\n",
    "# time.sleep(30) # allow time for processing\n",
    "# !aws sagemaker list-monitoring-schedules --endpoint-name 'third-party-model-endpoint'\n",
    "\n",
    "# Step 2.\n",
    "# print('Deleting monitoring schedule...')\n",
    "# !aws sagemaker delete-monitoring-schedule --monitoring-schedule-name 'third-party-model-data-quality-schedule'\n",
    "# time.sleep(30) # allow time for processing\n",
    "# !aws sagemaker list-monitoring-schedules --endpoint-name 'third-party-model-endpoint'\n",
    "\n",
    "# Step 3.\n",
    "# print('Deleting model endpoint...')\n",
    "# !aws sagemaker delete-endpoint --endpoint-name 'third-party-model-endpoint'\n",
    "# time.sleep(30) # allow time for processing\n",
    "# !aws sagemaker list-endpoints --name-contains 'third-party-model-endpoint'\n",
    "\n",
    "# Step 4.\n",
    "# print('Deleting model endpoint config...')\n",
    "# !aws sagemaker delete-endpoint-config --endpoint-config-name 'third-party-model-endpoint-config'\n",
    "# time.sleep(30) # allow time for processing\n",
    "# !aws sagemaker list-endpoint-configs --name-contains 'third-party-model-endpoint-config'\n",
    "\n",
    "# Step 5.\n",
    "# print('Deleting model...')\n",
    "# !aws sagemaker delete-model --model-name 'third-party-model'\n",
    "# time.sleep(30) # allow time for processing\n",
    "# !aws sagemaker list-models --name-contains 'third-party-model'"
   ]
  },
  {
   "cell_type": "code",
   "execution_count": null,
   "metadata": {},
   "outputs": [],
   "source": []
  }
 ],
 "metadata": {
  "kernelspec": {
   "display_name": "conda_python3",
   "language": "python",
   "name": "conda_python3"
  },
  "language_info": {
   "codemirror_mode": {
    "name": "ipython",
    "version": 3
   },
   "file_extension": ".py",
   "mimetype": "text/x-python",
   "name": "python",
   "nbconvert_exporter": "python",
   "pygments_lexer": "ipython3",
   "version": "3.6.10"
  }
 },
 "nbformat": 4,
 "nbformat_minor": 2
}
