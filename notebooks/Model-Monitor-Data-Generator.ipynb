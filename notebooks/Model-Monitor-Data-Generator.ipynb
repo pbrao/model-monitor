{
 "cells": [
  {
   "cell_type": "code",
   "execution_count": null,
   "metadata": {},
   "outputs": [],
   "source": [
    "import boto3\n",
    "from sagemaker import session\n",
    "\n",
    "from sagemaker.predictor import Predictor\n",
    "from sagemaker.deserializers import CSVDeserializer\n",
    "from sagemaker.serializers import CSVSerializer\n",
    "\n",
    "sm_session = session.Session(boto3.Session())\n",
    "\n",
    "# S3 bucket\n",
    "protocol = 's3://'\n",
    "bucket = ''\n",
    "endpoint_name = 'third-party-model-endpoint'"
   ]
  },
  {
   "source": [
    "#### Uploading the Iris dataset to S3"
   ],
   "cell_type": "markdown",
   "metadata": {}
  },
  {
   "cell_type": "code",
   "execution_count": null,
   "metadata": {
    "scrolled": false
   },
   "outputs": [],
   "source": [
    "import io\n",
    "import pandas as pd\n",
    "from sklearn.datasets import load_iris\n",
    "import boto3\n",
    "\n",
    "# S3 client\n",
    "s3_client = boto3.client('s3')\n",
    "\n",
    "# Load the iris dataset\n",
    "iris_data = load_iris()\n",
    "\n",
    "# Add to DataFrame\n",
    "cols = ['sepal_length', 'sepal_width', 'petal_length', 'petal_width']\n",
    "iris_df = pd.DataFrame(iris.data, columns=cols)\n",
    "\n",
    "# Insert target label as first column\n",
    "labels = iris_data.target_names[iris_data['target']]\n",
    "iris_df.insert(loc=0, column='class', value=labels)\n",
    "\n",
    "# Load it in-memory (since it is a small dataset) \n",
    "data_stream = io.StringIO()\n",
    "iris_df.to_csv(data_stream, sep=',', encoding='utf-8', index=False)\n",
    "\n",
    "# Get stream data from memory\n",
    "iris_csv = data_stream.getvalue()\n",
    "\n",
    "# Return a list of the lines in the string\n",
    "samples = iris_csv.splitlines()"
   ]
  },
  {
   "source": [
    "# Upload to S3 bucket\n",
    "key = 'third-party-model/train/data/train.csv'\n",
    "s3_client.put_object(Body=iris_csv,\n",
    "                     Bucket=bucket, \n",
    "                     Key=key, \n",
    "                     ContentType='text/csv')"
   ],
   "cell_type": "code",
   "metadata": {},
   "execution_count": null,
   "outputs": []
  },
  {
   "source": [
    "#### Create Predictor endpoint"
   ],
   "cell_type": "markdown",
   "metadata": {}
  },
  {
   "cell_type": "code",
   "execution_count": null,
   "metadata": {},
   "outputs": [],
   "source": [
    "predictor = Predictor(endpoint_name=endpoint_name, \n",
    "                      sagemaker_session=None, \n",
    "                      serializer=CSVSerializer()) # Modify based on model "
   ]
  },
  {
   "cell_type": "markdown",
   "metadata": {},
   "source": [
    "#### Generate baseline data to trigger 'No Issues'"
   ]
  },
  {
   "cell_type": "code",
   "execution_count": null,
   "metadata": {},
   "outputs": [],
   "source": [
    "import time\n",
    "import random\n",
    "\n",
    "# Get stream data from memory\n",
    "iris_csv = data_stream.getvalue()\n",
    "\n",
    "# Return a list of the lines in the string\n",
    "samples = (iris_csv.splitlines())\n",
    "\n",
    "# Remove class_label column\n",
    "samples = [element.split(',') for element in samples]\n",
    "_ = [element.pop(0) for element in samples]\n",
    "\n",
    "# Remove the header row\n",
    "samples = samples[1:]\n",
    "\n",
    "# Convert string to float for expected inference datatype\n",
    "samples = [[float(item) for item in group] for group in samples]\n",
    "\n",
    "# Shuffle the samples \n",
    "random.shuffle(samples)\n",
    "\n",
    "# Invoke real-time inference endpoint using baseline data\n",
    "for index, sample in enumerate(samples):\n",
    "        \n",
    "    # Defensive coding\n",
    "    if(len(sample) > 0):\n",
    "        \n",
    "        # Invoke the model's inference endpoint\n",
    "        response = predictor.predict(data=sample)\n",
    "        \n",
    "        # Decode bytes to string\n",
    "        response = response.decode('utf-8') \n",
    "        \n",
    "        # Display the model's classification prediction\n",
    "        print('Sample {0} >> Input: {1}: >> Prediction: {2}'.format(index, sample, response))\n",
    "        \n",
    "        # Suspends execution for 500 milliseconds\n",
    "        time.sleep(0.5)\n",
    "\n",
    "print('Completed!')"
   ]
  },
  {
   "source": [
    "#### Generate data to induce data quality constraint violations"
   ],
   "cell_type": "markdown",
   "metadata": {}
  },
  {
   "cell_type": "code",
   "execution_count": null,
   "metadata": {},
   "outputs": [],
   "source": [
    "import numpy as np\n",
    "\n",
    "# Generate values outside the normal baseline data type and distribution\n",
    "sample_drift_data = np.random.uniform(low=-5, high=5, size=(200,4)).astype('i')\n",
    "\n",
    "# Convert array to comma seperated list\n",
    "sample_drift_data = [\",\".join(item) for item in sample_drift_data.astype(str)]\n",
    "\n",
    "# Invoke real-time inference endpoint to simulate data drift\n",
    "for index, sample in enumerate(sample_drift_data):\n",
    "    \n",
    "    # Defensive coding\n",
    "    if(len(sample) > 0):\n",
    "               \n",
    "        # Invoke the model's inference endpoint\n",
    "        response = predictor.predict(data=sample)\n",
    "        \n",
    "        # Decode bytes to string\n",
    "        response = response.decode('utf-8')         \n",
    "        \n",
    "        # Display the model's classification prediction\n",
    "        print('Sample {0} >> Input: {1}: >> Prediction: {2}'.format(index, sample, response))\n",
    "        \n",
    "        # Suspends execution for 500 milliseconds\n",
    "        time.sleep(0.5)\n",
    "\n",
    "print('Completed!')"
   ]
  },
  {
   "source": [
    "#### Monitoring Schedule management"
   ],
   "cell_type": "markdown",
   "metadata": {}
  },
  {
   "cell_type": "code",
   "execution_count": null,
   "metadata": {},
   "outputs": [],
   "source": [
    "# !aws sagemaker list-monitoring-schedules\n",
    "# !aws sagemaker describe-monitoring-schedule --monitoring-schedule-name 'third-party-model-data-quality-schedule'\n",
    "# !aws sagemaker list-monitoring-executions --monitoring-schedule-name 'third-party-model-data-quality-schedule'\n"
   ]
  },
  {
   "source": [
    "#### Resource Cleanup"
   ],
   "cell_type": "markdown",
   "metadata": {}
  },
  {
   "cell_type": "code",
   "execution_count": null,
   "metadata": {},
   "outputs": [],
   "source": [
    "# Step 1.\n",
    "# !aws sagemaker stop-monitoring-schedule --monitoring-schedule-name 'third-party-model-data-quality-schedule'\n",
    "# time.sleep(30) # allow time for processing\n",
    "# !aws sagemaker list-monitoring-schedules --endpoint-name 'third-party-model-endpoint'\n",
    "\n",
    "# Step 2.\n",
    "# !aws sagemaker delete-monitoring-schedule --monitoring-schedule-name 'third-party-model-data-quality-schedule'\n",
    "# time.sleep(30) # allow time for processing\n",
    "# !aws sagemaker list-monitoring-schedules --endpoint-name 'third-party-model-endpoint'\n",
    "\n",
    "# Step 3.\n",
    "# !aws sagemaker delete-endpoint --endpoint-name 'third-party-model-endpoint'\n",
    "# time.sleep(30) # allow time for processing\n",
    "# !aws sagemaker list-endpoints --name-contains 'third-party-model-endpoint'\n",
    "\n",
    "# Step 4.\n",
    "# !aws sagemaker delete-endpoint-config --endpoint-config-name 'third-party-model-endpoint-config'\n",
    "# time.sleep(30) # allow time for processing\n",
    "# !aws sagemaker list-endpoint-configs --name-contains 'third-party-model-endpoint-config'\n",
    "\n",
    "# Step 5.\n",
    "# !aws sagemaker delete-model --model-name 'third-party-model'\n",
    "# time.sleep(30) # allow time for processing\n",
    "# !aws sagemaker list-models --name-contains 'third-party-model'"
   ]
  }
 ],
 "metadata": {
  "kernelspec": {
   "display_name": "Python 3",
   "language": "python",
   "name": "python3"
  },
  "language_info": {
   "codemirror_mode": {
    "name": "ipython",
    "version": 3
   },
   "file_extension": ".py",
   "mimetype": "text/x-python",
   "name": "python",
   "nbconvert_exporter": "python",
   "pygments_lexer": "ipython3",
   "version": "3.7.4-final"
  }
 },
 "nbformat": 4,
 "nbformat_minor": 2
}