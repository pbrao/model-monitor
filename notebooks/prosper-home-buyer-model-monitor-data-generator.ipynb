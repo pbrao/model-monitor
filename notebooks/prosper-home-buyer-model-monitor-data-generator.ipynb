{
 "cells": [
  {
   "cell_type": "code",
   "execution_count": 277,
   "metadata": {},
   "outputs": [],
   "source": [
    "import boto3\n",
    "from sagemaker import session\n",
    "from sagemaker.s3 import S3Downloader\n",
    "\n",
    "from sagemaker.predictor import Predictor\n",
    "from sagemaker.serializers import CSVSerializer\n",
    "\n",
    "import pandas as pd\n",
    "import numpy as np\n",
    "\n",
    "import io as StringIO\n",
    "import time\n",
    "import random"
   ]
  },
  {
   "cell_type": "markdown",
   "metadata": {},
   "source": [
    "#### Globals"
   ]
  },
  {
   "cell_type": "code",
   "execution_count": 262,
   "metadata": {},
   "outputs": [],
   "source": [
    "# Session\n",
    "sm_session = session.Session(boto3.Session())\n",
    "\n",
    "# S3 client\n",
    "s3_client = boto3.client('s3')\n",
    "\n",
    "# S3 bucket\n",
    "bucket = 'sagemaker-demo-third-party-models'\n",
    "\n",
    "# Model provider name\n",
    "prefix = 'prosper'\n",
    "\n",
    "# Model endpoint name\n",
    "endpoint_name = 'third-party-model-endpoint'\n",
    "\n",
    "# Data files\n",
    "buyer_zip_code_features_data_file = 'data/sample_basic_zip.csv'\n",
    "zip_code_features_data_file = 'data/zip_features.csv'\n",
    "#training_data_file = 'train/train-no-headers.csv'\n",
    "training_data_file = 'train/train.csv'\n",
    "\n",
    "# Create predictor endpoint\n",
    "predictor = Predictor(endpoint_name=endpoint_name, \n",
    "                      sagemaker_session=None, \n",
    "                      serializer=CSVSerializer())"
   ]
  },
  {
   "cell_type": "markdown",
   "metadata": {},
   "source": [
    "#### Loading data files from S3"
   ]
  },
  {
   "cell_type": "code",
   "execution_count": 263,
   "metadata": {},
   "outputs": [],
   "source": [
    "# Training data dictionary\n",
    "training_data = {\n",
    "    'basic_zip': {'file_name' : buyer_zip_code_features_data_file, 'file_uri':'', 'data':''},\n",
    "    'zip_features': {'file_name' : zip_code_features_data_file, 'file_uri':'', 'data':''}}\n",
    "\n",
    "# S3 data file locations\n",
    "training_data['basic_zip']['file_uri'] = 's3://{}/{}/{}'.format(bucket, prefix, training_data['basic_zip']['file_name'])\n",
    "training_data['zip_features']['file_uri'] = 's3://{}/{}/{}'.format(bucket, prefix, training_data['zip_features']['file_name'])\n",
    "\n",
    "# Download files\n",
    "training_data['basic_zip']['data'] = S3Downloader.read_file(training_data['basic_zip']['file_uri'])\n",
    "training_data['zip_features']['data'] = S3Downloader.read_file(training_data['zip_features']['file_uri'])"
   ]
  },
  {
   "cell_type": "code",
   "execution_count": 264,
   "metadata": {},
   "outputs": [],
   "source": [
    "# Testing\n",
    "\n",
    "# print(training_data['basic_zip']['file_uri'])\n",
    "# print(training_data['zip_features']['file_uri'])\n",
    "\n",
    "# len(training_data['basic_zip']['data'].splitlines()) # 1000 rows\n",
    "# len(training_data['zip_features']['data'].splitlines()) # 28845 rows"
   ]
  },
  {
   "cell_type": "markdown",
   "metadata": {},
   "source": [
    "#### Helper functions"
   ]
  },
  {
   "cell_type": "code",
   "execution_count": 265,
   "metadata": {},
   "outputs": [],
   "source": [
    "def get_zip_code_features(zip_features_df, zip_code):\n",
    "\n",
    "    # Get the zip code features using a Dataframe query\n",
    "    zip_features = zip_features_df[(zip_features_df.zip_code == zip_code)]\n",
    "       \n",
    "    # If no match found, then create empty encoding list\n",
    "    result = np.zeros((np.add(num_cluster_classes, num_division_classes)), dtype=int)    \n",
    "\n",
    "    # Defensive coding\n",
    "    if(len(zip_features) > 0):\n",
    "\n",
    "        # Get matching feature values\n",
    "        cluster = zip_features['cluster'].values[0]\n",
    "        division = zip_features['division'].values[0]\n",
    "\n",
    "        # One-hot encode feature values\n",
    "        cluster_encoded = np.eye(num_cluster_classes, dtype=int)[cluster]\n",
    "        division_encoded = np.eye(num_division_classes, dtype=int)[division]\n",
    "\n",
    "        # Concatenate the encoded features\n",
    "        result = np.concatenate( (cluster_encoded, division_encoded) )\n",
    "       \n",
    "    # Convert array of integers to a comma-delimited string\n",
    "    #result = \",\".join(result.astype(str))    \n",
    "    \n",
    "    # Return            \n",
    "    return result"
   ]
  },
  {
   "cell_type": "code",
   "execution_count": 266,
   "metadata": {},
   "outputs": [],
   "source": [
    "def predict(sample, predictor=predictor, delay=0.5):\n",
    "   \n",
    "    # Defensive coding\n",
    "    if(len(sample) > 0):\n",
    "\n",
    "        # Invoke the model's inference endpoint\n",
    "        response = predictor.predict(data=sample)\n",
    "\n",
    "        # Decode bytes to string\n",
    "        response = response.decode('utf-8')\n",
    "        \n",
    "        # Suspends execution for # milliseconds\n",
    "        time.sleep(delay)        \n",
    "\n",
    "        # Return \n",
    "        return response"
   ]
  },
  {
   "cell_type": "markdown",
   "metadata": {},
   "source": [
    "#### Create baseline training dataset"
   ]
  },
  {
   "cell_type": "code",
   "execution_count": 267,
   "metadata": {},
   "outputs": [],
   "source": [
    "# Total encoded zip classes\n",
    "num_encoded_zip_classes = 25\n",
    "\n",
    "# Zipcode cluster classes\n",
    "num_cluster_classes = 16\n",
    "\n",
    "# Zipcode division classes\n",
    "num_division_classes = 9\n",
    "\n",
    "# Labels for data files\n",
    "cols = ['gender', 'age_range', 'household_income_range', 'zip_features']\n",
    "encoded_zip_feature_cols = np.array(['zip_feature_{}'.format(i) for i in range(0, num_encoded_zip_classes)])\n",
    "\n",
    "# Convert data files to dataframe\n",
    "basic_zip_df = pd.read_csv(io.StringIO(training_data['basic_zip']['data']), names=cols, nrows=65536)\n",
    "\n",
    "zip_features_df = pd.read_csv(io.StringIO(training_data['zip_features']['data'])) # File includes col headers\n",
    "\n",
    "# Get list of one-hot encode zip features based on zipcode\n",
    "encoded_zip_features = [get_zip_code_features(zip_features_df, zipcode) for zipcode in basic_zip_df['zip_features']]\n",
    "\n",
    "# Update zip_features (zipcode) column with binary encoded zip features\n",
    "# basic_zip_df['zip_features'] = encoded_zip_features\n",
    "\n",
    "# Create dataframe for the encoded zip_features\n",
    "encoded_zip_features_df = pd.DataFrame(encoded_zip_features, columns=encoded_zip_feature_cols)\n",
    "\n",
    "# Concatenate the first three columns of the home buyers file with the encoded zip features\n",
    "df = pd.concat([basic_zip_df[['gender', 'age_range', 'household_income_range']], encoded_zip_features_df], axis=1)"
   ]
  },
  {
   "cell_type": "code",
   "execution_count": 269,
   "metadata": {},
   "outputs": [],
   "source": [
    "# Load dataset into memory (since it is a relatively small dataset) \n",
    "data_stream = io.StringIO()\n",
    "df.to_csv(data_stream, sep=',', encoding='utf-8', index=False) #header=False\n",
    "\n",
    "# Get stream data from memory\n",
    "train_csv = data_stream.getvalue()"
   ]
  },
  {
   "cell_type": "code",
   "execution_count": 270,
   "metadata": {},
   "outputs": [
    {
     "data": {
      "text/plain": [
       "{'ResponseMetadata': {'RequestId': '2D32697A1395F4C3',\n",
       "  'HostId': 'ktBlOHIhGHVR9gVeMXGhcIge6l533dYgB8h3kVr27qTDAH2kfiQgwl6J2qg36RKNEbZgmSFD6+w=',\n",
       "  'HTTPStatusCode': 200,\n",
       "  'HTTPHeaders': {'x-amz-id-2': 'ktBlOHIhGHVR9gVeMXGhcIge6l533dYgB8h3kVr27qTDAH2kfiQgwl6J2qg36RKNEbZgmSFD6+w=',\n",
       "   'x-amz-request-id': '2D32697A1395F4C3',\n",
       "   'date': 'Thu, 24 Dec 2020 01:35:47 GMT',\n",
       "   'etag': '\"7f597b051396972da8fad7d702d6078f\"',\n",
       "   'content-length': '0',\n",
       "   'server': 'AmazonS3'},\n",
       "  'RetryAttempts': 0},\n",
       " 'ETag': '\"7f597b051396972da8fad7d702d6078f\"'}"
      ]
     },
     "execution_count": 270,
     "metadata": {},
     "output_type": "execute_result"
    }
   ],
   "source": [
    "# Upload to S3 bucket\n",
    "key = '{}/{}'.format(prefix, training_data_file)\n",
    "s3_client.put_object(Body=train_csv,\n",
    "                     Bucket=bucket, \n",
    "                     Key=key, \n",
    "                     ContentType='text/csv')"
   ]
  },
  {
   "cell_type": "markdown",
   "metadata": {},
   "source": [
    "#### Create baseline training dataset with ground truth (optional)\n",
    "##### Be sure to check hourly rates before running a model's Batch Transform job\n",
    "\n",
    "1. Amazon SageMaker > Batch transform jobs > Create batch transform job\n",
    "2. Input data configuration: Split type = Line || Content type = text/csv\n",
    "3. Output data configuration: Assemble with = Line || Accept = text/csv\n",
    "4. Input/output filtering and data joins: Join source = Input - merge input data with job output\n",
    "5. Download output file from S3, rename to .csv, open file\n",
    "6. Add a header row, copy/paste the headers from training_data_file\n",
    "7. Insert a new first column\n",
    "8. Shift/move last column to new first column and name as 'target'"
   ]
  },
  {
   "cell_type": "code",
   "execution_count": 271,
   "metadata": {},
   "outputs": [],
   "source": [
    "# Convert buyer zip_code samples to list\n",
    "samples = df.values.tolist()\n",
    "\n",
    "# Convert zip_code samples to list\n",
    "zip_samples = zip_features_df['zip_code'].values.tolist()"
   ]
  },
  {
   "cell_type": "markdown",
   "metadata": {},
   "source": [
    "#### Generate baseline data to trigger 'No Issues'"
   ]
  },
  {
   "cell_type": "code",
   "execution_count": 300,
   "metadata": {},
   "outputs": [
    {
     "name": "stdout",
     "output_type": "stream",
     "text": [
      "Sample 0 >> Input: [0, 5, 10, 0, 0, 0, 1, 0, 0, 0, 0, 0, 0, 0, 0, 0, 0, 0, 0, 0, 1, 0, 0, 0, 0, 0, 0, 0]: >> Prediction: 0.4805711507797241\n",
      "Sample 1 >> Input: [1, 7, 13, 0, 0, 0, 0, 0, 0, 0, 0, 0, 0, 0, 0, 0, 1, 0, 0, 0, 0, 0, 0, 0, 0, 1, 0, 0]: >> Prediction: 0.46936097741127014\n",
      "Sample 2 >> Input: [0, 4, 21, 0, 0, 0, 0, 0, 0, 0, 0, 0, 1, 0, 0, 0, 0, 0, 0, 0, 0, 0, 0, 0, 0, 0, 1, 0]: >> Prediction: 0.5250639915466309\n",
      "Sample 3 >> Input: [1, 7, 8, 0, 0, 1, 0, 0, 0, 0, 0, 0, 0, 0, 0, 0, 0, 0, 0, 0, 1, 0, 0, 0, 0, 0, 0, 0]: >> Prediction: 0.46936097741127014\n",
      "Sample 4 >> Input: [0, 3, 4, 0, 1, 0, 0, 0, 0, 0, 0, 0, 0, 0, 0, 0, 0, 0, 0, 0, 0, 0, 0, 1, 0, 0, 0, 0]: >> Prediction: 0.5310230255126953\n",
      "Sample 5 >> Input: [1, 7, 6, 0, 0, 0, 0, 0, 0, 0, 0, 0, 0, 0, 0, 0, 0, 1, 0, 0, 0, 1, 0, 0, 0, 0, 0, 0]: >> Prediction: 0.46936097741127014\n",
      "Sample 6 >> Input: [1, 5, 8, 0, 0, 0, 0, 0, 0, 0, 0, 0, 0, 0, 0, 0, 1, 0, 0, 0, 0, 1, 0, 0, 0, 0, 0, 0]: >> Prediction: 0.49675580859184265\n",
      "Sample 7 >> Input: [1, 5, 8, 0, 0, 0, 0, 0, 0, 0, 0, 0, 0, 0, 0, 0, 0, 1, 0, 0, 0, 0, 0, 1, 0, 0, 0, 0]: >> Prediction: 0.49675580859184265\n",
      "Sample 8 >> Input: [1, 6, 22, 0, 0, 0, 0, 0, 1, 0, 0, 0, 0, 0, 0, 0, 0, 0, 0, 0, 1, 0, 0, 0, 0, 0, 0, 0]: >> Prediction: 0.48939019441604614\n",
      "Sample 9 >> Input: [1, 6, 7, 1, 0, 0, 0, 0, 0, 0, 0, 0, 0, 0, 0, 0, 0, 0, 0, 0, 0, 1, 0, 0, 0, 0, 0, 0]: >> Prediction: 0.45879191160202026\n"
     ]
    }
   ],
   "source": [
    "# Replay the training dataset as sample inference data\n",
    "\n",
    "# Invoke real-time inference endpoint using baseline data\n",
    "for index, sample in enumerate(samples[0:10]):\n",
    "\n",
    "    # Removes the open/close bracket from string -- not required\n",
    "    # sample = str(sample)[1:-1] \n",
    "    \n",
    "    # Get inference response\n",
    "    response = predict(sample)\n",
    "    \n",
    "    # Display the model's prediction probability\n",
    "    print('Sample {0} >> Input: {1}: >> Prediction: {2}'.format(index, sample, response))\n",
    "    "
   ]
  },
  {
   "cell_type": "markdown",
   "metadata": {},
   "source": [
    "#### Generate data to induce data quality constraint violations"
   ]
  },
  {
   "cell_type": "code",
   "execution_count": 304,
   "metadata": {},
   "outputs": [
    {
     "name": "stdout",
     "output_type": "stream",
     "text": [
      "Sample 0 >> Input: 1,1,13,0,0,0,0,1,0,0,0,0,0,0,0,0,0,0,0,0,0,1,0,0,0,0,0,0: >> Prediction: 0.5332071781158447\n",
      "Sample 1 >> Input: 1,1,9,0,0,0,0,0,0,0,0,0,0,0,0,0,0,1,0,0,0,0,1,0,0,0,0,0: >> Prediction: 0.5360097289085388\n",
      "Sample 2 >> Input: 1,1,16,0,0,0,0,0,0,0,0,0,0,0,0,0,0,0,1,0,0,0,0,0,1,0,0,0: >> Prediction: 0.5332071781158447\n",
      "Sample 3 >> Input: 1,0,19,0,0,0,0,0,0,0,0,0,0,0,0,0,0,1,0,0,0,1,0,0,0,0,0,0: >> Prediction: 0.5304257273674011\n",
      "Sample 4 >> Input: 0,1,4,0,0,0,0,0,0,0,0,0,0,0,0,1,0,0,0,0,0,1,0,0,0,0,0,0: >> Prediction: 0.5410555005073547\n",
      "Sample 5 >> Input: 0,1,10,0,0,0,0,0,0,0,0,0,0,0,0,1,0,0,0,0,1,0,0,0,0,0,0,0: >> Prediction: 0.5360277891159058\n",
      "Sample 6 >> Input: 1,0,23,0,0,0,0,0,0,0,0,0,0,0,0,0,0,0,1,0,0,0,0,0,0,1,0,0: >> Prediction: 0.5373708009719849\n",
      "Sample 7 >> Input: 0,0,22,0,0,0,0,0,0,0,0,0,0,0,0,0,1,0,0,0,0,0,0,1,0,0,0,0: >> Prediction: 0.5401649475097656\n",
      "Sample 8 >> Input: 1,1,25,0,0,0,0,0,0,0,0,0,0,0,0,0,0,1,0,0,0,0,0,1,0,0,0,0: >> Prediction: 0.5373708009719849\n",
      "Sample 9 >> Input: 0,0,1,0,0,0,0,0,0,0,0,0,0,0,0,1,0,0,0,0,0,0,1,0,0,0,0,0: >> Prediction: 0.5188708305358887\n"
     ]
    }
   ],
   "source": [
    "# Get min/max ranges for 'gender', 'age_range', 'household_income_range'\n",
    "gender_min, gender_max = min(df['gender']), max(df['gender'])\n",
    "age_range_min, age_range_max = min(df['age_range']), max(df['age_range'])\n",
    "household_income_range_min, household_income_range_max = min(df['household_income_range']), max(df['household_income_range'])\n",
    "\n",
    "noise_factor = 1\n",
    "\n",
    "# Invoke real-time inference endpoint using baseline data\n",
    "for index in range(10):\n",
    "                \n",
    "    # Assign random values to each feature\n",
    "    gender = random.randint(gender_min, gender_max) * noise_factor\n",
    "    age_range = random.randint(gender_min, gender_max) * noise_factor\n",
    "    household_income_range = random.randint(household_income_range_min, household_income_range_max) * noise_factor\n",
    "\n",
    "    # Shuffle the zip code samples\n",
    "    random.shuffle(zip_samples)\n",
    "\n",
    "    # Get random zipcode value        \n",
    "    zip_features = get_zip_code_features(zip_features_df, zip_samples[0]) * noise_factor\n",
    "    zip_features = \",\".join(zip_features.astype(str))    \n",
    "\n",
    "    # format request data as comma-delimited string\n",
    "    sample = f'{gender},{age_range},{household_income_range},{zip_features}'\n",
    "\n",
    "    # Get inference response\n",
    "    response = predict(sample)\n",
    "    \n",
    "    # Display the model's prediction probability\n",
    "    print('Sample {0} >> Input: {1}: >> Prediction: {2}'.format(index, sample, response))\n"
   ]
  },
  {
   "cell_type": "markdown",
   "metadata": {},
   "source": [
    "#### Monitoring Schedule management"
   ]
  },
  {
   "cell_type": "code",
   "execution_count": null,
   "metadata": {},
   "outputs": [],
   "source": [
    "# !aws sagemaker describe-monitoring-schedule --monitoring-schedule-name 'third-party-model-data-quality-schedule'\n",
    "# !aws sagemaker list-monitoring-executions --monitoring-schedule-name 'third-party-model-data-quality-schedule'"
   ]
  },
  {
   "cell_type": "markdown",
   "metadata": {},
   "source": [
    "#### Resource Cleanup"
   ]
  },
  {
   "cell_type": "code",
   "execution_count": null,
   "metadata": {},
   "outputs": [],
   "source": [
    "# Step 1.\n",
    "# !aws sagemaker stop-monitoring-schedule --monitoring-schedule-name 'third-party-model-data-quality-schedule'\n",
    "# time.sleep(30) # allow time for processing\n",
    "# !aws sagemaker list-monitoring-schedules --endpoint-name 'third-party-model-endpoint'\n",
    "\n",
    "# Step 2.\n",
    "# !aws sagemaker delete-monitoring-schedule --monitoring-schedule-name 'third-party-model-data-quality-schedule'\n",
    "# time.sleep(30) # allow time for processing\n",
    "# !aws sagemaker list-monitoring-schedules --endpoint-name 'third-party-model-endpoint'\n",
    "\n",
    "# Step 3.\n",
    "# !aws sagemaker delete-endpoint --endpoint-name 'third-party-model-endpoint'\n",
    "# time.sleep(30) # allow time for processing\n",
    "# !aws sagemaker list-endpoints --name-contains 'third-party-model-endpoint'\n",
    "\n",
    "# Step 4.\n",
    "# !aws sagemaker delete-endpoint-config --endpoint-config-name 'third-party-model-endpoint-config'\n",
    "# time.sleep(30) # allow time for processing\n",
    "# !aws sagemaker list-endpoint-configs 'third-party-model-endpoint-config'\n",
    "\n",
    "# Step 5.\n",
    "# !aws sagemaker delete-model --model-name 'third-party-model'\n",
    "# time.sleep(30) # allow time for processing\n",
    "# !aws sagemaker list-models --name-contains 'third-party-model'"
   ]
  }
 ],
 "metadata": {
  "kernelspec": {
   "display_name": "conda_python3",
   "language": "python",
   "name": "conda_python3"
  },
  "language_info": {
   "codemirror_mode": {
    "name": "ipython",
    "version": 3
   },
   "file_extension": ".py",
   "mimetype": "text/x-python",
   "name": "python",
   "nbconvert_exporter": "python",
   "pygments_lexer": "ipython3",
   "version": "3.6.10"
  }
 },
 "nbformat": 4,
 "nbformat_minor": 2
}